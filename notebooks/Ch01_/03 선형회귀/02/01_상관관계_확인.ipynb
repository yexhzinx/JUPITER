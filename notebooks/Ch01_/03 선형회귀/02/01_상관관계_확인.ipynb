{
 "cells": [
  {
   "cell_type": "code",
   "execution_count": 1,
   "id": "27dd52b0-7599-4001-9934-839beb244f82",
   "metadata": {},
   "outputs": [],
   "source": [
    "# -----------------------------\n",
    "# 상관관계 확인(수치형)\n",
    "# -----------------------------\n",
    "import pandas as pd\n",
    "\n",
    "data = {\n",
    "    \"키\":[150,160,170,175,180],\n",
    "    \"몸무게\":[40,50,60,70,80]\n",
    "}\n",
    "\n",
    "df = pd.DataFrame(data)\n"
   ]
  },
  {
   "cell_type": "code",
   "execution_count": 2,
   "id": "fc4967bc-7841-4b11-8032-a4c52a7303dd",
   "metadata": {},
   "outputs": [
    {
     "name": "stdout",
     "output_type": "stream",
     "text": [
      "            키       몸무게\n",
      "키    1.000000  0.984798\n",
      "몸무게  0.984798  1.000000\n"
     ]
    }
   ],
   "source": [
    "# 상관계수 확인(기본 :피어슨 상관계수 -1 ~ 1 )\n",
    "# +1 에 가까울수록 양의 상관관계\n",
    "# -1 에 가까울수록 음의 상관관계\n",
    "# 0 에 가까울수록 상관이 거의없음\n",
    "correlation=df.corr() \n",
    "print(correlation)"
   ]
  },
  {
   "cell_type": "code",
   "execution_count": 3,
   "id": "a7de46f0-8ff1-415c-9a80-87b80f2789e9",
   "metadata": {},
   "outputs": [
    {
     "name": "stdout",
     "output_type": "stream",
     "text": [
      "            키       몸무게\n",
      "키    1.000000  0.984798\n",
      "몸무게  0.984798  1.000000\n",
      "       키  몸무게\n",
      "키    1.0  1.0\n",
      "몸무게  1.0  1.0\n",
      "       키  몸무게\n",
      "키    1.0  1.0\n",
      "몸무게  1.0  1.0\n"
     ]
    }
   ],
   "source": [
    "# 피어슨 상관계수(기본) - 선형관계가 얼마나 강한지 확인 / 곡선관계 확인은 힘들다\n",
    "print(df.corr())\n",
    "\n",
    "# 스피어맨 상관계수 - 순위(등수)를 기준으로 비교하는 방법 / 곡선관계도 확인 가능\n",
    "print(df.corr(method='spearman'))\n",
    "\n",
    "# 켄달타우 상관계수 - 순위(등수)를 기준으로 비교하는 방법(순서쌍을 만들어서 비교) / 곡선관계도 확인 가능\n",
    "print(df.corr(method='kendall'))"
   ]
  },
  {
   "cell_type": "code",
   "execution_count": null,
   "id": "59ec06a5-7492-4d69-8c54-eaa51cbfcbc1",
   "metadata": {},
   "outputs": [],
   "source": []
  },
  {
   "cell_type": "code",
   "execution_count": 4,
   "id": "2881c718-bf20-4be6-a0bf-c8d1a9a2b09d",
   "metadata": {},
   "outputs": [
    {
     "name": "stdout",
     "output_type": "stream",
     "text": [
      "PearsonRResult(statistic=0.984798246447919, pvalue=0.002244820403552178)\n",
      "SignificanceResult(statistic=0.9999999999999999, pvalue=1.4042654220543672e-24)\n",
      "SignificanceResult(statistic=0.9999999999999999, pvalue=0.016666666666666666)\n"
     ]
    }
   ],
   "source": [
    "from scipy import stats\n",
    "# 피어슨 상관계수와 p-value 계산\n",
    "print(stats.pearsonr(df['몸무게'], df['키']))\n",
    "\n",
    "# 스피어맨 상관계수와 p-value 계산\n",
    "print(stats.spearmanr(df['몸무게'], df['키']))\n",
    "\n",
    "# 켄달타우 상관계수와 p-value 계산\n",
    "print(stats.kendalltau(df['몸무게'], df['키']))\n",
    "\n",
    "# statistic : 상관계수\n",
    "# pValue : 유의확률(관련이 있을 확률) ,낮을수록 좋다 "
   ]
  }
 ],
 "metadata": {
  "kernelspec": {
   "display_name": "Python 3 (ipykernel)",
   "language": "python",
   "name": "python3"
  },
  "language_info": {
   "codemirror_mode": {
    "name": "ipython",
    "version": 3
   },
   "file_extension": ".py",
   "mimetype": "text/x-python",
   "name": "python",
   "nbconvert_exporter": "python",
   "pygments_lexer": "ipython3",
   "version": "3.11.6"
  }
 },
 "nbformat": 4,
 "nbformat_minor": 5
}
