{
 "cells": [
  {
   "cell_type": "code",
   "execution_count": null,
   "id": "204996e9-d415-4a14-809c-c9009ad961ab",
   "metadata": {},
   "outputs": [],
   "source": [
    "# ---------------------------------\n",
    "# 문제정의\n",
    "# ---------------------------------\n",
    "# 주어진 제품 및 매장 특성들을(X값,컬럼) 기반으로 판매 금액(Item_Outlet_Sales)을 예측하기"
   ]
  },
  {
   "cell_type": "code",
   "execution_count": null,
   "id": "ebe7e204-d2df-462c-a6a8-f54a64b73173",
   "metadata": {},
   "outputs": [],
   "source": [
    "# ---------------------------------\n",
    "# 라이브러리 가져오기\n",
    "# ---------------------------------"
   ]
  },
  {
   "cell_type": "code",
   "execution_count": 1,
   "id": "e6e78bc7-fab8-404e-9722-2a0e6b547546",
   "metadata": {},
   "outputs": [],
   "source": [
    "import pandas as pd\n",
    "train = pd.read_csv(\"train.csv\")\n",
    "test = pd.read_csv(\"test.csv\")\n",
    "\n",
    "# train = pd.read_csv(\"https://raw.githubusercontent.com/lovedlim/bigdata_analyst_cert/main/part2/ch4/train.csv\")\n",
    "# test = pd.read_csv(\"https://raw.githubusercontent.com/lovedlim/bigdata_analyst_cert/main/part2/ch4/test.csv\")\n"
   ]
  },
  {
   "cell_type": "code",
   "execution_count": 2,
   "id": "31b5a360-ec1c-479c-8ce7-d2173cbbe08c",
   "metadata": {},
   "outputs": [],
   "source": [
    "# ---------------------------------\n",
    "# EDA\n",
    "# ---------------------------------"
   ]
  },
  {
   "cell_type": "code",
   "execution_count": 3,
   "id": "f6603abe-e33d-4d30-83fa-6d356f3e2ce0",
   "metadata": {},
   "outputs": [
    {
     "data": {
      "text/html": [
       "<div>\n",
       "<style scoped>\n",
       "    .dataframe tbody tr th:only-of-type {\n",
       "        vertical-align: middle;\n",
       "    }\n",
       "\n",
       "    .dataframe tbody tr th {\n",
       "        vertical-align: top;\n",
       "    }\n",
       "\n",
       "    .dataframe thead th {\n",
       "        text-align: right;\n",
       "    }\n",
       "</style>\n",
       "<table border=\"1\" class=\"dataframe\">\n",
       "  <thead>\n",
       "    <tr style=\"text-align: right;\">\n",
       "      <th></th>\n",
       "      <th>Item_Identifier</th>\n",
       "      <th>Item_Weight</th>\n",
       "      <th>Item_Fat_Content</th>\n",
       "      <th>Item_Visibility</th>\n",
       "      <th>Item_Type</th>\n",
       "      <th>Item_MRP</th>\n",
       "      <th>Outlet_Identifier</th>\n",
       "      <th>Outlet_Establishment_Year</th>\n",
       "      <th>Outlet_Size</th>\n",
       "      <th>Outlet_Location_Type</th>\n",
       "      <th>Outlet_Type</th>\n",
       "      <th>Item_Outlet_Sales</th>\n",
       "    </tr>\n",
       "  </thead>\n",
       "  <tbody>\n",
       "    <tr>\n",
       "      <th>2022</th>\n",
       "      <td>FDW49</td>\n",
       "      <td>NaN</td>\n",
       "      <td>Low Fat</td>\n",
       "      <td>0.144538</td>\n",
       "      <td>Canned</td>\n",
       "      <td>180.6002</td>\n",
       "      <td>OUT019</td>\n",
       "      <td>1985</td>\n",
       "      <td>Small</td>\n",
       "      <td>Tier 1</td>\n",
       "      <td>Grocery Store</td>\n",
       "      <td>895.5010</td>\n",
       "    </tr>\n",
       "    <tr>\n",
       "      <th>2110</th>\n",
       "      <td>NCV42</td>\n",
       "      <td>6.26</td>\n",
       "      <td>Low Fat</td>\n",
       "      <td>0.031600</td>\n",
       "      <td>Household</td>\n",
       "      <td>111.3228</td>\n",
       "      <td>OUT017</td>\n",
       "      <td>2007</td>\n",
       "      <td>NaN</td>\n",
       "      <td>Tier 2</td>\n",
       "      <td>Supermarket Type1</td>\n",
       "      <td>2431.5016</td>\n",
       "    </tr>\n",
       "    <tr>\n",
       "      <th>3745</th>\n",
       "      <td>FDX55</td>\n",
       "      <td>15.10</td>\n",
       "      <td>Low Fat</td>\n",
       "      <td>0.000000</td>\n",
       "      <td>Fruits and Vegetables</td>\n",
       "      <td>216.4166</td>\n",
       "      <td>OUT045</td>\n",
       "      <td>2002</td>\n",
       "      <td>NaN</td>\n",
       "      <td>Tier 2</td>\n",
       "      <td>Supermarket Type1</td>\n",
       "      <td>2830.3158</td>\n",
       "    </tr>\n",
       "    <tr>\n",
       "      <th>1151</th>\n",
       "      <td>NCA29</td>\n",
       "      <td>10.50</td>\n",
       "      <td>Low Fat</td>\n",
       "      <td>0.027431</td>\n",
       "      <td>Household</td>\n",
       "      <td>171.1106</td>\n",
       "      <td>OUT017</td>\n",
       "      <td>2007</td>\n",
       "      <td>NaN</td>\n",
       "      <td>Tier 2</td>\n",
       "      <td>Supermarket Type1</td>\n",
       "      <td>3593.3226</td>\n",
       "    </tr>\n",
       "    <tr>\n",
       "      <th>4393</th>\n",
       "      <td>NCS38</td>\n",
       "      <td>8.60</td>\n",
       "      <td>Low Fat</td>\n",
       "      <td>0.090191</td>\n",
       "      <td>Household</td>\n",
       "      <td>112.9176</td>\n",
       "      <td>OUT046</td>\n",
       "      <td>1997</td>\n",
       "      <td>Small</td>\n",
       "      <td>Tier 1</td>\n",
       "      <td>Supermarket Type1</td>\n",
       "      <td>458.0704</td>\n",
       "    </tr>\n",
       "  </tbody>\n",
       "</table>\n",
       "</div>"
      ],
      "text/plain": [
       "     Item_Identifier  Item_Weight Item_Fat_Content  Item_Visibility  \\\n",
       "2022           FDW49          NaN          Low Fat         0.144538   \n",
       "2110           NCV42         6.26          Low Fat         0.031600   \n",
       "3745           FDX55        15.10          Low Fat         0.000000   \n",
       "1151           NCA29        10.50          Low Fat         0.027431   \n",
       "4393           NCS38         8.60          Low Fat         0.090191   \n",
       "\n",
       "                  Item_Type  Item_MRP Outlet_Identifier  \\\n",
       "2022                 Canned  180.6002            OUT019   \n",
       "2110              Household  111.3228            OUT017   \n",
       "3745  Fruits and Vegetables  216.4166            OUT045   \n",
       "1151              Household  171.1106            OUT017   \n",
       "4393              Household  112.9176            OUT046   \n",
       "\n",
       "      Outlet_Establishment_Year Outlet_Size Outlet_Location_Type  \\\n",
       "2022                       1985       Small               Tier 1   \n",
       "2110                       2007         NaN               Tier 2   \n",
       "3745                       2002         NaN               Tier 2   \n",
       "1151                       2007         NaN               Tier 2   \n",
       "4393                       1997       Small               Tier 1   \n",
       "\n",
       "            Outlet_Type  Item_Outlet_Sales  \n",
       "2022      Grocery Store           895.5010  \n",
       "2110  Supermarket Type1          2431.5016  \n",
       "3745  Supermarket Type1          2830.3158  \n",
       "1151  Supermarket Type1          3593.3226  \n",
       "4393  Supermarket Type1           458.0704  "
      ]
     },
     "execution_count": 3,
     "metadata": {},
     "output_type": "execute_result"
    }
   ],
   "source": [
    "# train.head()\n",
    "# train.tail()\n",
    "train.sample(5)"
   ]
  },
  {
   "cell_type": "code",
   "execution_count": 4,
   "id": "74e6589d-04c2-4f90-a665-2456d88b0816",
   "metadata": {},
   "outputs": [
    {
     "data": {
      "text/plain": [
       "((6818, 12), (1705, 11))"
      ]
     },
     "execution_count": 4,
     "metadata": {},
     "output_type": "execute_result"
    }
   ],
   "source": [
    "train.shape, test.shape"
   ]
  },
  {
   "cell_type": "code",
   "execution_count": 5,
   "id": "303cfecd-3687-45ac-b58a-7c79027aec26",
   "metadata": {},
   "outputs": [
    {
     "name": "stdout",
     "output_type": "stream",
     "text": [
      "<class 'pandas.core.frame.DataFrame'>\n",
      "RangeIndex: 6818 entries, 0 to 6817\n",
      "Data columns (total 12 columns):\n",
      " #   Column                     Non-Null Count  Dtype  \n",
      "---  ------                     --------------  -----  \n",
      " 0   Item_Identifier            6818 non-null   object \n",
      " 1   Item_Weight                5656 non-null   float64\n",
      " 2   Item_Fat_Content           6818 non-null   object \n",
      " 3   Item_Visibility            6818 non-null   float64\n",
      " 4   Item_Type                  6818 non-null   object \n",
      " 5   Item_MRP                   6818 non-null   float64\n",
      " 6   Outlet_Identifier          6818 non-null   object \n",
      " 7   Outlet_Establishment_Year  6818 non-null   int64  \n",
      " 8   Outlet_Size                4878 non-null   object \n",
      " 9   Outlet_Location_Type       6818 non-null   object \n",
      " 10  Outlet_Type                6818 non-null   object \n",
      " 11  Item_Outlet_Sales          6818 non-null   float64\n",
      "dtypes: float64(4), int64(1), object(7)\n",
      "memory usage: 639.3+ KB\n"
     ]
    }
   ],
   "source": [
    "train.info()"
   ]
  },
  {
   "cell_type": "code",
   "execution_count": 6,
   "id": "291b0690-5615-4677-9e7e-b39ed966ebb1",
   "metadata": {},
   "outputs": [
    {
     "name": "stdout",
     "output_type": "stream",
     "text": [
      "<class 'pandas.core.frame.DataFrame'>\n",
      "RangeIndex: 1705 entries, 0 to 1704\n",
      "Data columns (total 11 columns):\n",
      " #   Column                     Non-Null Count  Dtype  \n",
      "---  ------                     --------------  -----  \n",
      " 0   Item_Identifier            1705 non-null   object \n",
      " 1   Item_Weight                1404 non-null   float64\n",
      " 2   Item_Fat_Content           1705 non-null   object \n",
      " 3   Item_Visibility            1705 non-null   float64\n",
      " 4   Item_Type                  1705 non-null   object \n",
      " 5   Item_MRP                   1705 non-null   float64\n",
      " 6   Outlet_Identifier          1705 non-null   object \n",
      " 7   Outlet_Establishment_Year  1705 non-null   int64  \n",
      " 8   Outlet_Size                1235 non-null   object \n",
      " 9   Outlet_Location_Type       1705 non-null   object \n",
      " 10  Outlet_Type                1705 non-null   object \n",
      "dtypes: float64(3), int64(1), object(7)\n",
      "memory usage: 146.7+ KB\n"
     ]
    }
   ],
   "source": [
    "test.info()"
   ]
  },
  {
   "cell_type": "code",
   "execution_count": 7,
   "id": "10c630b3-6786-4faa-babf-59f6c41e4ae1",
   "metadata": {},
   "outputs": [
    {
     "data": {
      "text/html": [
       "<div>\n",
       "<style scoped>\n",
       "    .dataframe tbody tr th:only-of-type {\n",
       "        vertical-align: middle;\n",
       "    }\n",
       "\n",
       "    .dataframe tbody tr th {\n",
       "        vertical-align: top;\n",
       "    }\n",
       "\n",
       "    .dataframe thead th {\n",
       "        text-align: right;\n",
       "    }\n",
       "</style>\n",
       "<table border=\"1\" class=\"dataframe\">\n",
       "  <thead>\n",
       "    <tr style=\"text-align: right;\">\n",
       "      <th></th>\n",
       "      <th>Item_Weight</th>\n",
       "      <th>Item_Visibility</th>\n",
       "      <th>Item_MRP</th>\n",
       "      <th>Outlet_Establishment_Year</th>\n",
       "      <th>Item_Outlet_Sales</th>\n",
       "    </tr>\n",
       "  </thead>\n",
       "  <tbody>\n",
       "    <tr>\n",
       "      <th>count</th>\n",
       "      <td>5656.000000</td>\n",
       "      <td>6818.000000</td>\n",
       "      <td>6818.000000</td>\n",
       "      <td>6818.000000</td>\n",
       "      <td>6818.000000</td>\n",
       "    </tr>\n",
       "    <tr>\n",
       "      <th>mean</th>\n",
       "      <td>12.872703</td>\n",
       "      <td>0.066121</td>\n",
       "      <td>140.419533</td>\n",
       "      <td>1997.885890</td>\n",
       "      <td>2190.941459</td>\n",
       "    </tr>\n",
       "    <tr>\n",
       "      <th>std</th>\n",
       "      <td>4.651034</td>\n",
       "      <td>0.051383</td>\n",
       "      <td>62.067861</td>\n",
       "      <td>8.339795</td>\n",
       "      <td>1706.131256</td>\n",
       "    </tr>\n",
       "    <tr>\n",
       "      <th>min</th>\n",
       "      <td>4.555000</td>\n",
       "      <td>0.000000</td>\n",
       "      <td>31.290000</td>\n",
       "      <td>1985.000000</td>\n",
       "      <td>33.290000</td>\n",
       "    </tr>\n",
       "    <tr>\n",
       "      <th>25%</th>\n",
       "      <td>8.785000</td>\n",
       "      <td>0.026914</td>\n",
       "      <td>93.610050</td>\n",
       "      <td>1987.000000</td>\n",
       "      <td>836.577700</td>\n",
       "    </tr>\n",
       "    <tr>\n",
       "      <th>50%</th>\n",
       "      <td>12.600000</td>\n",
       "      <td>0.053799</td>\n",
       "      <td>142.448300</td>\n",
       "      <td>1999.000000</td>\n",
       "      <td>1806.648300</td>\n",
       "    </tr>\n",
       "    <tr>\n",
       "      <th>75%</th>\n",
       "      <td>17.000000</td>\n",
       "      <td>0.095273</td>\n",
       "      <td>185.060150</td>\n",
       "      <td>2004.000000</td>\n",
       "      <td>3115.944000</td>\n",
       "    </tr>\n",
       "    <tr>\n",
       "      <th>max</th>\n",
       "      <td>21.350000</td>\n",
       "      <td>0.328391</td>\n",
       "      <td>266.888400</td>\n",
       "      <td>2009.000000</td>\n",
       "      <td>13086.964800</td>\n",
       "    </tr>\n",
       "  </tbody>\n",
       "</table>\n",
       "</div>"
      ],
      "text/plain": [
       "       Item_Weight  Item_Visibility     Item_MRP  Outlet_Establishment_Year  \\\n",
       "count  5656.000000      6818.000000  6818.000000                6818.000000   \n",
       "mean     12.872703         0.066121   140.419533                1997.885890   \n",
       "std       4.651034         0.051383    62.067861                   8.339795   \n",
       "min       4.555000         0.000000    31.290000                1985.000000   \n",
       "25%       8.785000         0.026914    93.610050                1987.000000   \n",
       "50%      12.600000         0.053799   142.448300                1999.000000   \n",
       "75%      17.000000         0.095273   185.060150                2004.000000   \n",
       "max      21.350000         0.328391   266.888400                2009.000000   \n",
       "\n",
       "       Item_Outlet_Sales  \n",
       "count        6818.000000  \n",
       "mean         2190.941459  \n",
       "std          1706.131256  \n",
       "min            33.290000  \n",
       "25%           836.577700  \n",
       "50%          1806.648300  \n",
       "75%          3115.944000  \n",
       "max         13086.964800  "
      ]
     },
     "execution_count": 7,
     "metadata": {},
     "output_type": "execute_result"
    }
   ],
   "source": [
    "train.describe()"
   ]
  },
  {
   "cell_type": "code",
   "execution_count": 8,
   "id": "d627b578-ec5b-4b2e-a28c-9c28d28a6428",
   "metadata": {},
   "outputs": [
    {
     "data": {
      "text/html": [
       "<div>\n",
       "<style scoped>\n",
       "    .dataframe tbody tr th:only-of-type {\n",
       "        vertical-align: middle;\n",
       "    }\n",
       "\n",
       "    .dataframe tbody tr th {\n",
       "        vertical-align: top;\n",
       "    }\n",
       "\n",
       "    .dataframe thead th {\n",
       "        text-align: right;\n",
       "    }\n",
       "</style>\n",
       "<table border=\"1\" class=\"dataframe\">\n",
       "  <thead>\n",
       "    <tr style=\"text-align: right;\">\n",
       "      <th></th>\n",
       "      <th>Item_Weight</th>\n",
       "      <th>Item_Visibility</th>\n",
       "      <th>Item_MRP</th>\n",
       "      <th>Outlet_Establishment_Year</th>\n",
       "    </tr>\n",
       "  </thead>\n",
       "  <tbody>\n",
       "    <tr>\n",
       "      <th>count</th>\n",
       "      <td>1404.000000</td>\n",
       "      <td>1705.000000</td>\n",
       "      <td>1705.000000</td>\n",
       "      <td>1705.000000</td>\n",
       "    </tr>\n",
       "    <tr>\n",
       "      <th>mean</th>\n",
       "      <td>12.796984</td>\n",
       "      <td>0.066174</td>\n",
       "      <td>143.285107</td>\n",
       "      <td>1997.615836</td>\n",
       "    </tr>\n",
       "    <tr>\n",
       "      <th>std</th>\n",
       "      <td>4.613957</td>\n",
       "      <td>0.052465</td>\n",
       "      <td>63.063146</td>\n",
       "      <td>8.497423</td>\n",
       "    </tr>\n",
       "    <tr>\n",
       "      <th>min</th>\n",
       "      <td>4.555000</td>\n",
       "      <td>0.000000</td>\n",
       "      <td>31.955800</td>\n",
       "      <td>1985.000000</td>\n",
       "    </tr>\n",
       "    <tr>\n",
       "      <th>25%</th>\n",
       "      <td>8.710000</td>\n",
       "      <td>0.027571</td>\n",
       "      <td>94.743600</td>\n",
       "      <td>1987.000000</td>\n",
       "    </tr>\n",
       "    <tr>\n",
       "      <th>50%</th>\n",
       "      <td>12.600000</td>\n",
       "      <td>0.054234</td>\n",
       "      <td>144.512800</td>\n",
       "      <td>1999.000000</td>\n",
       "    </tr>\n",
       "    <tr>\n",
       "      <th>75%</th>\n",
       "      <td>16.700000</td>\n",
       "      <td>0.092927</td>\n",
       "      <td>187.755600</td>\n",
       "      <td>2004.000000</td>\n",
       "    </tr>\n",
       "    <tr>\n",
       "      <th>max</th>\n",
       "      <td>21.350000</td>\n",
       "      <td>0.311090</td>\n",
       "      <td>266.888400</td>\n",
       "      <td>2009.000000</td>\n",
       "    </tr>\n",
       "  </tbody>\n",
       "</table>\n",
       "</div>"
      ],
      "text/plain": [
       "       Item_Weight  Item_Visibility     Item_MRP  Outlet_Establishment_Year\n",
       "count  1404.000000      1705.000000  1705.000000                1705.000000\n",
       "mean     12.796984         0.066174   143.285107                1997.615836\n",
       "std       4.613957         0.052465    63.063146                   8.497423\n",
       "min       4.555000         0.000000    31.955800                1985.000000\n",
       "25%       8.710000         0.027571    94.743600                1987.000000\n",
       "50%      12.600000         0.054234   144.512800                1999.000000\n",
       "75%      16.700000         0.092927   187.755600                2004.000000\n",
       "max      21.350000         0.311090   266.888400                2009.000000"
      ]
     },
     "execution_count": 8,
     "metadata": {},
     "output_type": "execute_result"
    }
   ],
   "source": [
    "test.describe()"
   ]
  },
  {
   "cell_type": "code",
   "execution_count": 9,
   "id": "2f6e1562-555b-4f65-a7d6-a19523a6a809",
   "metadata": {},
   "outputs": [
    {
     "data": {
      "text/html": [
       "<div>\n",
       "<style scoped>\n",
       "    .dataframe tbody tr th:only-of-type {\n",
       "        vertical-align: middle;\n",
       "    }\n",
       "\n",
       "    .dataframe tbody tr th {\n",
       "        vertical-align: top;\n",
       "    }\n",
       "\n",
       "    .dataframe thead th {\n",
       "        text-align: right;\n",
       "    }\n",
       "</style>\n",
       "<table border=\"1\" class=\"dataframe\">\n",
       "  <thead>\n",
       "    <tr style=\"text-align: right;\">\n",
       "      <th></th>\n",
       "      <th>Item_Identifier</th>\n",
       "      <th>Item_Fat_Content</th>\n",
       "      <th>Item_Type</th>\n",
       "      <th>Outlet_Identifier</th>\n",
       "      <th>Outlet_Size</th>\n",
       "      <th>Outlet_Location_Type</th>\n",
       "      <th>Outlet_Type</th>\n",
       "    </tr>\n",
       "  </thead>\n",
       "  <tbody>\n",
       "    <tr>\n",
       "      <th>count</th>\n",
       "      <td>6818</td>\n",
       "      <td>6818</td>\n",
       "      <td>6818</td>\n",
       "      <td>6818</td>\n",
       "      <td>4878</td>\n",
       "      <td>6818</td>\n",
       "      <td>6818</td>\n",
       "    </tr>\n",
       "    <tr>\n",
       "      <th>unique</th>\n",
       "      <td>1554</td>\n",
       "      <td>5</td>\n",
       "      <td>16</td>\n",
       "      <td>10</td>\n",
       "      <td>3</td>\n",
       "      <td>3</td>\n",
       "      <td>4</td>\n",
       "    </tr>\n",
       "    <tr>\n",
       "      <th>top</th>\n",
       "      <td>FDW26</td>\n",
       "      <td>Low Fat</td>\n",
       "      <td>Snack Foods</td>\n",
       "      <td>OUT046</td>\n",
       "      <td>Medium</td>\n",
       "      <td>Tier 3</td>\n",
       "      <td>Supermarket Type1</td>\n",
       "    </tr>\n",
       "    <tr>\n",
       "      <th>freq</th>\n",
       "      <td>9</td>\n",
       "      <td>4092</td>\n",
       "      <td>963</td>\n",
       "      <td>763</td>\n",
       "      <td>2228</td>\n",
       "      <td>2664</td>\n",
       "      <td>4474</td>\n",
       "    </tr>\n",
       "  </tbody>\n",
       "</table>\n",
       "</div>"
      ],
      "text/plain": [
       "       Item_Identifier Item_Fat_Content    Item_Type Outlet_Identifier  \\\n",
       "count             6818             6818         6818              6818   \n",
       "unique            1554                5           16                10   \n",
       "top              FDW26          Low Fat  Snack Foods            OUT046   \n",
       "freq                 9             4092          963               763   \n",
       "\n",
       "       Outlet_Size Outlet_Location_Type        Outlet_Type  \n",
       "count         4878                 6818               6818  \n",
       "unique           3                    3                  4  \n",
       "top         Medium               Tier 3  Supermarket Type1  \n",
       "freq          2228                 2664               4474  "
      ]
     },
     "execution_count": 9,
     "metadata": {},
     "output_type": "execute_result"
    }
   ],
   "source": [
    "train.describe(include='O')"
   ]
  },
  {
   "cell_type": "code",
   "execution_count": 10,
   "id": "37b6b307-5cbf-46db-a3ae-91c9c5c65593",
   "metadata": {},
   "outputs": [
    {
     "data": {
      "text/plain": [
       "Item_Identifier                 0\n",
       "Item_Weight                  1162\n",
       "Item_Fat_Content                0\n",
       "Item_Visibility                 0\n",
       "Item_Type                       0\n",
       "Item_MRP                        0\n",
       "Outlet_Identifier               0\n",
       "Outlet_Establishment_Year       0\n",
       "Outlet_Size                  1940\n",
       "Outlet_Location_Type            0\n",
       "Outlet_Type                     0\n",
       "Item_Outlet_Sales               0\n",
       "dtype: int64"
      ]
     },
     "execution_count": 10,
     "metadata": {},
     "output_type": "execute_result"
    }
   ],
   "source": [
    "train.isnull().sum()"
   ]
  },
  {
   "cell_type": "code",
   "execution_count": 11,
   "id": "bcee3c15-8b24-4886-9489-0450f84d1968",
   "metadata": {},
   "outputs": [
    {
     "data": {
      "text/plain": [
       "Item_Identifier                0\n",
       "Item_Weight                  301\n",
       "Item_Fat_Content               0\n",
       "Item_Visibility                0\n",
       "Item_Type                      0\n",
       "Item_MRP                       0\n",
       "Outlet_Identifier              0\n",
       "Outlet_Establishment_Year      0\n",
       "Outlet_Size                  470\n",
       "Outlet_Location_Type           0\n",
       "Outlet_Type                    0\n",
       "dtype: int64"
      ]
     },
     "execution_count": 11,
     "metadata": {},
     "output_type": "execute_result"
    }
   ],
   "source": [
    "test.isnull().sum()"
   ]
  },
  {
   "cell_type": "code",
   "execution_count": 12,
   "id": "a156bb33-d457-4786-9eec-d2dd15052c64",
   "metadata": {},
   "outputs": [
    {
     "data": {
      "text/plain": [
       "3102"
      ]
     },
     "execution_count": 12,
     "metadata": {},
     "output_type": "execute_result"
    }
   ],
   "source": [
    "train.isnull().sum().sum()"
   ]
  },
  {
   "cell_type": "code",
   "execution_count": 13,
   "id": "aa0c6078-6852-47ad-be53-09ca10a3905b",
   "metadata": {},
   "outputs": [
    {
     "data": {
      "text/plain": [
       "771"
      ]
     },
     "execution_count": 13,
     "metadata": {},
     "output_type": "execute_result"
    }
   ],
   "source": [
    "test.isnull().sum().sum()"
   ]
  },
  {
   "cell_type": "code",
   "execution_count": 14,
   "id": "a971ea7f-6fe5-4e92-9bfa-44ed7e976e07",
   "metadata": {},
   "outputs": [],
   "source": [
    "# ---------------------------------\n",
    "# 데이터 전처리\n",
    "# ---------------------------------"
   ]
  },
  {
   "cell_type": "code",
   "execution_count": 15,
   "id": "39dbbc72-2259-41a1-b53e-4bfb86deeaf8",
   "metadata": {},
   "outputs": [
    {
     "data": {
      "text/plain": [
       "0        639.1680\n",
       "1        990.7104\n",
       "2       2799.6890\n",
       "3       1176.4686\n",
       "4       3418.8830\n",
       "          ...    \n",
       "6813    3615.2940\n",
       "6814     923.4646\n",
       "6815    2530.7058\n",
       "6816     818.9340\n",
       "6817    1973.4312\n",
       "Name: Item_Outlet_Sales, Length: 6818, dtype: float64"
      ]
     },
     "execution_count": 15,
     "metadata": {},
     "output_type": "execute_result"
    }
   ],
   "source": [
    "# y값 분할 \n",
    "target = train.pop('Item_Outlet_Sales')\n",
    "target"
   ]
  },
  {
   "cell_type": "code",
   "execution_count": 16,
   "id": "6233ff92-b286-481c-b0ff-89dd098f003e",
   "metadata": {},
   "outputs": [],
   "source": [
    "# 결측값 채우기(무게 : 최소값 , 사이즈 : 최빈값)\n",
    "\n",
    "train['Item_Weight'] = train['Item_Weight'].fillna(train['Item_Weight'].min())\n",
    "train['Outlet_Size'] = train['Outlet_Size'].fillna(train['Outlet_Size'].mode()[0])\n",
    "\n",
    "test['Item_Weight'] = test['Item_Weight'].fillna(test['Item_Weight'].min())\n",
    "test['Outlet_Size'] = test['Outlet_Size'].fillna(test['Outlet_Size'].mode()[0])\n"
   ]
  },
  {
   "cell_type": "code",
   "execution_count": 17,
   "id": "5825d4ab-db09-45f5-8c18-1cf46a8c2521",
   "metadata": {},
   "outputs": [],
   "source": [
    "# 이상치 - 생략"
   ]
  },
  {
   "cell_type": "code",
   "execution_count": 18,
   "id": "734fe155-dcaa-41c4-b694-0a20e1dbe166",
   "metadata": {},
   "outputs": [],
   "source": [
    "# 레이블인코딩"
   ]
  },
  {
   "cell_type": "code",
   "execution_count": 19,
   "id": "cf727dfc-e18e-43a5-908e-27c1fb702560",
   "metadata": {},
   "outputs": [],
   "source": [
    "from sklearn.preprocessing import LabelEncoder\n",
    "\n",
    "cols = train.columns[train.dtypes == object]\n",
    "\n",
    "for col in cols:\n",
    "    le = LabelEncoder()\n",
    "    le.fit(pd.concat([train[col],test[col]] ,axis=0)) # 행합치기\n",
    "    train[col] = le.transform(train[col])\n",
    "    test[col] = le.transform(test[col])"
   ]
  },
  {
   "cell_type": "code",
   "execution_count": 20,
   "id": "7a44dcb7-ce21-49eb-a4fb-6913c2c985ef",
   "metadata": {},
   "outputs": [
    {
     "data": {
      "text/html": [
       "<div>\n",
       "<style scoped>\n",
       "    .dataframe tbody tr th:only-of-type {\n",
       "        vertical-align: middle;\n",
       "    }\n",
       "\n",
       "    .dataframe tbody tr th {\n",
       "        vertical-align: top;\n",
       "    }\n",
       "\n",
       "    .dataframe thead th {\n",
       "        text-align: right;\n",
       "    }\n",
       "</style>\n",
       "<table border=\"1\" class=\"dataframe\">\n",
       "  <thead>\n",
       "    <tr style=\"text-align: right;\">\n",
       "      <th></th>\n",
       "      <th>Item_Identifier</th>\n",
       "      <th>Item_Weight</th>\n",
       "      <th>Item_Fat_Content</th>\n",
       "      <th>Item_Visibility</th>\n",
       "      <th>Item_Type</th>\n",
       "      <th>Item_MRP</th>\n",
       "      <th>Outlet_Identifier</th>\n",
       "      <th>Outlet_Establishment_Year</th>\n",
       "      <th>Outlet_Size</th>\n",
       "      <th>Outlet_Location_Type</th>\n",
       "      <th>Outlet_Type</th>\n",
       "    </tr>\n",
       "  </thead>\n",
       "  <tbody>\n",
       "    <tr>\n",
       "      <th>0</th>\n",
       "      <td>717</td>\n",
       "      <td>17.250</td>\n",
       "      <td>1</td>\n",
       "      <td>0.073251</td>\n",
       "      <td>3</td>\n",
       "      <td>76.4986</td>\n",
       "      <td>2</td>\n",
       "      <td>2007</td>\n",
       "      <td>1</td>\n",
       "      <td>1</td>\n",
       "      <td>1</td>\n",
       "    </tr>\n",
       "    <tr>\n",
       "      <th>1</th>\n",
       "      <td>712</td>\n",
       "      <td>6.360</td>\n",
       "      <td>1</td>\n",
       "      <td>0.120544</td>\n",
       "      <td>6</td>\n",
       "      <td>45.8060</td>\n",
       "      <td>8</td>\n",
       "      <td>1997</td>\n",
       "      <td>2</td>\n",
       "      <td>0</td>\n",
       "      <td>1</td>\n",
       "    </tr>\n",
       "    <tr>\n",
       "      <th>2</th>\n",
       "      <td>928</td>\n",
       "      <td>10.695</td>\n",
       "      <td>2</td>\n",
       "      <td>0.128247</td>\n",
       "      <td>4</td>\n",
       "      <td>121.8440</td>\n",
       "      <td>3</td>\n",
       "      <td>2009</td>\n",
       "      <td>1</td>\n",
       "      <td>2</td>\n",
       "      <td>2</td>\n",
       "    </tr>\n",
       "    <tr>\n",
       "      <th>3</th>\n",
       "      <td>423</td>\n",
       "      <td>7.405</td>\n",
       "      <td>1</td>\n",
       "      <td>0.015296</td>\n",
       "      <td>3</td>\n",
       "      <td>89.7146</td>\n",
       "      <td>9</td>\n",
       "      <td>1999</td>\n",
       "      <td>1</td>\n",
       "      <td>0</td>\n",
       "      <td>1</td>\n",
       "    </tr>\n",
       "    <tr>\n",
       "      <th>4</th>\n",
       "      <td>828</td>\n",
       "      <td>10.500</td>\n",
       "      <td>2</td>\n",
       "      <td>0.142760</td>\n",
       "      <td>1</td>\n",
       "      <td>159.3578</td>\n",
       "      <td>9</td>\n",
       "      <td>1999</td>\n",
       "      <td>1</td>\n",
       "      <td>0</td>\n",
       "      <td>1</td>\n",
       "    </tr>\n",
       "    <tr>\n",
       "      <th>...</th>\n",
       "      <td>...</td>\n",
       "      <td>...</td>\n",
       "      <td>...</td>\n",
       "      <td>...</td>\n",
       "      <td>...</td>\n",
       "      <td>...</td>\n",
       "      <td>...</td>\n",
       "      <td>...</td>\n",
       "      <td>...</td>\n",
       "      <td>...</td>\n",
       "      <td>...</td>\n",
       "    </tr>\n",
       "    <tr>\n",
       "      <th>1700</th>\n",
       "      <td>1502</td>\n",
       "      <td>4.555</td>\n",
       "      <td>1</td>\n",
       "      <td>0.097769</td>\n",
       "      <td>9</td>\n",
       "      <td>142.4496</td>\n",
       "      <td>4</td>\n",
       "      <td>1985</td>\n",
       "      <td>2</td>\n",
       "      <td>0</td>\n",
       "      <td>0</td>\n",
       "    </tr>\n",
       "    <tr>\n",
       "      <th>1701</th>\n",
       "      <td>1168</td>\n",
       "      <td>4.555</td>\n",
       "      <td>2</td>\n",
       "      <td>0.153457</td>\n",
       "      <td>4</td>\n",
       "      <td>264.0910</td>\n",
       "      <td>4</td>\n",
       "      <td>1985</td>\n",
       "      <td>2</td>\n",
       "      <td>0</td>\n",
       "      <td>0</td>\n",
       "    </tr>\n",
       "    <tr>\n",
       "      <th>1702</th>\n",
       "      <td>474</td>\n",
       "      <td>20.750</td>\n",
       "      <td>2</td>\n",
       "      <td>0.129864</td>\n",
       "      <td>12</td>\n",
       "      <td>240.1880</td>\n",
       "      <td>3</td>\n",
       "      <td>2009</td>\n",
       "      <td>1</td>\n",
       "      <td>2</td>\n",
       "      <td>2</td>\n",
       "    </tr>\n",
       "    <tr>\n",
       "      <th>1703</th>\n",
       "      <td>69</td>\n",
       "      <td>14.650</td>\n",
       "      <td>1</td>\n",
       "      <td>0.171282</td>\n",
       "      <td>7</td>\n",
       "      <td>54.0614</td>\n",
       "      <td>2</td>\n",
       "      <td>2007</td>\n",
       "      <td>1</td>\n",
       "      <td>1</td>\n",
       "      <td>1</td>\n",
       "    </tr>\n",
       "    <tr>\n",
       "      <th>1704</th>\n",
       "      <td>1276</td>\n",
       "      <td>19.600</td>\n",
       "      <td>1</td>\n",
       "      <td>0.041291</td>\n",
       "      <td>9</td>\n",
       "      <td>86.9514</td>\n",
       "      <td>8</td>\n",
       "      <td>1997</td>\n",
       "      <td>2</td>\n",
       "      <td>0</td>\n",
       "      <td>1</td>\n",
       "    </tr>\n",
       "  </tbody>\n",
       "</table>\n",
       "<p>1705 rows × 11 columns</p>\n",
       "</div>"
      ],
      "text/plain": [
       "      Item_Identifier  Item_Weight  Item_Fat_Content  Item_Visibility  \\\n",
       "0                 717       17.250                 1         0.073251   \n",
       "1                 712        6.360                 1         0.120544   \n",
       "2                 928       10.695                 2         0.128247   \n",
       "3                 423        7.405                 1         0.015296   \n",
       "4                 828       10.500                 2         0.142760   \n",
       "...               ...          ...               ...              ...   \n",
       "1700             1502        4.555                 1         0.097769   \n",
       "1701             1168        4.555                 2         0.153457   \n",
       "1702              474       20.750                 2         0.129864   \n",
       "1703               69       14.650                 1         0.171282   \n",
       "1704             1276       19.600                 1         0.041291   \n",
       "\n",
       "      Item_Type  Item_MRP  Outlet_Identifier  Outlet_Establishment_Year  \\\n",
       "0             3   76.4986                  2                       2007   \n",
       "1             6   45.8060                  8                       1997   \n",
       "2             4  121.8440                  3                       2009   \n",
       "3             3   89.7146                  9                       1999   \n",
       "4             1  159.3578                  9                       1999   \n",
       "...         ...       ...                ...                        ...   \n",
       "1700          9  142.4496                  4                       1985   \n",
       "1701          4  264.0910                  4                       1985   \n",
       "1702         12  240.1880                  3                       2009   \n",
       "1703          7   54.0614                  2                       2007   \n",
       "1704          9   86.9514                  8                       1997   \n",
       "\n",
       "      Outlet_Size  Outlet_Location_Type  Outlet_Type  \n",
       "0               1                     1            1  \n",
       "1               2                     0            1  \n",
       "2               1                     2            2  \n",
       "3               1                     0            1  \n",
       "4               1                     0            1  \n",
       "...           ...                   ...          ...  \n",
       "1700            2                     0            0  \n",
       "1701            2                     0            0  \n",
       "1702            1                     2            2  \n",
       "1703            1                     1            1  \n",
       "1704            2                     0            1  \n",
       "\n",
       "[1705 rows x 11 columns]"
      ]
     },
     "execution_count": 20,
     "metadata": {},
     "output_type": "execute_result"
    }
   ],
   "source": [
    "test"
   ]
  },
  {
   "cell_type": "code",
   "execution_count": 21,
   "id": "5be3b1bb-8732-4f1c-b9ad-9d15633671d1",
   "metadata": {},
   "outputs": [],
   "source": [
    "# 컬럼제거"
   ]
  },
  {
   "cell_type": "code",
   "execution_count": 22,
   "id": "ed56b182-5627-4223-8333-ebf3c48b46ad",
   "metadata": {},
   "outputs": [],
   "source": [
    "train.drop('Item_Identifier',axis=1, inplace=True)\n",
    "test.drop('Item_Identifier',axis=1, inplace=True)"
   ]
  },
  {
   "cell_type": "code",
   "execution_count": 23,
   "id": "a714535c-c234-4951-b620-52dc775f7bb2",
   "metadata": {},
   "outputs": [],
   "source": [
    "# ---------------------------------\n",
    "# 검증 데이터 분할 train - val (8,2)\n",
    "# ---------------------------------"
   ]
  },
  {
   "cell_type": "code",
   "execution_count": 24,
   "id": "2f06214e-71ec-471a-ae69-f4e6224dd909",
   "metadata": {},
   "outputs": [
    {
     "data": {
      "text/plain": [
       "((5454, 10), (1364, 10), (5454,), (1364,))"
      ]
     },
     "execution_count": 24,
     "metadata": {},
     "output_type": "execute_result"
    }
   ],
   "source": [
    "from sklearn.model_selection import train_test_split\n",
    "\n",
    "X_train, X_val, y_train, y_val = train_test_split(\n",
    "    train,\n",
    "    target,\n",
    "    test_size=0.2,\n",
    "    random_state=0\n",
    ")\n",
    "X_train.shape, X_val.shape, y_train.shape, y_val.shape\n",
    "\n",
    "\n"
   ]
  },
  {
   "cell_type": "code",
   "execution_count": 25,
   "id": "a81f3279-4085-4d0a-be18-280991b32e1b",
   "metadata": {},
   "outputs": [],
   "source": [
    "# ---------------------------------\n",
    "# 학습 및 평가(MSE, MAE , R2..)\n",
    "# ---------------------------------"
   ]
  },
  {
   "cell_type": "code",
   "execution_count": 26,
   "id": "0531c4a6-ab42-408f-bc3b-144b30570116",
   "metadata": {},
   "outputs": [
    {
     "data": {
      "text/plain": [
       "array([3006.53001011, 1386.35244112, 1610.9644381 , ..., 2265.01933974,\n",
       "       4071.18108208, 3489.44301098])"
      ]
     },
     "execution_count": 26,
     "metadata": {},
     "output_type": "execute_result"
    }
   ],
   "source": [
    "# 모델 학습\n",
    "from sklearn.linear_model import LinearRegression\n",
    "lr = LinearRegression() # 모델 가져오기\n",
    "lr.fit(X_train, y_train) # 학습 \n",
    "y_pred = lr.predict(X_val) # 예측\n",
    "y_pred"
   ]
  },
  {
   "cell_type": "code",
   "execution_count": 27,
   "id": "f34de0f6-0c9b-4199-80ed-aeb196322b09",
   "metadata": {},
   "outputs": [
    {
     "name": "stdout",
     "output_type": "stream",
     "text": [
      "MSE :  1258220.3398377183\n",
      "MAE :  858.9613052108202\n",
      "RMSE :  1121.7042122759985\n",
      "R2 :  0.5153323554636462\n"
     ]
    }
   ],
   "source": [
    "# 평가\n",
    "from sklearn.metrics import mean_squared_error #MSE(평균 제곱 오차)\n",
    "from sklearn.metrics import mean_absolute_error #MAE(평균 절대 오차)\n",
    "from sklearn.metrics import root_mean_squared_error #RMSE(제곱 평균 오차 루트)\n",
    "from sklearn.metrics import r2_score #R2Score(결정계수)\n",
    "\n",
    "lr_mse = mean_squared_error(y_val, y_pred)\n",
    "lr_mae = mean_absolute_error(y_val, y_pred)\n",
    "lr_rmse = root_mean_squared_error(y_val, y_pred)\n",
    "lr_r2 = r2_score(y_val, y_pred)\n",
    "\n",
    "print(\"MSE : \",lr_mse) # 오차를 제곱해 평균을 낸 값 - 값 클수록 예측이 실제와 다름\n",
    "print(\"MAE : \",lr_mae) # 오차를 절대값으로 계산 - 값 클수록 예측이 실제와 다름\n",
    "print(\"RMSE : \",lr_rmse) # \n",
    "print(\"R2 : \",lr_r2) #\n",
    "\n",
    "# MSE / MAE / RMSE 상대적인 기준\n",
    "# 평균적으로 Y 평균값의 10% 이하 : 준수한 성능\n",
    "# 평균적으로 Y 평균값의 10-30%  : 보통\n",
    "# Y 평균값의 30%이상 : 낮은 성능\n",
    "# 시험점수(0-100) 예측 -> RMSE = 10  - 문제\n",
    "# 아파트가격(30평 - 평균 5억) 예측 -> RMSE=1000만원(2%) -> 오차작음(괜찮은 모델)\n",
    "\n",
    "\n",
    "# R2(결정계수)\n",
    "#0.7 이상 : 좋은모델\n",
    "#0.5 - 0.7 : 보통\n",
    "#0.3 - 0.5 : 낮은모델\n"
   ]
  },
  {
   "cell_type": "code",
   "execution_count": 28,
   "id": "86fd113f-96c8-4783-9f1a-4a6c13a6fc9c",
   "metadata": {},
   "outputs": [],
   "source": [
    "# LIGHTGBM 학습"
   ]
  },
  {
   "cell_type": "code",
   "execution_count": 29,
   "id": "158c0574-5d7a-4fc1-baab-4e94eb42c6c8",
   "metadata": {},
   "outputs": [],
   "source": [
    "# LIGHTGBM 학습\n",
    "import lightgbm as lgb\n",
    "model = lgb.LGBMRegressor(random_state=0, verbose=-1)\n",
    "model.fit(X_train, y_train)\n",
    "y_pred_2 = model.predict(X_val)\n"
   ]
  },
  {
   "cell_type": "code",
   "execution_count": 30,
   "id": "5798b63d-2031-4eb0-ad6b-ef625ac50ace",
   "metadata": {},
   "outputs": [
    {
     "name": "stdout",
     "output_type": "stream",
     "text": [
      "MSE :  1111526.442702285\n",
      "MAE :  732.8448115843846\n",
      "RMSE :  1054.289544054329\n",
      "R2 :  0.571838981005607\n"
     ]
    }
   ],
   "source": [
    "lgm_mse = mean_squared_error(y_val, y_pred_2)\n",
    "lgm_mae = mean_absolute_error(y_val, y_pred_2)\n",
    "lgm_rmse = root_mean_squared_error(y_val, y_pred_2)\n",
    "lgm_r2 = r2_score(y_val, y_pred_2)\n",
    "\n",
    "print(\"MSE : \",lgm_mse) # 오차를 제곱해 평균을 낸 값 - 값 클수록 예측이 실제와 다름\n",
    "print(\"MAE : \",lgm_mae) # 오차를 절대값으로 계산 - 값 클수록 예측이 실제와 다름\n",
    "print(\"RMSE : \",lgm_rmse) # \n",
    "print(\"R2 : \",lgm_r2) #"
   ]
  },
  {
   "cell_type": "code",
   "execution_count": null,
   "id": "4e59ee48-bc02-4de7-a4ca-b6289fe8cca0",
   "metadata": {},
   "outputs": [],
   "source": []
  },
  {
   "cell_type": "markdown",
   "id": "78789667-6b47-493b-be38-4fcde2cc6bd2",
   "metadata": {},
   "source": [
    "# ----------------------------------\n",
    "## 상관계수(x후보들 - y값) 낮은 컬럼 제거\n",
    "# ----------------------------------"
   ]
  },
  {
   "cell_type": "code",
   "execution_count": 31,
   "id": "d9118c48-7d18-48bc-bd29-469bb0d39fa0",
   "metadata": {},
   "outputs": [
    {
     "data": {
      "text/plain": [
       "['Item_Fat_Content', 'Item_Type']"
      ]
     },
     "execution_count": 31,
     "metadata": {},
     "output_type": "execute_result"
    }
   ],
   "source": [
    "# 임계값 조절\n",
    "\n",
    "TARGET_CORR_TH = 0.03 # 상관계수 임계값\n",
    "\n",
    "#숫자형 기준으로 상관계수 계산\n",
    "df_corr = train.copy()\n",
    "df_corr['__target__'] = y_train\n",
    "corr_with_target = df_corr.corr(numeric_only=True)['__target__'].drop('__target__')\n",
    "corr_with_target\n",
    "\n",
    "#유지할 컬럼(= 타깃과의 절대 상관이 임계값 이상인 컬럼만 추출)\n",
    "keep_features = corr_with_target[ corr_with_target.abs() >= TARGET_CORR_TH ].index.tolist()\n",
    "# keep_features\n",
    "\n",
    "#제거할 컬럼\n",
    "problem_features = corr_with_target[ corr_with_target.abs() < TARGET_CORR_TH ].index.tolist()\n",
    "problem_features\n"
   ]
  },
  {
   "cell_type": "code",
   "execution_count": 32,
   "id": "a8671847-85ea-4ea0-94b2-9a8f3bad90f8",
   "metadata": {},
   "outputs": [],
   "source": [
    "# ----------------------------------\n",
    "# 컬럼제거\n",
    "# ----------------------------------\n",
    "train.drop('Item_Fat_Content',axis=1,inplace=True)\n",
    "train.drop('Item_Type',axis=1,inplace=True)\n",
    "\n",
    "test.drop('Item_Fat_Content',axis=1,inplace=True)\n",
    "test.drop('Item_Type',axis=1,inplace=True)"
   ]
  },
  {
   "cell_type": "code",
   "execution_count": 33,
   "id": "4e2cb903-f421-46ca-90fa-949b989be66d",
   "metadata": {},
   "outputs": [
    {
     "data": {
      "text/plain": [
       "((6818, 8), (1705, 8))"
      ]
     },
     "execution_count": 33,
     "metadata": {},
     "output_type": "execute_result"
    }
   ],
   "source": [
    "# ----------------------------------\n",
    "# 확인\n",
    "# ----------------------------------\n",
    "train.shape, test.shape"
   ]
  },
  {
   "cell_type": "code",
   "execution_count": null,
   "id": "98a69618-0b2a-40d3-9d37-bce67797cd21",
   "metadata": {},
   "outputs": [],
   "source": []
  },
  {
   "cell_type": "code",
   "execution_count": 34,
   "id": "fb434119-d18c-4047-b960-f769e3e836c7",
   "metadata": {},
   "outputs": [
    {
     "data": {
      "text/plain": [
       "((5454, 8), (1364, 8), (5454,), (1364,))"
      ]
     },
     "execution_count": 34,
     "metadata": {},
     "output_type": "execute_result"
    }
   ],
   "source": [
    "from sklearn.model_selection import train_test_split\n",
    "\n",
    "X_train_re, X_val_re, y_train_re, y_val_re = train_test_split(\n",
    "    train,\n",
    "    target,\n",
    "    test_size=0.2,\n",
    "    random_state=0\n",
    ")\n",
    "X_train_re.shape, X_val_re.shape, y_train_re.shape, y_val_re.shape"
   ]
  },
  {
   "cell_type": "code",
   "execution_count": null,
   "id": "54f209bc-fcc4-44b4-85d4-f8b642afe229",
   "metadata": {},
   "outputs": [],
   "source": []
  },
  {
   "cell_type": "code",
   "execution_count": 35,
   "id": "efbcf54f-98e6-4235-a9ca-3ff45d3f7d04",
   "metadata": {},
   "outputs": [],
   "source": [
    "import lightgbm as lgb\n",
    "model = lgb.LGBMRegressor(random_state=0, verbose=-1)\n",
    "model.fit(X_train_re, y_train_re)\n",
    "y_pred_2_re = model.predict(X_val_re)"
   ]
  },
  {
   "cell_type": "code",
   "execution_count": null,
   "id": "b5b2184b-90d9-448e-9004-0ead953a0f84",
   "metadata": {},
   "outputs": [],
   "source": []
  },
  {
   "cell_type": "code",
   "execution_count": 36,
   "id": "e4fe0eed-900a-42cf-858e-94ca33879132",
   "metadata": {},
   "outputs": [
    {
     "name": "stdout",
     "output_type": "stream",
     "text": [
      "MSE :  1108334.9408928182\n",
      "MAE :  736.8110133347378\n",
      "RMSE :  1052.7748766440136\n",
      "R2 :  0.5730683504694064\n"
     ]
    }
   ],
   "source": [
    "lgm_mse_re = mean_squared_error(y_val_re, y_pred_2_re)\n",
    "lgm_mae_re = mean_absolute_error(y_val_re, y_pred_2_re)\n",
    "lgm_rmse_re = root_mean_squared_error(y_val_re, y_pred_2_re)\n",
    "lgm_r2_re = r2_score(y_val_re, y_pred_2_re)\n",
    "\n",
    "print(\"MSE : \",lgm_mse_re) # 오차를 제곱해 평균을 낸 값 - 값 클수록 예측이 실제와 다름\n",
    "print(\"MAE : \",lgm_mae_re) # 오차를 절대값으로 계산 - 값 클수록 예측이 실제와 다름\n",
    "print(\"RMSE : \",lgm_rmse_re) # \n",
    "print(\"R2 : \",lgm_r2_re) #"
   ]
  }
 ],
 "metadata": {
  "kernelspec": {
   "display_name": "Python 3 (ipykernel)",
   "language": "python",
   "name": "python3"
  },
  "language_info": {
   "codemirror_mode": {
    "name": "ipython",
    "version": 3
   },
   "file_extension": ".py",
   "mimetype": "text/x-python",
   "name": "python",
   "nbconvert_exporter": "python",
   "pygments_lexer": "ipython3",
   "version": "3.11.6"
  }
 },
 "nbformat": 4,
 "nbformat_minor": 5
}
