{
 "cells": [
  {
   "cell_type": "code",
   "execution_count": null,
   "id": "f4f7205e-37dc-4a8a-b71b-20831114a0b7",
   "metadata": {},
   "outputs": [],
   "source": [
    "# -------------------------------------------\n",
    "# 문제정의\n",
    "# -------------------------------------------\n",
    "# 주어진 제품 및 매장 특성들을(X값, 컬럼)기반으로 판매 금액(Item_Outlet_Sales)을 예측하기"
   ]
  },
  {
   "cell_type": "code",
   "execution_count": null,
   "id": "59efed55-a304-4f42-ae74-71280d251cc3",
   "metadata": {},
   "outputs": [],
   "source": [
    "# -------------------------------------------\n",
    "# 라이브러리 가져오기\n",
    "# -------------------------------------------"
   ]
  },
  {
   "cell_type": "code",
   "execution_count": 1,
   "id": "cfcb5034-6f9d-4216-ad7e-f6ee9173ba78",
   "metadata": {},
   "outputs": [
    {
     "ename": "SyntaxError",
     "evalue": "unterminated string literal (detected at line 2) (1977136452.py, line 2)",
     "output_type": "error",
     "traceback": [
      "\u001b[0;36m  Cell \u001b[0;32mIn[1], line 2\u001b[0;36m\u001b[0m\n\u001b[0;31m    train = pd.read_csv(\"train.csv\u001b[0m\n\u001b[0m                        ^\u001b[0m\n\u001b[0;31mSyntaxError\u001b[0m\u001b[0;31m:\u001b[0m unterminated string literal (detected at line 2)\n"
     ]
    }
   ],
   "source": [
    "import pandas as pd\n",
    "train = pd.read_csv(\"train.csv\")\n",
    "test = pd.read_csv(\"test.csv\")\n",
    "\n"
   ]
  },
  {
   "cell_type": "code",
   "execution_count": null,
   "id": "51429df7-501b-4845-9dc7-4ee18b2e6e50",
   "metadata": {},
   "outputs": [],
   "source": [
    "# -------------------------------------------\n",
    "# EDA\n",
    "# -------------------------------------------"
   ]
  },
  {
   "cell_type": "code",
   "execution_count": null,
   "id": "3c0912bb-9752-4eeb-b9b3-d2fe5f9e4310",
   "metadata": {},
   "outputs": [],
   "source": [
    "# train.head()\n",
    "# train.tail()\n",
    "train.sample(5)"
   ]
  },
  {
   "cell_type": "code",
   "execution_count": null,
   "id": "780856b5-6513-452f-817d-050903410a00",
   "metadata": {},
   "outputs": [],
   "source": [
    "train.shape, test.shape"
   ]
  },
  {
   "cell_type": "code",
   "execution_count": null,
   "id": "7ff356dc-7131-44d6-857d-1e23fe9b92e0",
   "metadata": {},
   "outputs": [],
   "source": [
    "train.info()"
   ]
  },
  {
   "cell_type": "code",
   "execution_count": null,
   "id": "2355a301-11ae-481f-99c5-0469522838f7",
   "metadata": {},
   "outputs": [],
   "source": [
    "test.info()"
   ]
  },
  {
   "cell_type": "raw",
   "id": "6d08b854-70c6-4f5a-800d-37bbebb06a37",
   "metadata": {},
   "source": [
    "train.describe()"
   ]
  },
  {
   "cell_type": "code",
   "execution_count": null,
   "id": "09fc9494-3e17-4a16-b909-812b40568da9",
   "metadata": {},
   "outputs": [],
   "source": [
    "train.describe(include='O')"
   ]
  },
  {
   "cell_type": "code",
   "execution_count": null,
   "id": "7c89a3ff-ca46-45fc-85df-41e53d52009d",
   "metadata": {},
   "outputs": [],
   "source": [
    "train.isnull().sum()"
   ]
  },
  {
   "cell_type": "code",
   "execution_count": null,
   "id": "878b830d-1fd2-4062-aaae-bc0249e44df7",
   "metadata": {},
   "outputs": [],
   "source": [
    "test.isnull().sum()"
   ]
  },
  {
   "cell_type": "code",
   "execution_count": null,
   "id": "9b612caa-9742-47a6-bea9-e72cb50b4915",
   "metadata": {},
   "outputs": [],
   "source": [
    "train.isnull().sum().sum()"
   ]
  },
  {
   "cell_type": "code",
   "execution_count": null,
   "id": "d2593c40-d0a4-4696-92c5-5dd19e1074af",
   "metadata": {},
   "outputs": [],
   "source": [
    "test.isnull().sum().sum()"
   ]
  },
  {
   "cell_type": "code",
   "execution_count": null,
   "id": "5f56e09b-6f7c-48b5-b964-04a5e26c3215",
   "metadata": {},
   "outputs": [],
   "source": [
    "# -------------------------------------------\n",
    "# 데이터 전처리\n",
    "# -------------------------------------------"
   ]
  },
  {
   "cell_type": "code",
   "execution_count": null,
   "id": "29de3c0f-6840-49a3-b2ed-510236c37d19",
   "metadata": {},
   "outputs": [],
   "source": [
    "# y값 분할\n",
    "target = train.pop('Item_Outlet_Sales')\n",
    "target"
   ]
  },
  {
   "cell_type": "code",
   "execution_count": null,
   "id": "2d8bcf2b-e120-44b9-a7bb-5236fc061c8b",
   "metadata": {},
   "outputs": [],
   "source": [
    "# 결측값 채우기(무게 : 최소값, 사이즈 : 평균값)\n",
    "\n",
    "train['Item_Weight'] = train['Item_Weight'].fillna(train['Item_Weight'].min())\n",
    "train['Outlet_Size'] = train['Outlet_Size'].fillna(train['Outlet_Size'].mode()[0])\n",
    "\n",
    "test['Item_Weight'] = test['Item_Weight'].fillna(test['Item_Weight'].min())\n",
    "test['Outlet_Size'] = test['Outlet_Size'].fillna(test['Outlet_Size'].mode()[0])"
   ]
  },
  {
   "cell_type": "code",
   "execution_count": null,
   "id": "ad8f6aaa-470b-424f-8da9-9f76b3bb389b",
   "metadata": {},
   "outputs": [],
   "source": [
    "train.describe()"
   ]
  },
  {
   "cell_type": "code",
   "execution_count": null,
   "id": "64337b66-eaac-475b-a220-026ad1ba268b",
   "metadata": {},
   "outputs": [],
   "source": [
    "# 레이블인코딩\n",
    "\n",
    "from sklearn.preprocessing import LabelEncoder\n",
    "\n",
    "cols = train.columns[train.dtypes == object]\n",
    "\n",
    "for col in cols:\n",
    "    le = LabelEncoder()\n",
    "    le.fit(pd.concat([train[col],test[col]] ,axis=0)) # 행합치기\n",
    "    train[col] = le.transform(train[col])\n",
    "    test[col] = le.transform(test[col])"
   ]
  },
  {
   "cell_type": "code",
   "execution_count": null,
   "id": "f1fada9b-7d56-49b5-91dd-f475d26935ee",
   "metadata": {},
   "outputs": [],
   "source": [
    "train"
   ]
  },
  {
   "cell_type": "code",
   "execution_count": null,
   "id": "af1124cf-04c7-4b5e-af6e-81303da209ac",
   "metadata": {},
   "outputs": [],
   "source": [
    "# 컬럼제거"
   ]
  },
  {
   "cell_type": "code",
   "execution_count": null,
   "id": "39b4f369-b399-4d8b-b8c7-2bef63becc33",
   "metadata": {},
   "outputs": [],
   "source": [
    "train.drop('Item_Identifier', axis=1, inplace=True)\n",
    "test.drop('Item_Identifier', axis=1, inplace=True)"
   ]
  },
  {
   "cell_type": "code",
   "execution_count": null,
   "id": "1eecb1ad-ad21-4fd6-b794-cf8714f114db",
   "metadata": {},
   "outputs": [],
   "source": [
    "# -------------------------------------------\n",
    "# 검증 데이터 분할 train - val(8,2)\n",
    "# -------------------------------------------"
   ]
  },
  {
   "cell_type": "code",
   "execution_count": null,
   "id": "483622fe-9adb-42b8-9c2e-a3d84467e796",
   "metadata": {},
   "outputs": [],
   "source": [
    "from sklearn.model_selection import train_test_split\n",
    "\n",
    "X_train, X_val, y_train, y_val = train_test_split(\n",
    "    train,\n",
    "    y_train,\n",
    "    test_size=0.2,\n",
    "    random_state=0\n",
    ")\n",
    "X_train.shape, X_val.shape, y_train.shape, y_val.shape"
   ]
  },
  {
   "cell_type": "code",
   "execution_count": null,
   "id": "8e838887-ac2e-4ffc-8e37-73afa8d01d68",
   "metadata": {},
   "outputs": [],
   "source": [
    "# -------------------------------------------\n",
    "# 학습 및 평가(MSE, MAE, R2...)\n",
    "# -------------------------------------------"
   ]
  },
  {
   "cell_type": "code",
   "execution_count": null,
   "id": "e7f28592-0f85-4d6b-be9d-11ea95acfa09",
   "metadata": {},
   "outputs": [],
   "source": [
    "from sklearn.linear_model import LinearRegression\n",
    "lr = LinearRegression() # 모델 가져오기\n",
    "lr.fit(X_train, y_train) # 학습\n",
    "y_pred = lr.predict(X_val) # 예측\n",
    "y_pred"
   ]
  },
  {
   "cell_type": "code",
   "execution_count": null,
   "id": "2bb89f3c-730a-4bab-a6c4-dbc2dcbec2df",
   "metadata": {},
   "outputs": [],
   "source": [
    "# 평가\n",
    "from sklearn.metrics import mean_squared_error # MSE(평균 제곱 오차)\n",
    "from sklearn.metrics import mean_absolute_error # MAE(평균 절대 오차)\n",
    "from sklearn.metrics import root_mean_squared_error # RMSE(제곱 평균 오차 루트)\n",
    "from sklearn.metrics import r2_score #R2Score (결정계수)\n",
    "\n",
    "lr_mse = mean_squared_error(y_val, y_pred)\n",
    "lr_mae = mean_absolute_error(y_val, y_pred)\n",
    "lr_rmse = root_mean_squared_error(y_val, y_pred)\n",
    "lr_r2 = r2_score(y_val, y_pred)\n",
    "\n",
    "print(\"MSE : \", lr_mse) # 오차를 제곱해 평균을 낸 값 - 값 클수록 예측이 실제와 다름\n",
    "print(\"MAE : \", lr_mae) # 오차를 절대값으로 계산 - 값 클수록 예측이 실제와 다름\n",
    "print(\"RMSE : \", lr_rmse) # \n",
    "print(\"R2 : \", lr_r2) # \n",
    "\n",
    "# MSE / MAE / RMSE 상대적인 기준\n",
    "# 평균적으로 Y 평균값의 10% 이하 : 준수한 성능\n",
    "# 평균적으로 Y 평균값의 10-30% : 보통\n",
    "# Y 평균값의 30% 이상 : 낮은 성능\n",
    "# 시험점수(0-100) 예측 -> RMSE = 10 - 문제\n",
    "# 아파트가격(30평 - 평균5억) 예측 -> RMSE=1000만원(2%) -> 오차작음(괜찮은 모델)\n",
    "\n",
    "# R2(결정계수)\n",
    "# 0.7 이상 : 좋은 모델\n",
    "# 0.5 - 0.7 : 보통\n",
    "# 0.3 - 0.5 : 낮은모델"
   ]
  },
  {
   "cell_type": "code",
   "execution_count": null,
   "id": "1e81fcaf-9bf1-42b4-bae6-3f9382ed19a3",
   "metadata": {},
   "outputs": [],
   "source": [
    "# LIGHTGBM 학습"
   ]
  },
  {
   "cell_type": "code",
   "execution_count": null,
   "id": "ff2e0a46-6b4a-40a0-aa51-dc4d1fdeaf2e",
   "metadata": {},
   "outputs": [],
   "source": [
    "# LIGHTGBM 학습\n",
    "import lightgbm as lgb\n",
    "model = lgb.LGBMRegressor(random_state=0, verbose=-1)\n",
    "model.fit(X_train, y_train)\n",
    "y_pred_2 = model.predict(X_val)"
   ]
  },
  {
   "cell_type": "code",
   "execution_count": null,
   "id": "705121fa-b71b-4119-af83-3c9ad8a3b01c",
   "metadata": {},
   "outputs": [],
   "source": [
    "lgm_mse = mean_squared_error(y_val, y_pred_2)\n",
    "lgm_mae = mean_absolute_error(y_val, y_pred_2)\n",
    "lgm_rmse = root_mean_squared_error(y_val, y_pred_2)\n",
    "lgm_r2 = r2_score(y_val, y_pred_2)\n",
    "\n",
    "print(\"MSE : \", lgm_mse) # 오차를 제곱해 평균을 낸 값 - 값 클수록 예측이 실제와 다름\n",
    "print(\"MAE : \", lgm_mae) # 오차를 절대값으로 계산 - 값 클수록 예측이 실제와 다름\n",
    "print(\"RMSE : \", lgm_rmse) # \n",
    "print(\"R2 : \", lgm_r2) # "
   ]
  },
  {
   "cell_type": "code",
   "execution_count": null,
   "id": "77e12842-3057-4fcd-b7a8-580ab76173b5",
   "metadata": {},
   "outputs": [],
   "source": [
    "# -------------------------------------------\n",
    "# 파일로 저장\n",
    "# -------------------------------------------\n",
    "pred = model.predict(test)\n",
    "submit = pd.DataFrame({'pred':pred})\n",
    "submit.to_csv(\"result.csv, index = False)"
   ]
  }
 ],
 "metadata": {
  "kernelspec": {
   "display_name": "Python 3 (ipykernel)",
   "language": "python",
   "name": "python3"
  },
  "language_info": {
   "codemirror_mode": {
    "name": "ipython",
    "version": 3
   },
   "file_extension": ".py",
   "mimetype": "text/x-python",
   "name": "python",
   "nbconvert_exporter": "python",
   "pygments_lexer": "ipython3",
   "version": "3.11.6"
  }
 },
 "nbformat": 4,
 "nbformat_minor": 5
}
