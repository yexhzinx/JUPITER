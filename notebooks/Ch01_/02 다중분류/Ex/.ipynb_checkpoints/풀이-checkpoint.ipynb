{
 "cells": [
  {
   "cell_type": "code",
   "execution_count": 1,
   "id": "88cdecea-8263-4e00-8f75-6ca2ba557fd6",
   "metadata": {},
   "outputs": [],
   "source": [
    "# 판다스 라이브러리\n",
    "import pandas as pd\n",
    "\n",
    "# 데이터 불러오기\n",
    "train = pd.read_csv('./train.csv')\n",
    "test = pd.read_csv('./test.csv')"
   ]
  },
  {
   "cell_type": "code",
   "execution_count": 2,
   "id": "5c2cb808-2237-4cd2-a56e-4d024f76f865",
   "metadata": {},
   "outputs": [
    {
     "data": {
      "text/plain": [
       "((20758, 18), (13840, 17))"
      ]
     },
     "execution_count": 2,
     "metadata": {},
     "output_type": "execute_result"
    }
   ],
   "source": [
    "#-----------------------------------\n",
    "# EDA\n",
    "#-----------------------------------\n",
    "train.shape, test.shape"
   ]
  },
  {
   "cell_type": "code",
   "execution_count": 3,
   "id": "e9031079-824d-415c-a62a-90186376a6b7",
   "metadata": {},
   "outputs": [
    {
     "name": "stdout",
     "output_type": "stream",
     "text": [
      "<class 'pandas.core.frame.DataFrame'>\n",
      "RangeIndex: 20758 entries, 0 to 20757\n",
      "Data columns (total 18 columns):\n",
      " #   Column                          Non-Null Count  Dtype  \n",
      "---  ------                          --------------  -----  \n",
      " 0   id                              20758 non-null  int64  \n",
      " 1   Gender                          20758 non-null  object \n",
      " 2   Age                             20758 non-null  float64\n",
      " 3   Height                          20758 non-null  float64\n",
      " 4   Weight                          20758 non-null  float64\n",
      " 5   family_history_with_overweight  20758 non-null  object \n",
      " 6   FAVC                            20758 non-null  object \n",
      " 7   FCVC                            20758 non-null  float64\n",
      " 8   NCP                             20758 non-null  float64\n",
      " 9   CAEC                            20758 non-null  object \n",
      " 10  SMOKE                           20758 non-null  object \n",
      " 11  CH2O                            20758 non-null  float64\n",
      " 12  SCC                             20758 non-null  object \n",
      " 13  FAF                             20758 non-null  float64\n",
      " 14  TUE                             20758 non-null  float64\n",
      " 15  CALC                            20758 non-null  object \n",
      " 16  MTRANS                          20758 non-null  object \n",
      " 17  NObeyesdad                      20758 non-null  object \n",
      "dtypes: float64(8), int64(1), object(9)\n",
      "memory usage: 2.9+ MB\n"
     ]
    },
    {
     "data": {
      "text/plain": [
       "NObeyesdad\n",
       "Obesity_Type_III       4046\n",
       "Obesity_Type_II        3248\n",
       "Normal_Weight          3082\n",
       "Obesity_Type_I         2910\n",
       "Insufficient_Weight    2523\n",
       "Overweight_Level_II    2522\n",
       "Overweight_Level_I     2427\n",
       "Name: count, dtype: int64"
      ]
     },
     "execution_count": 3,
     "metadata": {},
     "output_type": "execute_result"
    }
   ],
   "source": [
    "# train.info()\n",
    "# test.info()\n",
    "# train.isnull().sum()\n",
    "# test.isnull().sum()\n",
    "# train.describe()\n",
    "# train.describe(include='0')\n",
    "# test.describe()\n",
    "train.info()\n",
    "train['NObeyesdad'].value_counts()"
   ]
  },
  {
   "cell_type": "code",
   "execution_count": 4,
   "id": "4bb389fd-e676-4f48-a5e3-8bcfae15c619",
   "metadata": {},
   "outputs": [],
   "source": [
    "#-----------------------------------\n",
    "# 데이터 전처리\n",
    "#-----------------------------------\n",
    "# 이상치, 결측치 생략"
   ]
  },
  {
   "cell_type": "code",
   "execution_count": 5,
   "id": "a7f7bf6d-f6e5-44f8-96df-6ef9d771970e",
   "metadata": {},
   "outputs": [],
   "source": [
    "# id컬럼 제거\n",
    "train = train.drop(columns=['id'])\n",
    "test= test.drop(columns=['id'])"
   ]
  },
  {
   "cell_type": "code",
   "execution_count": 6,
   "id": "631b5484-24e2-454b-b402-96d98a20d104",
   "metadata": {},
   "outputs": [
    {
     "name": "stdout",
     "output_type": "stream",
     "text": [
      "<class 'pandas.core.series.Series'>\n",
      "RangeIndex: 20758 entries, 0 to 20757\n",
      "Series name: NObeyesdad\n",
      "Non-Null Count  Dtype   \n",
      "--------------  -----   \n",
      "20758 non-null  category\n",
      "dtypes: category(1)\n",
      "memory usage: 20.7 KB\n"
     ]
    }
   ],
   "source": [
    "# y값 분리\n",
    "target = train.pop('NObeyesdad')\n",
    "# dtype -> 카테고리 변환\n",
    "target = target.astype('category')\n",
    "target.info()"
   ]
  },
  {
   "cell_type": "code",
   "execution_count": 7,
   "id": "b9d70e91-de10-4c5d-aafc-d820f3b8e2e6",
   "metadata": {},
   "outputs": [],
   "source": [
    "# target/test object -> category"
   ]
  },
  {
   "cell_type": "code",
   "execution_count": 8,
   "id": "0f976eba-549a-4c3d-9c1a-ce2f4466006b",
   "metadata": {},
   "outputs": [
    {
     "name": "stdout",
     "output_type": "stream",
     "text": [
      "<class 'pandas.core.frame.DataFrame'>\n",
      "RangeIndex: 20758 entries, 0 to 20757\n",
      "Data columns (total 16 columns):\n",
      " #   Column                          Non-Null Count  Dtype  \n",
      "---  ------                          --------------  -----  \n",
      " 0   Gender                          20758 non-null  object \n",
      " 1   Age                             20758 non-null  float64\n",
      " 2   Height                          20758 non-null  float64\n",
      " 3   Weight                          20758 non-null  float64\n",
      " 4   family_history_with_overweight  20758 non-null  object \n",
      " 5   FAVC                            20758 non-null  object \n",
      " 6   FCVC                            20758 non-null  float64\n",
      " 7   NCP                             20758 non-null  float64\n",
      " 8   CAEC                            20758 non-null  object \n",
      " 9   SMOKE                           20758 non-null  object \n",
      " 10  CH2O                            20758 non-null  float64\n",
      " 11  SCC                             20758 non-null  object \n",
      " 12  FAF                             20758 non-null  float64\n",
      " 13  TUE                             20758 non-null  float64\n",
      " 14  CALC                            20758 non-null  object \n",
      " 15  MTRANS                          20758 non-null  object \n",
      "dtypes: float64(8), object(8)\n",
      "memory usage: 2.5+ MB\n"
     ]
    }
   ],
   "source": [
    "train.info()\n",
    "train['Gender'] = train['Gender'].astype('category')\n",
    "train['family_history_with_overweight'] = train['family_history_with_overweight'].astype('category')\n",
    "train['FAVC'] = train['FAVC'].astype('category')\n",
    "train['CAEC'] = train['CAEC'].astype('category')\n",
    "train['SMOKE'] = train['SMOKE'].astype('category')\n",
    "train['SCC'] = train['SCC'].astype('category')\n",
    "train['TUE'] = train['TUE'].astype('category')\n",
    "train['CALC'] = train['CALC'].astype('category')\n",
    "train['MTRANS'] = train['MTRANS'].astype('category')\n",
    "\n",
    "test['Gender'] = train['Gender'].astype('category')\n",
    "test['family_history_with_overweight'] = train['family_history_with_overweight'].astype('category')\n",
    "test['FAVC'] = train['FAVC'].astype('category')\n",
    "test['CAEC'] = train['CAEC'].astype('category')\n",
    "test['SMOKE'] = train['SMOKE'].astype('category')\n",
    "test['SCC'] = train['SCC'].astype('category')\n",
    "test['TUE'] = train['TUE'].astype('category')\n",
    "test['CALC'] = train['CALC'].astype('category')\n",
    "test['MTRANS'] = train['MTRANS'].astype('category')"
   ]
  },
  {
   "cell_type": "code",
   "execution_count": 9,
   "id": "c9f1b71d-3292-4f97-a205-866db391aec1",
   "metadata": {},
   "outputs": [
    {
     "data": {
      "text/plain": [
       "((16606, 16), (4152, 16), (16606,), (4152,))"
      ]
     },
     "execution_count": 9,
     "metadata": {},
     "output_type": "execute_result"
    }
   ],
   "source": [
    "#-----------------------------------\n",
    "# 결측 데이터 분할\n",
    "#-----------------------------------\n",
    "from sklearn.model_selection import train_test_split\n",
    "X_train, X_val, y_train, y_val = train_test_split(\n",
    "    train,\n",
    "    target,\n",
    "    test_size = 0.2,\n",
    "    random_state = 0)\n",
    "X_train.shape, X_val.shape, y_train.shape, y_val.shape"
   ]
  },
  {
   "cell_type": "code",
   "execution_count": 10,
   "id": "10dc2e69-e392-4493-a517-d408747663df",
   "metadata": {},
   "outputs": [],
   "source": [
    "#-----------------------------------\n",
    "# 모듈 학습 및 평가\n",
    "#-----------------------------------"
   ]
  },
  {
   "cell_type": "code",
   "execution_count": 11,
   "id": "56917b1a-409c-4142-a065-3999002c06c9",
   "metadata": {},
   "outputs": [],
   "source": [
    "import lightgbm as lgb\n",
    "# 학습\n",
    "lgbmc = lgb.LGBMClassifier(random_state=0, verbose=-1)\n",
    "lgbmc.fit(X_train, y_train)\n",
    "# 검증\n",
    "pred=lgbmc.predict(X_val) # 라벨만\n",
    "pred_proba=lgbmc.predict_proba(X_val) # 확률값\n",
    "\n",
    "# verbose : 학습 과정 출력여부(-1 : 출력 안함)\n",
    "# 0 : 경고 수준 출력, 1 : 일반 정보 출력, >1 : 자세한 정보 출력"
   ]
  },
  {
   "cell_type": "code",
   "execution_count": 13,
   "id": "dd65d2d4-9a8d-471f-9dc8-66d602fb55e3",
   "metadata": {},
   "outputs": [
    {
     "name": "stdout",
     "output_type": "stream",
     "text": [
      "roc_auc_ovr :  0.9887339646788459\n",
      "roc_auc_ovo :  0.9873676748059271\n",
      "accuracy :  0.9060693641618497\n",
      "f1 :  0.8961407774164182\n"
     ]
    }
   ],
   "source": [
    "# 평가 (roc_auc, accuracy, f1-score)\n",
    "from sklearn.metrics import roc_auc_score, f1_score, accuracy_score\n",
    "\n",
    "roc_auc_ovr = roc_auc_score(y_val, pred_proba, multi_class='ovr')\n",
    "roc_auc_ovo = roc_auc_score(y_val, pred_proba, multi_class='ovo')\n",
    "accuracy = accuracy_score(y_val, pred)\n",
    "f1 = f1_score(y_val, pred, average='macro')\n",
    "\n",
    "print('roc_auc_ovr : ', roc_auc_ovr)\n",
    "print('roc_auc_ovo : ', roc_auc_ovo)\n",
    "print('accuracy : ', accuracy)\n",
    "print('f1 : ', f1)"
   ]
  },
  {
   "cell_type": "code",
   "execution_count": 13,
   "id": "5798e9a8-92fb-41a1-8e68-7648c15235bc",
   "metadata": {},
   "outputs": [],
   "source": [
    "#-----------------------------------\n",
    "# 예측 파일 제출(.csv)\n",
    "#-----------------------------------\n",
    "pred_submit=lgbmc.predict(test)\n",
    "pred_submit\n",
    "\n"
   ]
  },
  {
   "cell_type": "code",
   "execution_count": null,
   "id": "a386101a-c0a2-4561-8f4b-19d9fcf29a79",
   "metadata": {},
   "outputs": [],
   "source": []
  }
 ],
 "metadata": {
  "kernelspec": {
   "display_name": "Python 3 (ipykernel)",
   "language": "python",
   "name": "python3"
  },
  "language_info": {
   "codemirror_mode": {
    "name": "ipython",
    "version": 3
   },
   "file_extension": ".py",
   "mimetype": "text/x-python",
   "name": "python",
   "nbconvert_exporter": "python",
   "pygments_lexer": "ipython3",
   "version": "3.11.6"
  }
 },
 "nbformat": 4,
 "nbformat_minor": 5
}
