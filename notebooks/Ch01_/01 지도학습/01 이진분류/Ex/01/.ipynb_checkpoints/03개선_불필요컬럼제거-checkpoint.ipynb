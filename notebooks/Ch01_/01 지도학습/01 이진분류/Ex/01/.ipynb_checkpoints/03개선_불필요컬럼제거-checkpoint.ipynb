{
 "cells": [
  {
   "cell_type": "code",
   "execution_count": null,
   "id": "02b4c9ee-bd09-4900-bb2b-457c0529ff1d",
   "metadata": {},
   "outputs": [],
   "source": [
    "#---------------------------\n",
    "# 베이스라인 만들기\n",
    "#---------------------------\n"
   ]
  },
  {
   "cell_type": "code",
   "execution_count": 2,
   "id": "52c2dfe9-9978-4b16-bc1d-67ccfcc6e9eb",
   "metadata": {},
   "outputs": [],
   "source": [
    "# 판다스 라이브러리\n",
    "import pandas as pd\n",
    "\n",
    "# 데이터 불러오기\n",
    "train = pd.read_csv('./train.csv')\n",
    "test = pd.read_csv('./test.csv')"
   ]
  },
  {
   "cell_type": "code",
   "execution_count": 3,
   "id": "e6515509-0b55-46e4-87f0-3451a4a4a1eb",
   "metadata": {},
   "outputs": [],
   "source": [
    "#---------------------------------------\n",
    "# 데이터 전처리\n",
    "#---------------------------------------\n",
    "#---------------------\n",
    "# [X]불필요한 컬럼제거\n",
    "#---------------------\n",
    "train = train.drop(columns=['id','CustomerId','Surname'])\n",
    "test = test.drop(columns=['id','CustomerId','Surname'])"
   ]
  },
  {
   "cell_type": "code",
   "execution_count": 4,
   "id": "0417e830-ef29-4c06-9012-a3dff94c70f0",
   "metadata": {},
   "outputs": [],
   "source": [
    "#---------------------------------------\n",
    "# 데이터 전처리\n",
    "#---------------------------------------\n",
    "#---------------------\n",
    "# 결측치 처리 - x\n",
    "#---------------------\n",
    "\n",
    "#---------------------\n",
    "# 이상치 - x\n",
    "#---------------------\n",
    "\n",
    "\n",
    "\n",
    "\n",
    "#---------------------\n",
    "# 인코딩\n",
    "#---------------------\n",
    "# 라벨(정답,y값) 분리\n",
    "y_train = train.pop(\"Exited\")\n",
    "\n",
    "# 레이블 인코딩\n",
    "\n",
    "from sklearn.preprocessing import LabelEncoder\n",
    "\n",
    "cols = train.columns[train.dtypes == object]\n",
    "\n",
    "for col in cols:\n",
    "    le = LabelEncoder()\n",
    "    le.fit(pd.concat([train[col],test[col]] ,axis=0)) # 행합치기\n",
    "    train[col] = le.transform(train[col])\n",
    "    test[col] = le.transform(test[col])\n",
    "\n"
   ]
  },
  {
   "cell_type": "code",
   "execution_count": 14,
   "id": "7cf331ff-8f62-45cf-bcef-394399bbe044",
   "metadata": {},
   "outputs": [
    {
     "data": {
      "text/plain": [
       "Exited\n",
       "0    130113\n",
       "1     34921\n",
       "Name: count, dtype: int64"
      ]
     },
     "execution_count": 14,
     "metadata": {},
     "output_type": "execute_result"
    }
   ],
   "source": [
    "# #---------------------------------------\n",
    "# # EDA\n",
    "# #---------------------------------------\n",
    "# # 데이터 샘플\n",
    "# train.head()\n",
    "# train.tail(n)\n",
    "# train.sample(n)\n",
    "# # 데이터 크기\n",
    "# train.shape, test.shape\n",
    "# # 자료형 (타입)\n",
    "# train.info()\n",
    "# # 수치형 컬럼 통계값 확인(train)\n",
    "# train.describe()\n",
    "# # 수치형 컬럼 통계값 확인(test)\n",
    "# test.describe()\n",
    "# # 범주형 컬럼 통계값 확인 (train)\n",
    "# train.describe(include='O')\n",
    "# # 범주형 컬럼 통계값 확인 (test)\n",
    "# test.describe(include='object')\n",
    "# # 결측치 (train)\n",
    "# train.isnull().sum()\n",
    "# # 결측치 (test)\n",
    "# test.isnull().sum()\n",
    "# # label(target)별 개수 확인\n",
    "# train['Exited'].value_counts()"
   ]
  },
  {
   "cell_type": "code",
   "execution_count": 5,
   "id": "1d30cb29-63ce-47bb-b938-c96ea451734a",
   "metadata": {
    "scrolled": true
   },
   "outputs": [
    {
     "data": {
      "text/plain": [
       "Exited\n",
       "0    130113\n",
       "1     34921\n",
       "Name: count, dtype: int64"
      ]
     },
     "execution_count": 5,
     "metadata": {},
     "output_type": "execute_result"
    }
   ],
   "source": [
    "#----------\n",
    "# y 인코딩\n",
    "#----------\n",
    "y_train.value_counts()"
   ]
  },
  {
   "cell_type": "code",
   "execution_count": null,
   "id": "adff5aa0-e605-4fb7-8fce-bea72c6d9f01",
   "metadata": {},
   "outputs": [],
   "source": [
    "#---------------------------------------\n",
    "# 검증 데이터 분할\n",
    "#---------------------------------------"
   ]
  },
  {
   "cell_type": "code",
   "execution_count": 6,
   "id": "6d0c1dd5-44c7-4ad9-b7c8-06844ecc68b4",
   "metadata": {},
   "outputs": [
    {
     "data": {
      "text/plain": [
       "((132027, 10), (33007, 10), (132027,), (33007,))"
      ]
     },
     "execution_count": 6,
     "metadata": {},
     "output_type": "execute_result"
    }
   ],
   "source": [
    "from sklearn.model_selection import train_test_split\n",
    "\n",
    "X_train, X_val, y_train, y_val = train_test_split(train,\n",
    "                                                  y_train,\n",
    "                                                  test_size=0.2,\n",
    "                                                  random_state=0)\n",
    "X_train.shape, X_val.shape, y_train.shape, y_val.shape"
   ]
  },
  {
   "cell_type": "code",
   "execution_count": null,
   "id": "31fc2fee-cf4e-4f35-b5bc-9da0b9a6f932",
   "metadata": {},
   "outputs": [],
   "source": [
    "#---------------------------------------\n",
    "# 모델 학습\n",
    "#---------------------------------------"
   ]
  },
  {
   "cell_type": "code",
   "execution_count": 7,
   "id": "a44756d0-8d6f-46d9-abb8-b7d9206a20cb",
   "metadata": {},
   "outputs": [],
   "source": [
    "# 랜덤포레스트\n",
    "from sklearn.ensemble import RandomForestClassifier\n",
    "rf = RandomForestClassifier(random_state=0)\n",
    "rf.fit(X_train, y_train)\n",
    "pred1=rf.predict_proba(X_val)  \n",
    "pred1_label=rf.predict(X_val)  \n",
    "\n",
    "# LightGBM\n",
    "import lightgbm as lgb\n",
    "lgbmc = lgb.LGBMClassifier(random_state=0, verbose=-1)\n",
    "lgbmc.fit(X_train, y_train)\n",
    "pred2 = lgbmc.predict_proba(X_val)\n",
    "pred2_label=rf.predict(X_val)  "
   ]
  },
  {
   "cell_type": "code",
   "execution_count": 13,
   "id": "818dced3-52fc-48a8-9f0b-d626f9955826",
   "metadata": {},
   "outputs": [
    {
     "name": "stdout",
     "output_type": "stream",
     "text": [
      "[0.11 0.21 0.75 ... 0.28 0.05 0.36]\n",
      "\n",
      "[0.06442807 0.14527317 0.68723293 ... 0.23911734 0.02022277 0.30957594]\n"
     ]
    }
   ],
   "source": [
    "print(pred1[:,1])\n",
    "print()\n",
    "print(pred2[:,1])"
   ]
  },
  {
   "cell_type": "code",
   "execution_count": null,
   "id": "20765ede-4a00-4a10-8e8a-9b7786cb3c2d",
   "metadata": {},
   "outputs": [],
   "source": [
    "#---------------------------------------\n",
    "# 성능 평가\n",
    "#---------------------------------------"
   ]
  },
  {
   "cell_type": "code",
   "execution_count": 10,
   "id": "9db22be3-6594-417f-8b63-00dc7dc1c629",
   "metadata": {},
   "outputs": [
    {
     "name": "stdout",
     "output_type": "stream",
     "text": [
      "roc_auc: 0.8722913810479426\n",
      "accuracy_score: 0.8582421910503832\n",
      "f1_score: 0.6126976243688437\n"
     ]
    }
   ],
   "source": [
    "#-------------------\n",
    "# 랜덤포레스트 성능수치\n",
    "#-------------------\n",
    "from sklearn.metrics import roc_auc_score\n",
    "roc_auc = roc_auc_score(y_val, pred1[:,1])\n",
    "print('roc_auc:', roc_auc)\n",
    "\n",
    "from sklearn.metrics import accuracy_score\n",
    "accuracy = accuracy_score(y_val, pred1_label)\n",
    "print('accuracy_score:', accuracy)\n",
    "\n",
    "from sklearn.metrics import f1_score\n",
    "f1 = f1_score(y_val, pred1_label, pos_label=1)\n",
    "print('f1_score:', f1)"
   ]
  },
  {
   "cell_type": "code",
   "execution_count": 13,
   "id": "994ecba9-1c3f-41d9-aee7-1d5e092967e1",
   "metadata": {},
   "outputs": [
    {
     "name": "stdout",
     "output_type": "stream",
     "text": [
      "roc_auc: 0.8884244983093676\n",
      "accuracy_score: 0.8582421910503832\n",
      "f1_score: 0.6126976243688437\n"
     ]
    }
   ],
   "source": [
    "#-------------------\n",
    "# LIGHTGBM 성능수치\n",
    "#-------------------\n",
    "from sklearn.metrics import roc_auc_score\n",
    "roc_auc2_lgm = roc_auc_score(y_val, pred2[:,1])\n",
    "print('roc_auc:', roc_auc2_lgm)\n",
    "\n",
    "from sklearn.metrics import accuracy_score\n",
    "accuracy_lgm = accuracy_score(y_val, pred2_label)\n",
    "print('accuracy_score:', accuracy_lgm)\n",
    "\n",
    "from sklearn.metrics import f1_score\n",
    "f1_lgm = f1_score(y_val, pred2_label, pos_label=1)\n",
    "print('f1_score:', f1_lgm)"
   ]
  },
  {
   "cell_type": "code",
   "execution_count": null,
   "id": "fded011c-0308-4a73-a749-b67399739885",
   "metadata": {},
   "outputs": [],
   "source": [
    "#---------------------------------------\n",
    "# 파일로 저장\n",
    "#---------------------------------------"
   ]
  },
  {
   "cell_type": "code",
   "execution_count": 9,
   "id": "5b310a79-50ff-4688-b80c-a113fc4a1886",
   "metadata": {},
   "outputs": [
    {
     "data": {
      "text/html": [
       "<div>\n",
       "<style scoped>\n",
       "    .dataframe tbody tr th:only-of-type {\n",
       "        vertical-align: middle;\n",
       "    }\n",
       "\n",
       "    .dataframe tbody tr th {\n",
       "        vertical-align: top;\n",
       "    }\n",
       "\n",
       "    .dataframe thead th {\n",
       "        text-align: right;\n",
       "    }\n",
       "</style>\n",
       "<table border=\"1\" class=\"dataframe\">\n",
       "  <thead>\n",
       "    <tr style=\"text-align: right;\">\n",
       "      <th></th>\n",
       "      <th>pred</th>\n",
       "    </tr>\n",
       "  </thead>\n",
       "  <tbody>\n",
       "    <tr>\n",
       "      <th>0</th>\n",
       "      <td>0.019193</td>\n",
       "    </tr>\n",
       "    <tr>\n",
       "      <th>1</th>\n",
       "      <td>0.815015</td>\n",
       "    </tr>\n",
       "    <tr>\n",
       "      <th>2</th>\n",
       "      <td>0.028816</td>\n",
       "    </tr>\n",
       "    <tr>\n",
       "      <th>3</th>\n",
       "      <td>0.220687</td>\n",
       "    </tr>\n",
       "    <tr>\n",
       "      <th>4</th>\n",
       "      <td>0.354898</td>\n",
       "    </tr>\n",
       "    <tr>\n",
       "      <th>...</th>\n",
       "      <td>...</td>\n",
       "    </tr>\n",
       "    <tr>\n",
       "      <th>110018</th>\n",
       "      <td>0.044459</td>\n",
       "    </tr>\n",
       "    <tr>\n",
       "      <th>110019</th>\n",
       "      <td>0.130812</td>\n",
       "    </tr>\n",
       "    <tr>\n",
       "      <th>110020</th>\n",
       "      <td>0.017967</td>\n",
       "    </tr>\n",
       "    <tr>\n",
       "      <th>110021</th>\n",
       "      <td>0.158662</td>\n",
       "    </tr>\n",
       "    <tr>\n",
       "      <th>110022</th>\n",
       "      <td>0.178365</td>\n",
       "    </tr>\n",
       "  </tbody>\n",
       "</table>\n",
       "<p>110023 rows × 1 columns</p>\n",
       "</div>"
      ],
      "text/plain": [
       "            pred\n",
       "0       0.019193\n",
       "1       0.815015\n",
       "2       0.028816\n",
       "3       0.220687\n",
       "4       0.354898\n",
       "...          ...\n",
       "110018  0.044459\n",
       "110019  0.130812\n",
       "110020  0.017967\n",
       "110021  0.158662\n",
       "110022  0.178365\n",
       "\n",
       "[110023 rows x 1 columns]"
      ]
     },
     "execution_count": 9,
     "metadata": {},
     "output_type": "execute_result"
    }
   ],
   "source": [
    "pred = lgbmc.predict_proba(test)\n",
    "# pred\n",
    "\n",
    "# lgbmc.classes_\n",
    "\n",
    "submit = pd.DataFrame({'pred':pred[:,1]})\n",
    "submit.to_csv(\"result.csv\", index=False)\n",
    "\n",
    "pd.read_csv(\"result.csv\")"
   ]
  },
  {
   "cell_type": "code",
   "execution_count": null,
   "id": "77e2d050-2ed1-4f56-8e55-e31d720efd6b",
   "metadata": {},
   "outputs": [],
   "source": []
  }
 ],
 "metadata": {
  "kernelspec": {
   "display_name": "Python 3 (ipykernel)",
   "language": "python",
   "name": "python3"
  },
  "language_info": {
   "codemirror_mode": {
    "name": "ipython",
    "version": 3
   },
   "file_extension": ".py",
   "mimetype": "text/x-python",
   "name": "python",
   "nbconvert_exporter": "python",
   "pygments_lexer": "ipython3",
   "version": "3.11.6"
  }
 },
 "nbformat": 4,
 "nbformat_minor": 5
}
