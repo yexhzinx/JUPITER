{
 "cells": [
  {
   "cell_type": "code",
   "execution_count": null,
   "id": "fe698f63-cd33-49cf-ad2f-b08da500606d",
   "metadata": {},
   "outputs": [],
   "source": [
    "# -----------------------------------------------------------------------------\n",
    "# 독립 표본검정\n",
    "# -----------------------------------------------------------------------------\n",
    "독립표본검정은 **두 개의 독립된 집단 간 평균의 차이**가 통계적으로 유의한지를 검정하는 통계 방법\n",
    "각 집단의 표본은 서로 독립적이며, 한 집단의 결과가 다른 집단에 영향을 주지 않는 경우에 사용"
   ]
  },
  {
   "cell_type": "code",
   "execution_count": 1,
   "id": "03976280-b57a-492d-a56c-52b5efb64d07",
   "metadata": {},
   "outputs": [],
   "source": [
    "import pandas as pd\n",
    "class1 = [85, 90, 92, 88, 86, 89, 83, 87]\n",
    "class2 = [80, 82, 88, 85, 84]"
   ]
  },
  {
   "cell_type": "code",
   "execution_count": 2,
   "id": "80ab4f44-6468-4f38-be15-ad0f704b8122",
   "metadata": {},
   "outputs": [
    {
     "name": "stdout",
     "output_type": "stream",
     "text": [
      "TtestResult(statistic=2.2108140580092237, pvalue=0.04914857789252186, df=11.0)\n"
     ]
    }
   ],
   "source": [
    "from scipy import stats\n",
    "print(stats.ttest_ind(class1, class2))"
   ]
  },
  {
   "cell_type": "code",
   "execution_count": 3,
   "id": "2ddd14e1-9334-4734-86e8-0171c8727abd",
   "metadata": {},
   "outputs": [
    {
     "name": "stdout",
     "output_type": "stream",
     "text": [
      "TtestResult(statistic=2.1818699281825236, pvalue=0.059589330071355334, df=8.272682358753572)\n"
     ]
    }
   ],
   "source": [
    "print(stats.ttest_ind(class1, class2, equal_var=False))"
   ]
  },
  {
   "cell_type": "code",
   "execution_count": 4,
   "id": "03dec7a6-6d75-4e1d-80e5-16c56143bb41",
   "metadata": {},
   "outputs": [
    {
     "name": "stdout",
     "output_type": "stream",
     "text": [
      "TtestResult(statistic=2.2108140580092237, pvalue=0.9754257110537391, df=11.0)\n"
     ]
    }
   ],
   "source": [
    "print(stats.ttest_ind(class1, class2, equal_var=True, alternative='less'))"
   ]
  },
  {
   "cell_type": "code",
   "execution_count": 5,
   "id": "b81902c3-1d57-486e-a64a-3ae5fb29c188",
   "metadata": {},
   "outputs": [
    {
     "name": "stdout",
     "output_type": "stream",
     "text": [
      "TtestResult(statistic=2.2108140580092237, pvalue=0.02457428894626093, df=11.0)\n"
     ]
    }
   ],
   "source": [
    "print(stats.ttest_ind(class1, class2, equal_var=True, alternative='greater'))"
   ]
  },
  {
   "cell_type": "code",
   "execution_count": null,
   "id": "fda453e7-092a-4add-964b-27fdcce2994d",
   "metadata": {},
   "outputs": [],
   "source": [
    "# -----------------------------------------\n",
    "# StudentsPerformance\n",
    "# -----------------------------------------"
   ]
  },
  {
   "cell_type": "code",
   "execution_count": 10,
   "id": "b035afda-6979-4725-8499-652193cffb69",
   "metadata": {},
   "outputs": [
    {
     "name": "stdout",
     "output_type": "stream",
     "text": [
      "등분산 가정 t-검정 결과: TtestResult(statistic=-5.383245869828983, pvalue=9.120185549328822e-08, df=998.0)\n",
      "Welch t-검정 결과: TtestResult(statistic=-5.398000564160736, pvalue=8.420838109090415e-08, df=997.9840751727494)\n"
     ]
    }
   ],
   "source": [
    "# StudentsPerformance.csv - 간단한 독립표본 t-검정\n",
    "\n",
    "# 남녀의 수학 점수 비교\n",
    "import pandas as pd\n",
    "from scipy import stats\n",
    "\n",
    "# 1) CSV 불러오기\n",
    "df = pd.read_csv(\"StudentsPerformance.csv\")\n",
    "\n",
    "# 2) 남학생과 여학생 데이터 분리\n",
    "female = df[df['gender'] == 'female']['math score']\n",
    "male   = df[df['gender'] == 'male']['math score']\n",
    "\n",
    "\n",
    "# # 3) 독립표본 t-검정 (등분산 가정)\n",
    "result_equal = stats.ttest_ind(female, male, equal_var=True)\n",
    "print(\"등분산 가정 t-검정 결과:\", result_equal)\n",
    "\n",
    "# # 4) Welch t-검정 (등분산 가정하지 않음)\n",
    "result_welch = stats.ttest_ind(female, male, equal_var=False)\n",
    "print(\"Welch t-검정 결과:\", result_welch)\n",
    "\n",
    "# # 5) 방향성 검정 (여학생 점수가 남학생보다 낮은지 / 높은지)\n",
    "# print(\"여학생 < 남학생 :\", stats.ttest_ind(female, male, alternative='less'))\n",
    "# print(\"여학생 > 남학생 :\", stats.ttest_ind(female, male, alternative='greater'))\n"
   ]
  },
  {
   "cell_type": "code",
   "execution_count": null,
   "id": "96476aca-cbd1-4d59-8254-31f3b3dcca34",
   "metadata": {},
   "outputs": [],
   "source": []
  },
  {
   "cell_type": "code",
   "execution_count": null,
   "id": "7c9cc95f-f1ca-42cb-abaf-1a9be766f555",
   "metadata": {},
   "outputs": [],
   "source": []
  },
  {
   "cell_type": "code",
   "execution_count": null,
   "id": "e0361223-2a47-4793-8467-b43f9b3864c7",
   "metadata": {},
   "outputs": [],
   "source": []
  },
  {
   "cell_type": "code",
   "execution_count": null,
   "id": "b07d003f-48f0-4792-936c-f03780211ca3",
   "metadata": {},
   "outputs": [],
   "source": []
  }
 ],
 "metadata": {
  "kernelspec": {
   "display_name": "Python 3 (ipykernel)",
   "language": "python",
   "name": "python3"
  },
  "language_info": {
   "codemirror_mode": {
    "name": "ipython",
    "version": 3
   },
   "file_extension": ".py",
   "mimetype": "text/x-python",
   "name": "python",
   "nbconvert_exporter": "python",
   "pygments_lexer": "ipython3",
   "version": "3.11.6"
  }
 },
 "nbformat": 4,
 "nbformat_minor": 5
}
