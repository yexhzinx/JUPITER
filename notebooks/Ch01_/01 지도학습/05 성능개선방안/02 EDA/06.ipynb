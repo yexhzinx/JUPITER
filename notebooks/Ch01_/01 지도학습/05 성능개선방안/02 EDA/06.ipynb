{
 "cells": [
  {
   "cell_type": "code",
   "execution_count": null,
   "id": "459e97a6-ad27-4457-b77d-f1f6f5d32e32",
   "metadata": {},
   "outputs": [],
   "source": [
    "# -----------------------------------------------------------------------------\n",
    "# 2. 대응 표본검정\n",
    "# -----------------------------------------------------------------------------\n",
    "# 대응표본 t검정(paired t-test) 은\n",
    "# 같은 집단에서 두 번 이상 측정된 데이터의 평균 차이를 비교할 때 사용하는 검정\n",
    "\n",
    "# 즉,\n",
    "\n",
    "# “같은 사람(또는 같은 대상)에게 두 번 측정한 값이 통계적으로 달라졌는가?”\n",
    "# 를 확인하는 검정입니다.\n",
    "\n",
    "# 2. 예시로 이해하기\n",
    "# | 예시 상황                       | 설명                                     |\n",
    "# | --------------------           | -------------------------------------- |\n",
    "# | **다이어트 전후 체중 비교**      | 같은 사람 30명을 대상으로, 식단 전/후의 체중 차이가 있는지 검정 |\n",
    "# | **교육 프로그램 전후 점수 비교** | 같은 학생들이 수업 전/후 시험을 본 후 점수 향상이 있는지 검정   |\n",
    "# | **약 복용 전후 혈압 변화**      | 같은 환자군에서 약 복용 전후 혈압이 유의하게 달라졌는지 검정     |\n",
    "\n",
    "# 이런 경우, 두 데이터(전(before) / 후(after))가 서로 연결(대응) 되어 있으므로, 대응표본 t검정을 사용합니다.\n",
    "\n",
    "# 3. 가설 설정\n",
    "# | 구분            | 내용              | 수식                 |\n",
    "# | ------------- | --------------- | ------------------ |\n",
    "# | **귀무가설 (H₀)** | 두 시점의 평균 차이가 없다 | μ<sub>차이</sub> = 0 |\n",
    "# | **대립가설 (H₁)** | 두 시점의 평균 차이가 있다 | μ<sub>차이</sub> ≠ 0 |\n",
    "\n"
   ]
  },
  {
   "cell_type": "code",
   "execution_count": 5,
   "id": "55bdcb20-bab7-4f5e-b998-43eeb22783f8",
   "metadata": {},
   "outputs": [],
   "source": [
    "import pandas as pd\n",
    "df = pd.DataFrame({\n",
    "    'before':[85, 90, 92, 88, 86, 89, 83, 87],\n",
    "    'after':[85.5,89.9,92.6,89.5,85.8,88.8,84.6,87.8]\n",
    "})"
   ]
  },
  {
   "cell_type": "code",
   "execution_count": 2,
   "id": "8dc73318-bbb4-4ce3-a29d-73b1aa058670",
   "metadata": {},
   "outputs": [
    {
     "name": "stdout",
     "output_type": "stream",
     "text": [
      "TtestResult(statistic=-2.2127749675452324, pvalue=0.03127028733756238, df=7)\n"
     ]
    }
   ],
   "source": [
    "from scipy import stats\n",
    "print(stats.ttest_rel(df['before'], df['after'], alternative='less'))"
   ]
  },
  {
   "cell_type": "code",
   "execution_count": 3,
   "id": "8cc8da7d-4a3a-4608-aff8-220f685e704f",
   "metadata": {},
   "outputs": [
    {
     "name": "stdout",
     "output_type": "stream",
     "text": [
      "TtestResult(statistic=2.2127749675452324, pvalue=0.03127028733756238, df=7)\n"
     ]
    }
   ],
   "source": [
    "print(stats.ttest_rel(df['after'], df['before'], alternative='greater'))"
   ]
  },
  {
   "cell_type": "code",
   "execution_count": 4,
   "id": "f5dedadf-9c29-4f05-86de-837cbb98d8a2",
   "metadata": {},
   "outputs": [
    {
     "name": "stdout",
     "output_type": "stream",
     "text": [
      "TtestResult(statistic=2.2127749675452324, pvalue=0.06254057467512476, df=7)\n"
     ]
    }
   ],
   "source": [
    "print(stats.ttest_rel(df['after'], df['before']))"
   ]
  },
  {
   "cell_type": "code",
   "execution_count": null,
   "id": "ffcbb14c-207d-49f5-b98f-7897dde9adeb",
   "metadata": {},
   "outputs": [],
   "source": [
    "# -----------------------------------------------\n",
    "# sales_data_sample\n",
    "# -----------------------------------------------"
   ]
  },
  {
   "cell_type": "code",
   "execution_count": null,
   "id": "6c2dfcd3-c1d0-43f0-927e-7bc3ca4d4eeb",
   "metadata": {},
   "outputs": [],
   "source": [
    "# ---------------------------------------\n",
    "# 문제정의 - sales_data_sample.csv\n",
    "# ---------------------------------------\n",
    "# 같은 제품의 1분기와 2분기(QTR_ID) 매출이 유의하게 다른지 확인\n",
    "# 2004년 기준, Q1 vs Q2 매출 비교\n",
    "\n",
    "# | 컬럼명                  | 한글명칭     | 데이터 내용 / 설명                                    |\n",
    "# | -------------------- | -------- | ---------------------------------------------- |\n",
    "# | **ORDERNUMBER**      | 주문번호     | 하나의 주문을 구분하는 고유 번호. 하나의 주문에 여러 상품 라인이 있을 수 있음. |\n",
    "# | **QUANTITYORDERED**  | 주문수량     | 해당 상품이 주문된 수량 (예: 30개, 50개 등).                 |\n",
    "# | **PRICEEACH**        | 개당가격     | 상품 1개의 단가 (예: 95.7 달러).                        |\n",
    "# | **ORDERLINENUMBER**  | 주문라인번호   | 같은 주문번호 내에서 상품별 순서(1, 2, 3...)를 구분.            |\n",
    "# | **SALES**            | 매출금액     | 주문 수량 × 단가. 한 라인의 총 매출액.                       |\n",
    "# | **ORDERDATE**        | 주문일자     | 주문이 접수된 날짜 (`YYYY-MM-DD`).                     |\n",
    "# | **STATUS**           | 주문상태     | 주문의 진행상태 (예: Shipped, Cancelled, On Hold 등).   |\n",
    "# | **QTR_ID**           | 분기번호     | 해당 주문의 회계분기 (1~4분기 중 하나).                      |\n",
    "# | **MONTH_ID**         | 월번호      | 주문 발생 월 (1~12).                                |\n",
    "# | **YEAR_ID**          | 연도       | 주문 발생 연도 (예: 2003, 2004, 2005).                |\n",
    "# | **PRODUCTLINE**      | 제품라인     | 제품이 속한 카테고리명 (예: Classic Cars, Motorcycles 등). |\n",
    "# | **MSRP**             | 권장소비자가격  | 제조사가 제시한 권장 판매가.                               |\n",
    "# | **PRODUCTCODE**      | 제품코드     | 제품을 고유하게 식별하는 코드 (예: `S10_1678`).              |\n",
    "# | **CUSTOMERNAME**     | 고객명      | 주문을 한 고객(회사) 이름.                               |\n",
    "# | **PHONE**            | 전화번호     | 고객의 연락처 전화번호.                                  |\n",
    "# | **ADDRESSLINE1**     | 주소(1)    | 고객의 기본 주소 (도로명 주소).                            |\n",
    "# | **ADDRESSLINE2**     | 주소(2)    | 추가 주소 정보 (건물명, 층 등). 비어 있는 경우도 많음.             |\n",
    "# | **CITY**             | 도시       | 고객이 속한 도시명 (예: San Francisco, Madrid 등).       |\n",
    "# | **STATE**            | 주(State) | 미국/캐나다 등에서 사용하는 주 단위 지역명.                      |\n",
    "# | **POSTALCODE**       | 우편번호     | 고객 주소의 우편번호.                                   |\n",
    "# | **COUNTRY**          | 국가       | 고객이 위치한 나라명 (예: USA, France 등).                |\n",
    "# | **TERRITORY**        | 영업지역     | 영업 담당 구역 (예: EMEA, APAC, NA 등).                |\n",
    "# | **CONTACTLASTNAME**  | 담당자 성    | 고객 담당자의 성(last name).                          |\n",
    "# | **CONTACTFIRSTNAME** | 담당자 이름   | 고객 담당자의 이름(first name).                        |\n",
    "# | **DEALSIZE**         | 거래규모     | 거래 규모 등급 (예: Small, Medium, Large 등으로 분류).     |\n"
   ]
  },
  {
   "cell_type": "code",
   "execution_count": null,
   "id": "6af93cf9-6dab-4a6f-af62-eb4d3761674e",
   "metadata": {},
   "outputs": [],
   "source": [
    "# QTR_ID 의 1분기 , 2분기각 평균 비교"
   ]
  },
  {
   "cell_type": "code",
   "execution_count": 15,
   "id": "5f7abc8c-2845-4ec2-858a-86f0916f343c",
   "metadata": {},
   "outputs": [
    {
     "name": "stdout",
     "output_type": "stream",
     "text": [
      "대응표본 t검정 (연도: 2004, Q1 vs Q2 매출)\n",
      "t-statistic: 1.6790047760565883\n",
      "p-value: 0.09604215245565047\n",
      "귀무가설 채택 → Q1과 Q2의 평균 매출에 유의한 차이가 없습니다.\n"
     ]
    }
   ],
   "source": [
    "import pandas as pd\n",
    "from scipy import stats\n",
    "\n",
    "# 1. 데이터 불러오기\n",
    "df = pd.read_csv(\"sales_data_sample.csv\")\n",
    "\n",
    "# 2. 특정 연도(데이터가 가장 많은 연도)만 선택\n",
    "target_year = int(df[\"YEAR_ID\"].value_counts().idxmax())\n",
    "data = df[df[\"YEAR_ID\"] == target_year]\n",
    "\n",
    "# # 3. 제품별 분기별 매출 합계 계산\n",
    "pivot = data.pivot_table(index=\"PRODUCTCODE\", columns=\"QTR_ID\", values=\"SALES\", aggfunc=\"sum\")\n",
    "\n",
    "# 4. Q1, Q2 매출이 모두 존재하는 제품만 추출\n",
    "paired = pivot[[1, 2]].dropna() # NAN 제거\n",
    "before = paired[1]  # Q1 매출\n",
    "after = paired[2]   # Q2 매출\n",
    "\n",
    "\n",
    "# # 5. 대응표본 t검정 수행 (양측검정)\n",
    "t_stat, p_val = stats.ttest_rel(before, after)\n",
    "\n",
    "# # 6. 결과 출력\n",
    "print(f\"대응표본 t검정 (연도: {target_year}, Q1 vs Q2 매출)\")\n",
    "print(\"t-statistic:\", t_stat)\n",
    "print(\"p-value:\", p_val)\n",
    "\n",
    "# # 7. 해석\n",
    "if p_val < 0.05:\n",
    "    print(\"귀무가설 기각 → Q1과 Q2의 평균 매출에 통계적으로 유의한 차이가 있습니다.\")\n",
    "else:\n",
    "    print(\"귀무가설 채택 → Q1과 Q2의 평균 매출에 유의한 차이가 없습니다.\")\n",
    "\n",
    "\n",
    "# # 귀무가설(H₀) : \"두 집단의 평균은 같다\" 또는 \"차이가 없다\"는 가정\n",
    "# # 대립가설(H₁) : \"두 집단의 평균은 다르다\" 또는 \"차이가 있다\"는 주장\n",
    "# # p-value(유의확률) : “귀무가설이 참이라고 가정했을 때, 지금처럼 극단적인 결과가 나올 확률\"\n",
    "# # p-value가 작다(0.05 미만) -> 귀무가설이 맞을 가능성이 낮음 -> ‘차이가 있다’(통계적으로 유의함) 라고 판단\n",
    "# # p-value가 크다(0.05 이상) -> 이런 결과는 우연히도 충분히 일어날 수 있음 -> ‘차이가 없다’(유의하지 않음)\n",
    "\n",
    "# 즉, 1분기(Q1)과 2분기(Q2) 매출이 ‘통계적으로는 비슷’하다\n",
    "# 분기가 달라져도 (1분기 -> 2분기) 매출에 뚜렷한 영향을 준다고 보기 어렵다 \n",
    "# ->분기컬럼을 삭제하는 방향으로 고려해도 괜찮을것같다(나머지 Q3,Q4도  확인해서 유의성 검정)"
   ]
  },
  {
   "cell_type": "code",
   "execution_count": null,
   "id": "8d86d66b-f006-4d20-80a1-d405e80c58a1",
   "metadata": {},
   "outputs": [],
   "source": []
  }
 ],
 "metadata": {
  "kernelspec": {
   "display_name": "Python 3 (ipykernel)",
   "language": "python",
   "name": "python3"
  },
  "language_info": {
   "codemirror_mode": {
    "name": "ipython",
    "version": 3
   },
   "file_extension": ".py",
   "mimetype": "text/x-python",
   "name": "python",
   "nbconvert_exporter": "python",
   "pygments_lexer": "ipython3",
   "version": "3.11.6"
  }
 },
 "nbformat": 4,
 "nbformat_minor": 5
}
