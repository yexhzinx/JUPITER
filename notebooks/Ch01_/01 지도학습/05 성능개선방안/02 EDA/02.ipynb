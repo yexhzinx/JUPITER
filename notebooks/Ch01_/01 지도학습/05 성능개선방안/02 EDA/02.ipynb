{
 "cells": [
  {
   "cell_type": "code",
   "execution_count": 1,
   "id": "7da2459b-606c-4b0a-9890-5220b2de1084",
   "metadata": {},
   "outputs": [],
   "source": [
    "from scipy.stats import chi2_contingency\n",
    "import pandas as pd\n",
    "\n",
    "# 데이터 예시 (성별에 따라 제품 선택에 차이가 있도록 설정)\n",
    "df = pd.DataFrame({\n",
    "    'gender': ['M','M','M','M','M','F','F','F','F','F'],\n",
    "    'product': ['A','A','A','B','B','B','B','B','A','A']\n",
    "})"
   ]
  },
  {
   "cell_type": "code",
   "execution_count": 2,
   "id": "48c3aa3d-f60b-47f8-abfa-25dd06278fa9",
   "metadata": {},
   "outputs": [
    {
     "data": {
      "text/html": [
       "<div>\n",
       "<style scoped>\n",
       "    .dataframe tbody tr th:only-of-type {\n",
       "        vertical-align: middle;\n",
       "    }\n",
       "\n",
       "    .dataframe tbody tr th {\n",
       "        vertical-align: top;\n",
       "    }\n",
       "\n",
       "    .dataframe thead th {\n",
       "        text-align: right;\n",
       "    }\n",
       "</style>\n",
       "<table border=\"1\" class=\"dataframe\">\n",
       "  <thead>\n",
       "    <tr style=\"text-align: right;\">\n",
       "      <th>product</th>\n",
       "      <th>A</th>\n",
       "      <th>B</th>\n",
       "    </tr>\n",
       "    <tr>\n",
       "      <th>gender</th>\n",
       "      <th></th>\n",
       "      <th></th>\n",
       "    </tr>\n",
       "  </thead>\n",
       "  <tbody>\n",
       "    <tr>\n",
       "      <th>F</th>\n",
       "      <td>2</td>\n",
       "      <td>3</td>\n",
       "    </tr>\n",
       "    <tr>\n",
       "      <th>M</th>\n",
       "      <td>3</td>\n",
       "      <td>2</td>\n",
       "    </tr>\n",
       "  </tbody>\n",
       "</table>\n",
       "</div>"
      ],
      "text/plain": [
       "product  A  B\n",
       "gender       \n",
       "F        2  3\n",
       "M        3  2"
      ]
     },
     "execution_count": 2,
     "metadata": {},
     "output_type": "execute_result"
    }
   ],
   "source": [
    "# 교차표 생성\n",
    "crosstab = pd.crosstab(df['gender'], df['product'])\n",
    "crosstab"
   ]
  },
  {
   "cell_type": "code",
   "execution_count": 3,
   "id": "a7a179f4-0c4f-4a12-ad36-d4d1968588f3",
   "metadata": {},
   "outputs": [
    {
     "name": "stdout",
     "output_type": "stream",
     "text": [
      "Chi-square:  0.0\n",
      "p-value:  1.0\n",
      "자유도:  1\n",
      "기대빈도:  [[2.5 2.5]\n",
      " [2.5 2.5]]\n"
     ]
    }
   ],
   "source": [
    "# # 카이제곱 검정\n",
    "chi2, pval, dof, expected = chi2_contingency(crosstab)\n",
    "print('Chi-square: ',chi2)\n",
    "print('p-value: ',pval)\n",
    "print('자유도: ', dof)\n",
    "print('기대빈도: ',expected)"
   ]
  },
  {
   "cell_type": "code",
   "execution_count": 4,
   "id": "fd196711-6175-4fb0-aaac-58862b074fea",
   "metadata": {},
   "outputs": [
    {
     "name": "stdout",
     "output_type": "stream",
     "text": [
      "→ 두 변수는 독립적입니다.\n"
     ]
    }
   ],
   "source": [
    "# # 결과 해석\n",
    "alpha = 0.05\n",
    "if pval < alpha:\n",
    "    print('→ 두 변수는 유의한 관계가 있습니다.')\n",
    "else:\n",
    "    print('→ 두 변수는 독립적입니다.')"
   ]
  },
  {
   "cell_type": "code",
   "execution_count": null,
   "id": "e7e880ef-6f4e-4186-ab6e-28fd40ad2dd8",
   "metadata": {},
   "outputs": [],
   "source": [
    "# -----------------------------------------------"
   ]
  },
  {
   "cell_type": "code",
   "execution_count": 18,
   "id": "020ea7c9-2d60-4071-8d06-02ecdd27f58d",
   "metadata": {},
   "outputs": [
    {
     "name": "stdout",
     "output_type": "stream",
     "text": [
      "=== 카이제곱 검정 결과 (income 종속변수 기준) ===\n"
     ]
    },
    {
     "data": {
      "text/html": [
       "<div>\n",
       "<style scoped>\n",
       "    .dataframe tbody tr th:only-of-type {\n",
       "        vertical-align: middle;\n",
       "    }\n",
       "\n",
       "    .dataframe tbody tr th {\n",
       "        vertical-align: top;\n",
       "    }\n",
       "\n",
       "    .dataframe thead th {\n",
       "        text-align: right;\n",
       "    }\n",
       "</style>\n",
       "<table border=\"1\" class=\"dataframe\">\n",
       "  <thead>\n",
       "    <tr style=\"text-align: right;\">\n",
       "      <th></th>\n",
       "      <th>변수명</th>\n",
       "      <th>Chi2 통계량</th>\n",
       "      <th>p-value</th>\n",
       "      <th>자유도</th>\n",
       "      <th>유의성(p&lt;0.05)</th>\n",
       "    </tr>\n",
       "  </thead>\n",
       "  <tbody>\n",
       "    <tr>\n",
       "      <th>0</th>\n",
       "      <td>workclass</td>\n",
       "      <td>733.5968</td>\n",
       "      <td>0.0</td>\n",
       "      <td>7</td>\n",
       "      <td>유의함</td>\n",
       "    </tr>\n",
       "    <tr>\n",
       "      <th>1</th>\n",
       "      <td>education</td>\n",
       "      <td>3949.6069</td>\n",
       "      <td>0.0</td>\n",
       "      <td>15</td>\n",
       "      <td>유의함</td>\n",
       "    </tr>\n",
       "    <tr>\n",
       "      <th>2</th>\n",
       "      <td>marital.status</td>\n",
       "      <td>5939.7594</td>\n",
       "      <td>0.0</td>\n",
       "      <td>6</td>\n",
       "      <td>유의함</td>\n",
       "    </tr>\n",
       "    <tr>\n",
       "      <th>3</th>\n",
       "      <td>occupation</td>\n",
       "      <td>3360.2003</td>\n",
       "      <td>0.0</td>\n",
       "      <td>13</td>\n",
       "      <td>유의함</td>\n",
       "    </tr>\n",
       "    <tr>\n",
       "      <th>4</th>\n",
       "      <td>relationship</td>\n",
       "      <td>6099.7599</td>\n",
       "      <td>0.0</td>\n",
       "      <td>5</td>\n",
       "      <td>유의함</td>\n",
       "    </tr>\n",
       "    <tr>\n",
       "      <th>5</th>\n",
       "      <td>race</td>\n",
       "      <td>298.2598</td>\n",
       "      <td>0.0</td>\n",
       "      <td>4</td>\n",
       "      <td>유의함</td>\n",
       "    </tr>\n",
       "    <tr>\n",
       "      <th>6</th>\n",
       "      <td>sex</td>\n",
       "      <td>1362.7943</td>\n",
       "      <td>0.0</td>\n",
       "      <td>1</td>\n",
       "      <td>유의함</td>\n",
       "    </tr>\n",
       "    <tr>\n",
       "      <th>7</th>\n",
       "      <td>native.country</td>\n",
       "      <td>284.2286</td>\n",
       "      <td>0.0</td>\n",
       "      <td>40</td>\n",
       "      <td>유의함</td>\n",
       "    </tr>\n",
       "  </tbody>\n",
       "</table>\n",
       "</div>"
      ],
      "text/plain": [
       "              변수명   Chi2 통계량  p-value  자유도 유의성(p<0.05)\n",
       "0       workclass   733.5968      0.0    7         유의함\n",
       "1       education  3949.6069      0.0   15         유의함\n",
       "2  marital.status  5939.7594      0.0    6         유의함\n",
       "3      occupation  3360.2003      0.0   13         유의함\n",
       "4    relationship  6099.7599      0.0    5         유의함\n",
       "5            race   298.2598      0.0    4         유의함\n",
       "6             sex  1362.7943      0.0    1         유의함\n",
       "7  native.country   284.2286      0.0   40         유의함"
      ]
     },
     "metadata": {},
     "output_type": "display_data"
    }
   ],
   "source": [
    "import pandas as pd\n",
    "from scipy.stats import chi2_contingency\n",
    "\n",
    "# 1. CSV 파일 불러오기\n",
    "df = pd.read_csv('train.csv')\n",
    "# df.info()\n",
    "\n",
    "# 2 target 분리\n",
    "target = df.pop('income')\n",
    "\n",
    "# 3 범주형 x 분리\n",
    "categorical_cols = df.select_dtypes(include=['object']).columns.tolist()\n",
    "categorical_cols\n",
    "\n",
    "# 4. 카이제곱 검정 수행 및 결과 저장\n",
    "results = []\n",
    "\n",
    "for col in categorical_cols:\n",
    "    crosstab = pd.crosstab(df[col], target)\n",
    "    chi2, p, dof, expected = chi2_contingency(crosstab)\n",
    "    results.append({\n",
    "        '변수명': col,\n",
    "        'Chi2 통계량': round(chi2, 4),\n",
    "        'p-value':round(p, 4),\n",
    "        '자유도': dof,\n",
    "        '유의성(p<0.05)': '유의함' if p < 0.05 else '유의하지 않음'\n",
    "    })\n",
    "\n",
    "# 6. DataFrame 생성 및 정렬\n",
    "chi2_df = pd.DataFrame(results).sort_values('p-value', ascending=True).reset_index(drop=True)\n",
    "\n",
    "# 7. 결과 출력\n",
    "print(\"=== 카이제곱 검정 결과 (income 종속변수 기준) ===\")\n",
    "display(chi2_df)"
   ]
  },
  {
   "cell_type": "code",
   "execution_count": null,
   "id": "20cdebf4-5f3f-4fbd-8fe3-5cf8d7f0d37e",
   "metadata": {},
   "outputs": [],
   "source": []
  },
  {
   "cell_type": "code",
   "execution_count": null,
   "id": "b3a8f650-9e17-45c8-8cb5-55d847746ebe",
   "metadata": {},
   "outputs": [],
   "source": []
  },
  {
   "cell_type": "code",
   "execution_count": null,
   "id": "fe533744-4b80-445f-97eb-e3c83ad2a8b5",
   "metadata": {},
   "outputs": [],
   "source": []
  }
 ],
 "metadata": {
  "kernelspec": {
   "display_name": "Python 3 (ipykernel)",
   "language": "python",
   "name": "python3"
  },
  "language_info": {
   "codemirror_mode": {
    "name": "ipython",
    "version": 3
   },
   "file_extension": ".py",
   "mimetype": "text/x-python",
   "name": "python",
   "nbconvert_exporter": "python",
   "pygments_lexer": "ipython3",
   "version": "3.11.6"
  }
 },
 "nbformat": 4,
 "nbformat_minor": 5
}
