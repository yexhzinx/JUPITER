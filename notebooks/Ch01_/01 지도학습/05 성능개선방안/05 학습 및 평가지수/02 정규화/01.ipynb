{
 "cells": [
  {
   "cell_type": "code",
   "execution_count": null,
   "id": "b7b13bd5-2651-43a8-9147-e4badbaec575",
   "metadata": {},
   "outputs": [],
   "source": [
    "# --------------------\n",
    "# 📦 라이브러리 및 데이터 준비\n",
    "# --------------------\n",
    "import numpy as np\n",
    "import pandas as pd\n",
    "from sklearn.linear_model import Ridge # Ridge 회귀 모델\n",
    "from sklearn.model_selection import train_test_split\n",
    "from sklearn.preprocessing import StandardScaler\n",
    "\n",
    "# 예시 데이터 생성 (특성 10개, 샘플 50개)\n",
    "rng = np.random.RandomState(42)\n",
    "X = rng.rand(50, 10) * 10\n",
    "# 타겟값 생성 (선형 관계 + 노이즈)\n",
    "y = 3 * X[:, 0] - 2 * X[:, 5] + 1 + rng.randn(50) * 5 \n",
    "\n",
    "# 데이터 분리\n",
    "X_train, X_test, y_train, y_test = train_test_split(X, y, test_size=0.3, random_state=42)\n",
    "\n",
    "print(\"--- 학습 데이터 크기 ---\")\n",
    "print(f\"X_train: {X_train.shape}, y_train: {y_train.shape}\")"
   ]
  },
  {
   "cell_type": "code",
   "execution_count": null,
   "id": "3e31216f-808a-44ca-8a97-8d752f04e696",
   "metadata": {},
   "outputs": [],
   "source": [
    "# --------------------\n",
    "# 📏 2단계: 데이터 스케일링 (표준화)\n",
    "# --------------------\n",
    "scaler = StandardScaler()\n",
    "# 학습 데이터에 fit 후 transform\n",
    "X_train_scaled = scaler.fit_transform(X_train)\n",
    "# 테스트 데이터는 fit 없이 transform만\n",
    "X_test_scaled = scaler.transform(X_test)\n",
    "\n",
    "print(\"\\n--- 2단계: 스케일링 완료 ---\")"
   ]
  },
  {
   "cell_type": "code",
   "execution_count": null,
   "id": "c2820394-4dc2-4097-9f6e-d14d40e35d79",
   "metadata": {},
   "outputs": [],
   "source": [
    "# --------------------\n",
    "# 🛡️ 3단계: Ridge 모델 학습 및 계수 확인\n",
    "# --------------------\n",
    "# alpha=1.0: 규제 강도 (λ) 설정. 값이 클수록 규제가 강해짐.\n",
    "ridge_model = Ridge(alpha=1.0, random_state=42) \n",
    "\n",
    "# 모델 학습\n",
    "ridge_model.fit(X_train_scaled, y_train)\n",
    "\n",
    "# 학습된 회귀 계수 (가중치) 확인\n",
    "coefficients = ridge_model.coef_\n",
    "\n",
    "print(\"\\n--- 3단계: 학습된 회귀 계수 (β) ---\")\n",
    "# Ridge는 계수를 0에 가깝게 축소하지만, 완전히 0으로 만들지는 않습니다.\n",
    "print(coefficients)"
   ]
  },
  {
   "cell_type": "code",
   "execution_count": null,
   "id": "b2a8a973-43f0-4372-8b95-bbe7fcbb99e5",
   "metadata": {},
   "outputs": [],
   "source": [
    "# --------------------\n",
    "# 📉 4단계: 예측 및 성능 평가\n",
    "# --------------------\n",
    "from sklearn.metrics import mean_squared_error\n",
    "\n",
    "# 예측 수행\n",
    "y_pred = ridge_model.predict(X_test_scaled)\n",
    "\n",
    "# 성능 평가 (MSE 사용)\n",
    "mse = mean_squared_error(y_test, y_pred)\n",
    "\n",
    "print(f\"\\n--- 4단계: 모델 성능 평가 ---\")\n",
    "print(f\"테스트 데이터 MSE (평균 제곱 오차): {mse:.4f}\")"
   ]
  },
  {
   "cell_type": "code",
   "execution_count": null,
   "id": "c344e19f-ae2c-43b4-b75e-64bc318462af",
   "metadata": {},
   "outputs": [],
   "source": []
  }
 ],
 "metadata": {
  "kernelspec": {
   "display_name": "Python 3 (ipykernel)",
   "language": "python",
   "name": "python3"
  },
  "language_info": {
   "codemirror_mode": {
    "name": "ipython",
    "version": 3
   },
   "file_extension": ".py",
   "mimetype": "text/x-python",
   "name": "python",
   "nbconvert_exporter": "python",
   "pygments_lexer": "ipython3",
   "version": "3.11.6"
  }
 },
 "nbformat": 4,
 "nbformat_minor": 5
}
