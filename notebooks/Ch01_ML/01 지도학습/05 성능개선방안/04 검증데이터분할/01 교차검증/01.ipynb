{
 "cells": [
  {
   "cell_type": "code",
   "execution_count": 1,
   "id": "3741c67a-c98e-4911-b863-37ee6077fd44",
   "metadata": {},
   "outputs": [
    {
     "name": "stdout",
     "output_type": "stream",
     "text": [
      "--- 데이터 준비 완료 ---\n"
     ]
    },
    {
     "data": {
      "text/plain": [
       "array([0, 0, 0, 0, 0, 0, 0, 0, 0, 0, 0, 0, 0, 0, 0, 0, 0, 0, 0, 0, 0, 0,\n",
       "       0, 0, 0, 0, 0, 0, 0, 0, 0, 0, 0, 0, 0, 0, 0, 0, 0, 0, 0, 0, 0, 0,\n",
       "       0, 0, 0, 0, 0, 0, 1, 1, 1, 1, 1, 1, 1, 1, 1, 1, 1, 1, 1, 1, 1, 1,\n",
       "       1, 1, 1, 1, 1, 1, 1, 1, 1, 1, 1, 1, 1, 1, 1, 1, 1, 1, 1, 1, 1, 1,\n",
       "       1, 1, 1, 1, 1, 1, 1, 1, 1, 1, 1, 1, 2, 2, 2, 2, 2, 2, 2, 2, 2, 2,\n",
       "       2, 2, 2, 2, 2, 2, 2, 2, 2, 2, 2, 2, 2, 2, 2, 2, 2, 2, 2, 2, 2, 2,\n",
       "       2, 2, 2, 2, 2, 2, 2, 2, 2, 2, 2, 2, 2, 2, 2, 2, 2, 2])"
      ]
     },
     "execution_count": 1,
     "metadata": {},
     "output_type": "execute_result"
    }
   ],
   "source": [
    "# --------------------\n",
    "# 라이브러리 및 데이터 준비\n",
    "# --------------------\n",
    "import numpy as np\n",
    "from sklearn.model_selection import KFold, cross_val_score # KFold와 성능 평가 함수\n",
    "from sklearn.linear_model import LogisticRegression # 예시 모델 (로지스틱 회귀)\n",
    "from sklearn.datasets import load_iris\n",
    "\n",
    "# Iris 데이터셋 로드\n",
    "iris = load_iris()\n",
    "X, y = iris.data, iris.target\n",
    "\n",
    "print(\"--- 데이터 준비 완료 ---\")\n",
    "y"
   ]
  },
  {
   "cell_type": "code",
   "execution_count": null,
   "id": "f35b06ca-f8e3-4b7f-b34a-84a7d95c1c6f",
   "metadata": {},
   "outputs": [],
   "source": [
    "# --------------------\n",
    "# 2단계: KFold 객체 정의 및 교차 검증 실행\n",
    "# --------------------\n",
    "# KFold(n_splits=5): 데이터를 5개의 Fold로 나눔 (K=5)\n",
    "# shuffle=True: 데이터를 먼저 무작위로 섞어 데이터 편향 방지\n",
    "kf = KFold(n_splits=5, shuffle=True, random_state=42)\n",
    "\n",
    "# 사용할 모델 정의\n",
    "model = LogisticRegression(solver='liblinear', random_state=42)\n",
    "\n",
    "# cross_val_score 실행: \n",
    "# - 모델(estimator)과 데이터(X, y)를 받음\n",
    "# - KFold 객체(cv=kf)에 따라 5번 학습 및 평가 진행\n",
    "# - 평가 지표(scoring='accuracy')를 사용\n",
    "cv_scores = cross_val_score(model, X, y, cv=kf, scoring='accuracy')\n",
    "\n",
    "print(\"\\n--- 2단계: 5-Fold 교차 검증 점수 ---\")\n",
    "# 5번의 반복에서 얻은 각각의 정확도 점수\n",
    "print(cv_scores)"
   ]
  }
 ],
 "metadata": {
  "kernelspec": {
   "display_name": "Python 3 (ipykernel)",
   "language": "python",
   "name": "python3"
  },
  "language_info": {
   "codemirror_mode": {
    "name": "ipython",
    "version": 3
   },
   "file_extension": ".py",
   "mimetype": "text/x-python",
   "name": "python",
   "nbconvert_exporter": "python",
   "pygments_lexer": "ipython3",
   "version": "3.11.6"
  }
 },
 "nbformat": 4,
 "nbformat_minor": 5
}
