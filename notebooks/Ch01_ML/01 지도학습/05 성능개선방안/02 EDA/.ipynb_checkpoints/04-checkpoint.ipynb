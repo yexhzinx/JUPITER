{
 "cells": [
  {
   "cell_type": "code",
   "execution_count": 1,
   "id": "1bfa4207-47be-4e49-b832-f9ba5430d4d9",
   "metadata": {},
   "outputs": [
    {
     "name": "stdout",
     "output_type": "stream",
     "text": [
      "    나무  비료        성장률\n",
      "94   D   1  61.078918\n",
      "56   B   3  52.607825\n",
      "38   B   1  41.718140\n",
      "116  D   3  70.652882\n",
      "22   A   3  56.675282\n",
      "7    A   1  57.674347\n",
      "44   B   2  43.214780\n",
      "45   B   2  50.801558\n",
      "55   B   3  70.312801\n",
      "42   B   2  56.843517\n"
     ]
    }
   ],
   "source": [
    "import pandas as pd\n",
    "# df = pd.read_csv(\"tree.csv\")\n",
    "df = pd.read_csv(\"https://raw.githubusercontent.com/lovedlim/bigdata_analyst_cert/main/part3/ch2/tree.csv\")\n",
    "print(df.sample(10))\n"
   ]
  },
  {
   "cell_type": "code",
   "execution_count": 2,
   "id": "469a53f9-410a-47fd-ad73-8abeb1e30943",
   "metadata": {},
   "outputs": [
    {
     "name": "stdout",
     "output_type": "stream",
     "text": [
      "             df       sum_sq      mean_sq          F        PR(>F)\n",
      "나무          3.0  4783.353938  1594.451313  18.391274  9.016693e-10\n",
      "비료          1.0   873.322002   873.322002  10.073374  1.942421e-03\n",
      "나무:비료       3.0   394.801585   131.600528   1.517952  2.137666e-01\n",
      "Residual  112.0  9709.960792    86.696078        NaN           NaN\n"
     ]
    }
   ],
   "source": [
    "import statsmodels.api as sm\n",
    "from statsmodels.formula.api import ols\n",
    "\n",
    "model = ols('성장률 ~ 나무 + 비료 + 나무:비료', data=df).fit()\n",
    "anova_table = sm.stats.anova_lm(model)\n",
    "print(anova_table)\n"
   ]
  },
  {
   "cell_type": "code",
   "execution_count": null,
   "id": "f6f74834-08c9-4005-983a-d1dfd83e6c5a",
   "metadata": {},
   "outputs": [],
   "source": [
    "# '성장률 ~ 나무 + 비료 + 나무:비료'\n",
    "# 전체 구조: Y ~ X1 + X2 + X1:X2\n",
    "# | 구문      | 의미                                       |\n",
    "# | ------- | ---------------------------------------- |\n",
    "# | **`Y`** | 종속변수 (결과변수) — 여기서는 `성장률`                 |\n",
    "# | **`~`** | “~ 오른쪽에 있는 변수들이 왼쪽의 Y를 설명한다”는 의미         |\n",
    "# | **`+`** | 여러 독립변수를 함께 포함한다는 뜻                      |\n",
    "# | **`:`** | 두 변수 간의 **상호작용(Interaction)** 항을 포함한다는 뜻 |\n",
    "\n",
    "# | 항목        | 의미               | 설명                          |\n",
    "# | -------    | ------------       | --------------------------- |\n",
    "# | `성장률`    | 종속변수 (Y)        | 나무 종류, 비료 종류에 따라 달라지는 결과 변수 |\n",
    "# | `나무`      | 독립변수1 (요인 A)  | 예: 나무 종류 (소나무, 참나무 등)       |\n",
    "# | `비료`      | 독립변수2 (요인 B)  | 예: 비료 종류 (A, B, C 등)        |\n",
    "# | `나무:비료` | 상호작용항 (A×B)    | “나무 종류별로 비료 효과가 다르다”는 관계 포함 |"
   ]
  },
  {
   "cell_type": "code",
   "execution_count": 3,
   "id": "f1aae2ca-8ebc-4169-b483-47ba03fceb8e",
   "metadata": {},
   "outputs": [
    {
     "name": "stdout",
     "output_type": "stream",
     "text": [
      "                df       sum_sq      mean_sq          F        PR(>F)\n",
      "C(나무)          3.0  4783.353938  1594.451313  18.855528  6.600012e-10\n",
      "C(비료)          2.0  1127.924259   563.962129   6.669256  1.857612e-03\n",
      "C(나무):C(비료)    6.0   717.520672   119.586779   1.414199  2.157357e-01\n",
      "Residual     108.0  9132.639448    84.561476        NaN           NaN\n"
     ]
    }
   ],
   "source": [
    "import statsmodels.api as sm\n",
    "from statsmodels.formula.api import ols\n",
    "\n",
    "model = ols('성장률 ~ C(나무) + C(비료) + C(나무):C(비료)', data=df).fit()\n",
    "anova_table = sm.stats.anova_lm(model)\n",
    "print(anova_table)\n"
   ]
  },
  {
   "cell_type": "code",
   "execution_count": 4,
   "id": "87b52937-6ffc-494b-8e0c-67dd6e415645",
   "metadata": {},
   "outputs": [
    {
     "name": "stdout",
     "output_type": "stream",
     "text": [
      "0.00000000066\n",
      "0.00185761200\n",
      "0.21573570000\n"
     ]
    }
   ],
   "source": [
    "print(format(6.600012e-10, '.11f'))\n",
    "print(format(1.857612e-03, '.11f'))\n",
    "print(format(2.157357e-01, '.11f'))\n"
   ]
  },
  {
   "cell_type": "code",
   "execution_count": 5,
   "id": "4d7c2205-45b9-4576-8ad6-201568a01092",
   "metadata": {},
   "outputs": [
    {
     "name": "stdout",
     "output_type": "stream",
     "text": [
      "                df       sum_sq      mean_sq          F        PR(>F)\n",
      "C(나무)          3.0  4783.353938  1594.451313  18.855528  6.600012e-10\n",
      "C(비료)          2.0  1127.924259   563.962129   6.669256  1.857612e-03\n",
      "C(나무):C(비료)    6.0   717.520672   119.586779   1.414199  2.157357e-01\n",
      "Residual     108.0  9132.639448    84.561476        NaN           NaN\n"
     ]
    }
   ],
   "source": [
    "model = ols('성장률 ~ C(나무) * C(비료)', data=df).fit()\n",
    "anova_table = sm.stats.anova_lm(model)\n",
    "print(anova_table)\n"
   ]
  },
  {
   "cell_type": "code",
   "execution_count": null,
   "id": "25d5e2b9-c3b9-49fd-8f6b-d94bfc33b08c",
   "metadata": {},
   "outputs": [],
   "source": [
    "# ------------------------------------------"
   ]
  },
  {
   "cell_type": "code",
   "execution_count": 7,
   "id": "2080ec3b-7bdc-4c25-ba8f-7c6bc65f0412",
   "metadata": {},
   "outputs": [],
   "source": [
    "import pandas as pd\n",
    "df_3 = pd.read_csv(\"train.csv\")"
   ]
  },
  {
   "cell_type": "code",
   "execution_count": 8,
   "id": "2d620927-28ff-4c2e-8e27-70307b4122ab",
   "metadata": {},
   "outputs": [],
   "source": [
    "# 결측치 이상치 제거\n",
    "m = df_3['workclass'].mode()[0]\n",
    "df_3['workclass'] = df_3['workclass'].fillna(m)"
   ]
  },
  {
   "cell_type": "code",
   "execution_count": 9,
   "id": "6f4cedce-e950-4ee5-a77e-eee906f969b2",
   "metadata": {},
   "outputs": [],
   "source": [
    "df_3[\"income_code\"] = df_3[\"income\"].map({'<=50K':0, '>50K':1})"
   ]
  },
  {
   "cell_type": "code",
   "execution_count": 10,
   "id": "726c76d8-51cf-43c8-afe6-bc6b2e811188",
   "metadata": {},
   "outputs": [
    {
     "name": "stdout",
     "output_type": "stream",
     "text": [
      "                                df       sum_sq    mean_sq           F  \\\n",
      "C(workclass)                   7.0   149.623342  21.374763  137.975427   \n",
      "C(education)                  15.0   648.602960  43.240197  279.118166   \n",
      "C(workclass):C(education)    105.0    28.412960   0.270600    1.746737   \n",
      "Residual                   29204.0  4524.201131   0.154917         NaN   \n",
      "\n",
      "                                  PR(>F)  \n",
      "C(workclass)               6.632449e-201  \n",
      "C(education)                0.000000e+00  \n",
      "C(workclass):C(education)   3.624615e-06  \n",
      "Residual                             NaN  \n"
     ]
    }
   ],
   "source": [
    "from statsmodels.formula.api import ols\n",
    "from statsmodels.stats.anova import anova_lm\n",
    "model = ols('income_code ~ C(workclass) * C(education)', df_3).fit()\n",
    "print(anova_lm(model))"
   ]
  },
  {
   "cell_type": "code",
   "execution_count": null,
   "id": "cbf0209d-968b-4b3b-a74e-322cc513e5c9",
   "metadata": {},
   "outputs": [],
   "source": []
  }
 ],
 "metadata": {
  "kernelspec": {
   "display_name": "Python 3 (ipykernel)",
   "language": "python",
   "name": "python3"
  },
  "language_info": {
   "codemirror_mode": {
    "name": "ipython",
    "version": 3
   },
   "file_extension": ".py",
   "mimetype": "text/x-python",
   "name": "python",
   "nbconvert_exporter": "python",
   "pygments_lexer": "ipython3",
   "version": "3.11.6"
  }
 },
 "nbformat": 4,
 "nbformat_minor": 5
}
