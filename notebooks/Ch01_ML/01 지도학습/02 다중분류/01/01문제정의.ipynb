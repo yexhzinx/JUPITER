{
 "cells": [
  {
   "cell_type": "code",
   "execution_count": null,
   "id": "35475959-4d44-4c05-b8f0-0be01298c413",
   "metadata": {},
   "outputs": [],
   "source": [
    "# 문제정의\n",
    "## 고객별 신용등급 분류\n",
    "## 1- BAD , 2 - STANDARD 3 - GOOD\n",
    "## 타깃(라벨,y값) : Credit_Score \n",
    "\n",
    "\n"
   ]
  },
  {
   "cell_type": "code",
   "execution_count": null,
   "id": "b7079d54-9fa5-4c5c-bda7-0c6d64b1228e",
   "metadata": {},
   "outputs": [],
   "source": []
  }
 ],
 "metadata": {
  "kernelspec": {
   "display_name": "Python 3 (ipykernel)",
   "language": "python",
   "name": "python3"
  },
  "language_info": {
   "codemirror_mode": {
    "name": "ipython",
    "version": 3
   },
   "file_extension": ".py",
   "mimetype": "text/x-python",
   "name": "python",
   "nbconvert_exporter": "python",
   "pygments_lexer": "ipython3",
   "version": "3.11.6"
  }
 },
 "nbformat": 4,
 "nbformat_minor": 5
}
