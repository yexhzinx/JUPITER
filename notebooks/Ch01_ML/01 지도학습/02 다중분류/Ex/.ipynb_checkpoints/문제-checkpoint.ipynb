{
 "cells": [
  {
   "cell_type": "code",
   "execution_count": null,
   "id": "73f4c083-ee18-4fdb-8e19-b563f7f3943d",
   "metadata": {},
   "outputs": [],
   "source": [
    "# 문제정의\n",
    "\n",
    "\n",
    "## 1. 분석 주제\n",
    "개인의 인적 특성, 신체 정보, 생활습관 및 식습관 데이터를 활용하여 **비만 위험 수준(NObeyesdad)**을 예측하는 다중 분류 문제를 정의한다. 이는 심혈관 질환 등 건강 문제와 밀접한 비만 위험을 사전에 식별하고, 예방 및 관리에 활용될 수 있다.\n",
    "\n",
    "## 2. 분석 목표\n",
    "- **목표 변수(Target):** `NObeyesdad` (비만 수준)\n",
    "- **설명 변수(Features):** 성별, 연령, 신체 특성, 식습관, 운동 및 음주습관, 이동수단 등\n",
    "- **문제 유형:** 다중 클래스 분류(Multi-Class Classification)\n",
    "- **평가지표:** Accuracy (정확도)\n",
    "- **출력 형식:** test 데이터셋의 각 `id`에 대해 예측된 `NObeyesdad` 값을 제출\n",
    "\n",
    "## 3. 분석 절차\n",
    "1. 데이터 탐색(EDA) 및 전처리\n",
    "2. 범주형 변수 인코딩 및 수치형 변수 스케일링\n",
    "3. 다양한 머신러닝 분류 알고리즘 적용 (예: Logistic Regression, Random Forest, XGBoost 등)\n",
    "4. 성능 비교 및 하이퍼파라미터 튜닝\n",
    "5. 최종 모델 선택 및 Submission 파일 생성\n",
    "\n",
    "## 4. 기대 효과\n",
    "- 개인 맞춤형 건강 관리 및 예방 전략 수립\n",
    "- 머신러닝 기반 다중 분류 문제 해결 능력 강화\n",
    "- Kaggle 실습을 통한 데이터 분석 경험 축적\n",
    "\n",
    "---\n",
    "\n",
    "# 데이터 컬럼 정리\n",
    "\n",
    "| 구분 | 컬럼명 | 데이터 유형 | 설명 |\n",
    "|------|--------|-------------|------|\n",
    "| ID | `id` | int | 각 행을 구분하는 고유 식별자 |\n",
    "| 인적 특성 | `Gender` | object | 성별 (Male / Female) |\n",
    "| 인적 특성 | `Age` | float | 나이 |\n",
    "| 신체 정보 | `Height` | float | 키 (미터 단위) |\n",
    "| 신체 정보 | `Weight` | float | 몸무게 (킬로그램 단위) |\n",
    "| 가족력 | `family_history_with_overweight` | object | 가족 중 비만 이력 여부 (yes / no) |\n",
    "| 식습관 | `FAVC` | object | 고열량 음식 자주 섭취 여부 (yes / no) |\n",
    "| 식습관 | `FCVC` | float | 채소 섭취 빈도 (1 ~ 3 점수) |\n",
    "| 식습관 | `NCP` | float | 하루 식사 횟수 |\n",
    "| 식습관 | `CAEC` | object | 간식 섭취 빈도 (Sometimes / Frequently / Always / no) |\n",
    "| 생활습관 | `SMOKE` | object | 흡연 여부 (yes / no) |\n",
    "| 생활습관 | `CH2O` | float | 하루 물 섭취량 (리터 단위, 1 ~ 3 범위) |\n",
    "| 생활습관 | `SCC` | object | 칼로리 섭취 통제 여부 (yes / no) |\n",
    "| 운동습관 | `FAF` | float | 주간 신체활동 빈도 (0 = 없음 ~ 3 = 매우 자주) |\n",
    "| 운동습관 | `TUE` | float | TV/게임 등 전자기기 사용 시간 (0 ~ 2 시간대) |\n",
    "| 음주습관 | `CALC` | object | 음주 빈도 (no / Sometimes / Frequently / Always) |\n",
    "| 이동수단 | `MTRANS` | object | 주요 이동수단 (Public_Transportation / Automobile / Walking / Bike 등) |\n",
    "| 목표 변수 | `NObeyesdad` | object | 비만 위험 수준 (Insufficient_Weight, Normal_Weight, Overweight_Level_I, Overweight_Level_II, Obesity_Type_I, Obesity_Type_II, Obesity_Type_III) |\n"
   ]
  }
 ],
 "metadata": {
  "kernelspec": {
   "display_name": "Python 3 (ipykernel)",
   "language": "python",
   "name": "python3"
  },
  "language_info": {
   "codemirror_mode": {
    "name": "ipython",
    "version": 3
   },
   "file_extension": ".py",
   "mimetype": "text/x-python",
   "name": "python",
   "nbconvert_exporter": "python",
   "pygments_lexer": "ipython3",
   "version": "3.11.6"
  }
 },
 "nbformat": 4,
 "nbformat_minor": 5
}
