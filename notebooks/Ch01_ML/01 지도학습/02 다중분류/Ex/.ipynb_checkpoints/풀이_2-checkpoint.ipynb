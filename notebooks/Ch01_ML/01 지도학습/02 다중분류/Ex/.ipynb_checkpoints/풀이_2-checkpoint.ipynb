{
 "cells": [
  {
   "cell_type": "code",
   "execution_count": null,
   "id": "8ba2ddc4-bafe-4168-bcaf-16a62a2827de",
   "metadata": {},
   "outputs": [],
   "source": [
    "# ------------------------------------\n",
    "# 문제정의\n",
    "# ------------------------------------\n",
    "# "
   ]
  },
  {
   "cell_type": "code",
   "execution_count": 1,
   "id": "0c58a226-6574-4ca1-914b-7ea2d3126092",
   "metadata": {},
   "outputs": [],
   "source": [
    "# ------------------------------------\n",
    "# 라이브러리 및 데이터 불러오기\n",
    "# ------------------------------------\n",
    "import pandas as pd\n",
    "\n",
    "train = pd.read_csv(\"train.csv\")\n",
    "test = pd.read_csv(\"test.csv\")"
   ]
  },
  {
   "cell_type": "code",
   "execution_count": 2,
   "id": "f6f22e29-5594-475f-9033-d64a43db210f",
   "metadata": {},
   "outputs": [
    {
     "data": {
      "text/plain": [
       "((20758, 18), (13840, 17))"
      ]
     },
     "execution_count": 2,
     "metadata": {},
     "output_type": "execute_result"
    }
   ],
   "source": [
    "# ------------------------------------\n",
    "# EDA\n",
    "# ------------------------------------\n",
    "train.shape , test.shape"
   ]
  },
  {
   "cell_type": "code",
   "execution_count": 14,
   "id": "59250412-a59a-4cf2-aee5-a43dffe87487",
   "metadata": {},
   "outputs": [
    {
     "name": "stdout",
     "output_type": "stream",
     "text": [
      "<class 'pandas.core.frame.DataFrame'>\n",
      "RangeIndex: 20758 entries, 0 to 20757\n",
      "Data columns (total 18 columns):\n",
      " #   Column                          Non-Null Count  Dtype  \n",
      "---  ------                          --------------  -----  \n",
      " 0   id                              20758 non-null  int64  \n",
      " 1   Gender                          20758 non-null  object \n",
      " 2   Age                             20758 non-null  float64\n",
      " 3   Height                          20758 non-null  float64\n",
      " 4   Weight                          20758 non-null  float64\n",
      " 5   family_history_with_overweight  20758 non-null  object \n",
      " 6   FAVC                            20758 non-null  object \n",
      " 7   FCVC                            20758 non-null  float64\n",
      " 8   NCP                             20758 non-null  float64\n",
      " 9   CAEC                            20758 non-null  object \n",
      " 10  SMOKE                           20758 non-null  object \n",
      " 11  CH2O                            20758 non-null  float64\n",
      " 12  SCC                             20758 non-null  object \n",
      " 13  FAF                             20758 non-null  float64\n",
      " 14  TUE                             20758 non-null  float64\n",
      " 15  CALC                            20758 non-null  object \n",
      " 16  MTRANS                          20758 non-null  object \n",
      " 17  NObeyesdad                      20758 non-null  object \n",
      "dtypes: float64(8), int64(1), object(9)\n",
      "memory usage: 2.9+ MB\n"
     ]
    }
   ],
   "source": [
    "# train.info()\n",
    "# test.info()\n",
    "# train.isnull().sum()\n",
    "# test.isnull().sum()\n",
    "# train.describe()\n",
    "# train.describe(include='O')\n",
    "# test.describe()\n",
    "\n",
    "# train[\"NObeyesdad\"].value_counts()"
   ]
  },
  {
   "cell_type": "code",
   "execution_count": null,
   "id": "b15410d3-01ac-4ec7-9d27-904cc5d897b9",
   "metadata": {},
   "outputs": [],
   "source": [
    "# ------------------------------------\n",
    "# 데이터 전처리 \n",
    "# ------------------------------------\n",
    "# 이상치 , 결측치 생략"
   ]
  },
  {
   "cell_type": "code",
   "execution_count": 2,
   "id": "5cd3b8c5-3496-4982-8e6d-0b6243200e25",
   "metadata": {},
   "outputs": [],
   "source": [
    "# id컬럼 제거\n",
    "train = train.drop(columns=['id'])\n",
    "test = test.drop(columns=['id'])"
   ]
  },
  {
   "cell_type": "code",
   "execution_count": 3,
   "id": "e6497b5a-c1d7-4245-b3b1-ea0da090a13a",
   "metadata": {},
   "outputs": [
    {
     "name": "stdout",
     "output_type": "stream",
     "text": [
      "<class 'pandas.core.series.Series'>\n",
      "RangeIndex: 20758 entries, 0 to 20757\n",
      "Series name: NObeyesdad\n",
      "Non-Null Count  Dtype   \n",
      "--------------  -----   \n",
      "20758 non-null  category\n",
      "dtypes: category(1)\n",
      "memory usage: 20.7 KB\n"
     ]
    }
   ],
   "source": [
    "# y값 분리\n",
    "target = train.pop('NObeyesdad')\n",
    "# dtype -> 카테고리 변환\n",
    "target = target.astype('category')\n",
    "target.info()"
   ]
  },
  {
   "cell_type": "code",
   "execution_count": null,
   "id": "f0119ff8-a8ce-4217-a183-86958480d2e8",
   "metadata": {},
   "outputs": [],
   "source": [
    "# train/test object->category"
   ]
  },
  {
   "cell_type": "code",
   "execution_count": 4,
   "id": "c7f6a94a-6efd-486b-a4cc-9fa7afb6adb4",
   "metadata": {},
   "outputs": [],
   "source": [
    "train['Gender'] = train['Gender'].astype('category')\n",
    "train['family_history_with_overweight'] = train['family_history_with_overweight'].astype('category')\n",
    "train['FAVC'] = train['FAVC'].astype('category')\n",
    "train['CAEC'] = train['CAEC'].astype('category')\n",
    "train['SMOKE'] = train['SMOKE'].astype('category')\n",
    "train['SCC'] = train['SCC'].astype('category')\n",
    "train['CALC'] = train['CALC'].astype('category')\n",
    "train['MTRANS'] = train['MTRANS'].astype('category')\n",
    "\n",
    "test['Gender'] = test['Gender'].astype('category')\n",
    "test['family_history_with_overweight'] = test['family_history_with_overweight'].astype('category')\n",
    "test['FAVC'] = test['FAVC'].astype('category')\n",
    "test['CAEC'] = test['CAEC'].astype('category')\n",
    "test['SMOKE'] = test['SMOKE'].astype('category')\n",
    "test['SCC'] = test['SCC'].astype('category')\n",
    "test['CALC'] = test['CALC'].astype('category')\n",
    "test['MTRANS'] = test['MTRANS'].astype('category')"
   ]
  },
  {
   "cell_type": "code",
   "execution_count": 5,
   "id": "fa63d316-8952-4714-b441-0c5423e8ed7d",
   "metadata": {},
   "outputs": [
    {
     "data": {
      "text/plain": [
       "((16606, 16), (4152, 16), (16606,), (4152,))"
      ]
     },
     "execution_count": 5,
     "metadata": {},
     "output_type": "execute_result"
    }
   ],
   "source": [
    "# ------------------------------------\n",
    "# 검증 데이터 분할\n",
    "# ------------------------------------\n",
    "from sklearn.model_selection import train_test_split\n",
    "X_train, X_val, y_train, y_val = train_test_split(\n",
    "    train,\n",
    "    target,\n",
    "    test_size=0.2,\n",
    "    random_state=0)\n",
    "X_train.shape, X_val.shape, y_train.shape, y_val.shape\n"
   ]
  },
  {
   "cell_type": "code",
   "execution_count": null,
   "id": "95db017e-66bb-4437-a745-5315907bead2",
   "metadata": {},
   "outputs": [],
   "source": [
    "# ------------------------------------\n",
    "# 모델 학습 및 평가\n",
    "# ------------------------------------"
   ]
  },
  {
   "cell_type": "code",
   "execution_count": 7,
   "id": "d36636a5-3b36-456f-991f-aeb01c7ade86",
   "metadata": {},
   "outputs": [
    {
     "name": "stdout",
     "output_type": "stream",
     "text": [
      "[LightGBM] [Info] Auto-choosing row-wise multi-threading, the overhead of testing was 0.000726 seconds.\n",
      "You can set `force_row_wise=true` to remove the overhead.\n",
      "And if memory is not enough, you can set `force_col_wise=true`.\n",
      "[LightGBM] [Info] Total Bins 2058\n",
      "[LightGBM] [Info] Number of data points in the train set: 16606, number of used features: 16\n",
      "[LightGBM] [Info] Start training from score -2.094366\n",
      "[LightGBM] [Info] Start training from score -1.912860\n",
      "[LightGBM] [Info] Start training from score -1.964755\n",
      "[LightGBM] [Info] Start training from score -1.863915\n",
      "[LightGBM] [Info] Start training from score -1.634499\n",
      "[LightGBM] [Info] Start training from score -2.139374\n",
      "[LightGBM] [Info] Start training from score -2.110635\n"
     ]
    }
   ],
   "source": [
    "import lightgbm as lgb\n",
    "#학습\n",
    "lgbmc = lgb.LGBMClassifier(random_state=0, verbose=1)\n",
    "lgbmc.fit(X_train,y_train)\n",
    "#검증 \n",
    "pred=lgbmc.predict(X_val) # 라벨만 \n",
    "pred_proba = lgbmc.predict_proba(X_val) # 확률값\n",
    "\n",
    "# vervose : 학습 과정 출력여부(-1 : 출력 안함)\n",
    "# 0 : 경고 수준출력 , 1: 일반정보 출력 , >1 : 자세한 정보 출력  "
   ]
  },
  {
   "cell_type": "code",
   "execution_count": 9,
   "id": "c7ae1160-1b8b-4f4e-ac46-771df85bbcf2",
   "metadata": {},
   "outputs": [
    {
     "name": "stdout",
     "output_type": "stream",
     "text": [
      "roc_auc_ovr :  0.9888169248146651\n",
      "roc_auc_ovo :  0.9874571729788963\n",
      "accuracy :  0.9051059730250481\n",
      "f1 :  0.8949765427420396\n"
     ]
    }
   ],
   "source": [
    "# 평가(roc_auc , accuracy , f1-score)\n",
    "from sklearn.metrics import roc_auc_score, f1_score, accuracy_score\n",
    "\n",
    "roc_auc_ovr = roc_auc_score(y_val, pred_proba, multi_class='ovr')\n",
    "roc_auc_ovo = roc_auc_score(y_val, pred_proba, multi_class='ovo')\n",
    "accuracy = accuracy_score(y_val, pred)\n",
    "f1 = f1_score(y_val, pred, average='macro')\n",
    "\n",
    "print('roc_auc_ovr : ',  roc_auc_ovr)\n",
    "print('roc_auc_ovo : ',  roc_auc_ovo)\n",
    "print('accuracy : ',  accuracy)\n",
    "print('f1 : ',  f1)\n",
    "\n"
   ]
  },
  {
   "cell_type": "code",
   "execution_count": null,
   "id": "cb4a2452-89cb-46b1-a836-dd9ae16d7a96",
   "metadata": {},
   "outputs": [],
   "source": [
    "#-----------------------\n",
    "# 예측 파일 제출(.csv)\n",
    "#-----------------------\n",
    "pred_submit=lgbmc.predict(test)\n",
    "pred_submit\n",
    "\n",
    "submit_csv = pd.DataFrame({'pred':pred_submit})\n",
    "submit_csv.to_csv(\"result.csv\",index=False)"
   ]
  }
 ],
 "metadata": {
  "kernelspec": {
   "display_name": "Python 3 (ipykernel)",
   "language": "python",
   "name": "python3"
  },
  "language_info": {
   "codemirror_mode": {
    "name": "ipython",
    "version": 3
   },
   "file_extension": ".py",
   "mimetype": "text/x-python",
   "name": "python",
   "nbconvert_exporter": "python",
   "pygments_lexer": "ipython3",
   "version": "3.11.6"
  }
 },
 "nbformat": 4,
 "nbformat_minor": 5
}
