{
 "cells": [
  {
   "cell_type": "code",
   "execution_count": null,
   "id": "d4e822b2-9778-4997-bfe3-6c246f005a1e",
   "metadata": {},
   "outputs": [],
   "source": [
    "# 하이퍼파라미터 설정"
   ]
  }
 ],
 "metadata": {
  "kernelspec": {
   "display_name": "Python 3 (ipykernel)",
   "language": "python",
   "name": "python3"
  },
  "language_info": {
   "codemirror_mode": {
    "name": "ipython",
    "version": 3
   },
   "file_extension": ".py",
   "mimetype": "text/x-python",
   "name": "python",
   "nbconvert_exporter": "python",
   "pygments_lexer": "ipython3",
   "version": "3.11.6"
  }
 },
 "nbformat": 4,
 "nbformat_minor": 5
}
