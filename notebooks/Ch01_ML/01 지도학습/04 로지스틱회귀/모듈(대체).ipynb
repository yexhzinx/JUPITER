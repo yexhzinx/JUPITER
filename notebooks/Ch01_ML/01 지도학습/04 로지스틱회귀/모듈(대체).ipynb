{
 "cells": [
  {
   "cell_type": "markdown",
   "id": "70fb5ded-e864-40d9-bda7-b457473b894c",
   "metadata": {},
   "source": [
    "# 1. 문제정의\n",
    "\n",
    "```\n",
    "### 나이(age) - 소득(income) 간의 로지스틱회귀\n",
    "### 나이가 증가하면할수록 소득이 높을 확률\n",
    "```, 1개)있음"
   ]
  },
  {
   "cell_type": "markdown",
   "id": "0c795948-218d-4a03-a9a8-6eda85ab3787",
   "metadata": {},
   "source": [
    "# 2 라이브러리 가져오기"
   ]
  },
  {
   "cell_type": "code",
   "execution_count": 1,
   "id": "de59b180-f111-4dc8-aaa8-7d9949e28075",
   "metadata": {},
   "outputs": [
    {
     "data": {
      "text/html": [
       "<div>\n",
       "<style scoped>\n",
       "    .dataframe tbody tr th:only-of-type {\n",
       "        vertical-align: middle;\n",
       "    }\n",
       "\n",
       "    .dataframe tbody tr th {\n",
       "        vertical-align: top;\n",
       "    }\n",
       "\n",
       "    .dataframe thead th {\n",
       "        text-align: right;\n",
       "    }\n",
       "</style>\n",
       "<table border=\"1\" class=\"dataframe\">\n",
       "  <thead>\n",
       "    <tr style=\"text-align: right;\">\n",
       "      <th></th>\n",
       "      <th>id</th>\n",
       "      <th>age</th>\n",
       "      <th>workclass</th>\n",
       "      <th>fnlwgt</th>\n",
       "      <th>education</th>\n",
       "      <th>education.num</th>\n",
       "      <th>marital.status</th>\n",
       "      <th>occupation</th>\n",
       "      <th>relationship</th>\n",
       "      <th>race</th>\n",
       "      <th>sex</th>\n",
       "      <th>capital.gain</th>\n",
       "      <th>capital.loss</th>\n",
       "      <th>hours.per.week</th>\n",
       "      <th>native.country</th>\n",
       "      <th>income</th>\n",
       "    </tr>\n",
       "  </thead>\n",
       "  <tbody>\n",
       "    <tr>\n",
       "      <th>0</th>\n",
       "      <td>3331</td>\n",
       "      <td>34.0</td>\n",
       "      <td>State-gov</td>\n",
       "      <td>177331</td>\n",
       "      <td>Some-college</td>\n",
       "      <td>10</td>\n",
       "      <td>Married-civ-spouse</td>\n",
       "      <td>Prof-specialty</td>\n",
       "      <td>Husband</td>\n",
       "      <td>Black</td>\n",
       "      <td>Male</td>\n",
       "      <td>4386</td>\n",
       "      <td>0</td>\n",
       "      <td>40.0</td>\n",
       "      <td>United-States</td>\n",
       "      <td>&gt;50K</td>\n",
       "    </tr>\n",
       "    <tr>\n",
       "      <th>1</th>\n",
       "      <td>19749</td>\n",
       "      <td>58.0</td>\n",
       "      <td>Private</td>\n",
       "      <td>290661</td>\n",
       "      <td>HS-grad</td>\n",
       "      <td>9</td>\n",
       "      <td>Married-civ-spouse</td>\n",
       "      <td>Craft-repair</td>\n",
       "      <td>Husband</td>\n",
       "      <td>White</td>\n",
       "      <td>Male</td>\n",
       "      <td>0</td>\n",
       "      <td>0</td>\n",
       "      <td>40.0</td>\n",
       "      <td>United-States</td>\n",
       "      <td>&lt;=50K</td>\n",
       "    </tr>\n",
       "    <tr>\n",
       "      <th>2</th>\n",
       "      <td>1157</td>\n",
       "      <td>48.0</td>\n",
       "      <td>Private</td>\n",
       "      <td>125933</td>\n",
       "      <td>Some-college</td>\n",
       "      <td>10</td>\n",
       "      <td>Widowed</td>\n",
       "      <td>Exec-managerial</td>\n",
       "      <td>Unmarried</td>\n",
       "      <td>Black</td>\n",
       "      <td>Female</td>\n",
       "      <td>0</td>\n",
       "      <td>1669</td>\n",
       "      <td>38.0</td>\n",
       "      <td>United-States</td>\n",
       "      <td>&lt;=50K</td>\n",
       "    </tr>\n",
       "    <tr>\n",
       "      <th>3</th>\n",
       "      <td>693</td>\n",
       "      <td>58.0</td>\n",
       "      <td>Private</td>\n",
       "      <td>100313</td>\n",
       "      <td>Some-college</td>\n",
       "      <td>10</td>\n",
       "      <td>Married-civ-spouse</td>\n",
       "      <td>Protective-serv</td>\n",
       "      <td>Husband</td>\n",
       "      <td>White</td>\n",
       "      <td>Male</td>\n",
       "      <td>0</td>\n",
       "      <td>1902</td>\n",
       "      <td>40.0</td>\n",
       "      <td>United-States</td>\n",
       "      <td>&gt;50K</td>\n",
       "    </tr>\n",
       "    <tr>\n",
       "      <th>4</th>\n",
       "      <td>12522</td>\n",
       "      <td>41.0</td>\n",
       "      <td>Private</td>\n",
       "      <td>195661</td>\n",
       "      <td>Some-college</td>\n",
       "      <td>10</td>\n",
       "      <td>Married-civ-spouse</td>\n",
       "      <td>Transport-moving</td>\n",
       "      <td>Husband</td>\n",
       "      <td>White</td>\n",
       "      <td>Male</td>\n",
       "      <td>0</td>\n",
       "      <td>0</td>\n",
       "      <td>54.0</td>\n",
       "      <td>United-States</td>\n",
       "      <td>&lt;=50K</td>\n",
       "    </tr>\n",
       "    <tr>\n",
       "      <th>...</th>\n",
       "      <td>...</td>\n",
       "      <td>...</td>\n",
       "      <td>...</td>\n",
       "      <td>...</td>\n",
       "      <td>...</td>\n",
       "      <td>...</td>\n",
       "      <td>...</td>\n",
       "      <td>...</td>\n",
       "      <td>...</td>\n",
       "      <td>...</td>\n",
       "      <td>...</td>\n",
       "      <td>...</td>\n",
       "      <td>...</td>\n",
       "      <td>...</td>\n",
       "      <td>...</td>\n",
       "      <td>...</td>\n",
       "    </tr>\n",
       "    <tr>\n",
       "      <th>29299</th>\n",
       "      <td>15999</td>\n",
       "      <td>28.0</td>\n",
       "      <td>Private</td>\n",
       "      <td>47168</td>\n",
       "      <td>10th</td>\n",
       "      <td>6</td>\n",
       "      <td>Never-married</td>\n",
       "      <td>Machine-op-inspct</td>\n",
       "      <td>Own-child</td>\n",
       "      <td>White</td>\n",
       "      <td>Female</td>\n",
       "      <td>0</td>\n",
       "      <td>0</td>\n",
       "      <td>40.0</td>\n",
       "      <td>United-States</td>\n",
       "      <td>&lt;=50K</td>\n",
       "    </tr>\n",
       "    <tr>\n",
       "      <th>29300</th>\n",
       "      <td>21604</td>\n",
       "      <td>44.0</td>\n",
       "      <td>Local-gov</td>\n",
       "      <td>231793</td>\n",
       "      <td>Doctorate</td>\n",
       "      <td>16</td>\n",
       "      <td>Married-spouse-absent</td>\n",
       "      <td>Prof-specialty</td>\n",
       "      <td>Unmarried</td>\n",
       "      <td>White</td>\n",
       "      <td>Female</td>\n",
       "      <td>0</td>\n",
       "      <td>0</td>\n",
       "      <td>38.0</td>\n",
       "      <td>United-States</td>\n",
       "      <td>&lt;=50K</td>\n",
       "    </tr>\n",
       "    <tr>\n",
       "      <th>29301</th>\n",
       "      <td>26839</td>\n",
       "      <td>41.0</td>\n",
       "      <td>Local-gov</td>\n",
       "      <td>201435</td>\n",
       "      <td>HS-grad</td>\n",
       "      <td>9</td>\n",
       "      <td>Married-civ-spouse</td>\n",
       "      <td>Transport-moving</td>\n",
       "      <td>Husband</td>\n",
       "      <td>Black</td>\n",
       "      <td>Male</td>\n",
       "      <td>0</td>\n",
       "      <td>0</td>\n",
       "      <td>40.0</td>\n",
       "      <td>United-States</td>\n",
       "      <td>&lt;=50K</td>\n",
       "    </tr>\n",
       "    <tr>\n",
       "      <th>29302</th>\n",
       "      <td>16681</td>\n",
       "      <td>43.0</td>\n",
       "      <td>Private</td>\n",
       "      <td>137722</td>\n",
       "      <td>HS-grad</td>\n",
       "      <td>9</td>\n",
       "      <td>Married-civ-spouse</td>\n",
       "      <td>Handlers-cleaners</td>\n",
       "      <td>Husband</td>\n",
       "      <td>White</td>\n",
       "      <td>Male</td>\n",
       "      <td>0</td>\n",
       "      <td>0</td>\n",
       "      <td>40.0</td>\n",
       "      <td>United-States</td>\n",
       "      <td>&lt;=50K</td>\n",
       "    </tr>\n",
       "    <tr>\n",
       "      <th>29303</th>\n",
       "      <td>16069</td>\n",
       "      <td>22.0</td>\n",
       "      <td>Private</td>\n",
       "      <td>406978</td>\n",
       "      <td>Bachelors</td>\n",
       "      <td>13</td>\n",
       "      <td>Never-married</td>\n",
       "      <td>Exec-managerial</td>\n",
       "      <td>Other-relative</td>\n",
       "      <td>White</td>\n",
       "      <td>Female</td>\n",
       "      <td>0</td>\n",
       "      <td>0</td>\n",
       "      <td>40.0</td>\n",
       "      <td>United-States</td>\n",
       "      <td>&lt;=50K</td>\n",
       "    </tr>\n",
       "  </tbody>\n",
       "</table>\n",
       "<p>29304 rows × 16 columns</p>\n",
       "</div>"
      ],
      "text/plain": [
       "          id   age  workclass  fnlwgt     education  education.num  \\\n",
       "0       3331  34.0  State-gov  177331  Some-college             10   \n",
       "1      19749  58.0    Private  290661       HS-grad              9   \n",
       "2       1157  48.0    Private  125933  Some-college             10   \n",
       "3        693  58.0    Private  100313  Some-college             10   \n",
       "4      12522  41.0    Private  195661  Some-college             10   \n",
       "...      ...   ...        ...     ...           ...            ...   \n",
       "29299  15999  28.0    Private   47168          10th              6   \n",
       "29300  21604  44.0  Local-gov  231793     Doctorate             16   \n",
       "29301  26839  41.0  Local-gov  201435       HS-grad              9   \n",
       "29302  16681  43.0    Private  137722       HS-grad              9   \n",
       "29303  16069  22.0    Private  406978     Bachelors             13   \n",
       "\n",
       "              marital.status         occupation    relationship   race  \\\n",
       "0         Married-civ-spouse     Prof-specialty         Husband  Black   \n",
       "1         Married-civ-spouse       Craft-repair         Husband  White   \n",
       "2                    Widowed    Exec-managerial       Unmarried  Black   \n",
       "3         Married-civ-spouse    Protective-serv         Husband  White   \n",
       "4         Married-civ-spouse   Transport-moving         Husband  White   \n",
       "...                      ...                ...             ...    ...   \n",
       "29299          Never-married  Machine-op-inspct       Own-child  White   \n",
       "29300  Married-spouse-absent     Prof-specialty       Unmarried  White   \n",
       "29301     Married-civ-spouse   Transport-moving         Husband  Black   \n",
       "29302     Married-civ-spouse  Handlers-cleaners         Husband  White   \n",
       "29303          Never-married    Exec-managerial  Other-relative  White   \n",
       "\n",
       "          sex  capital.gain  capital.loss  hours.per.week native.country  \\\n",
       "0        Male          4386             0            40.0  United-States   \n",
       "1        Male             0             0            40.0  United-States   \n",
       "2      Female             0          1669            38.0  United-States   \n",
       "3        Male             0          1902            40.0  United-States   \n",
       "4        Male             0             0            54.0  United-States   \n",
       "...       ...           ...           ...             ...            ...   \n",
       "29299  Female             0             0            40.0  United-States   \n",
       "29300  Female             0             0            38.0  United-States   \n",
       "29301    Male             0             0            40.0  United-States   \n",
       "29302    Male             0             0            40.0  United-States   \n",
       "29303  Female             0             0            40.0  United-States   \n",
       "\n",
       "      income  \n",
       "0       >50K  \n",
       "1      <=50K  \n",
       "2      <=50K  \n",
       "3       >50K  \n",
       "4      <=50K  \n",
       "...      ...  \n",
       "29299  <=50K  \n",
       "29300  <=50K  \n",
       "29301  <=50K  \n",
       "29302  <=50K  \n",
       "29303  <=50K  \n",
       "\n",
       "[29304 rows x 16 columns]"
      ]
     },
     "execution_count": 1,
     "metadata": {},
     "output_type": "execute_result"
    }
   ],
   "source": [
    "\n",
    "\n",
    "# 판다스 라이브러리\n",
    "import pandas as pd\n",
    "from IPython.display import display\n",
    "\n",
    "# 데이터 불러오기\n",
    "train = pd.read_csv('인구조사DataSet/train.csv')\n",
    "test = pd.read_csv('인구조사DataSet/test.csv')\n",
    "\n",
    "train\n"
   ]
  },
  {
   "cell_type": "markdown",
   "id": "c8a5172a-b106-405f-8841-ab99757b2d72",
   "metadata": {},
   "source": [
    "# 탐색적 데이터 분석 (EDA)"
   ]
  },
  {
   "cell_type": "code",
   "execution_count": 2,
   "id": "6a959c04-e7cf-40bf-854c-8204aa24687c",
   "metadata": {},
   "outputs": [
    {
     "name": "stdout",
     "output_type": "stream",
     "text": [
      "<class 'pandas.core.frame.DataFrame'>\n",
      "RangeIndex: 29304 entries, 0 to 29303\n",
      "Data columns (total 16 columns):\n",
      " #   Column          Non-Null Count  Dtype  \n",
      "---  ------          --------------  -----  \n",
      " 0   id              29304 non-null  int64  \n",
      " 1   age             29292 non-null  float64\n",
      " 2   workclass       27642 non-null  object \n",
      " 3   fnlwgt          29304 non-null  int64  \n",
      " 4   education       29304 non-null  object \n",
      " 5   education.num   29304 non-null  int64  \n",
      " 6   marital.status  29304 non-null  object \n",
      " 7   occupation      27636 non-null  object \n",
      " 8   relationship    29304 non-null  object \n",
      " 9   race            29304 non-null  object \n",
      " 10  sex             29304 non-null  object \n",
      " 11  capital.gain    29304 non-null  int64  \n",
      " 12  capital.loss    29304 non-null  int64  \n",
      " 13  hours.per.week  29291 non-null  float64\n",
      " 14  native.country  28767 non-null  object \n",
      " 15  income          29304 non-null  object \n",
      "dtypes: float64(2), int64(5), object(9)\n",
      "memory usage: 3.6+ MB\n"
     ]
    },
    {
     "data": {
      "text/plain": [
       "income\n",
       "<=50K    22263\n",
       ">50K      7041\n",
       "Name: count, dtype: int64"
      ]
     },
     "execution_count": 2,
     "metadata": {},
     "output_type": "execute_result"
    }
   ],
   "source": [
    "# 데이터 샘플\n",
    "train.head(3)\n",
    "# 데이터 크기\n",
    "train.shape, test.shape\n",
    "# 자료형 (타입)\n",
    "train.info()\n",
    "# 수치형 컬럼 통계값 확인(train)\n",
    "train.describe()\n",
    "# 수치형 컬럼 통계값 확인(test)\n",
    "test.describe()\n",
    "# 범주형 컬럼 통계값 확인 (train)\n",
    "train.describe(include='O')\n",
    "# 범주형 컬럼 통계값 확인 (test)\n",
    "test.describe(include='object')\n",
    "# 결측치 (train)\n",
    "train.isnull().sum()\n",
    "# 결측치 (test)\n",
    "test.isnull().sum()\n",
    "# label(target)별 개수 확인\n",
    "train['income'].value_counts()"
   ]
  },
  {
   "cell_type": "code",
   "execution_count": 3,
   "id": "3ce5e9fc-a47c-4930-bdf2-cf04179a92d6",
   "metadata": {},
   "outputs": [],
   "source": [
    "# 데이터 전처리"
   ]
  },
  {
   "cell_type": "code",
   "execution_count": 4,
   "id": "af4e780d-ce4f-47e0-b228-2bd4365aba59",
   "metadata": {},
   "outputs": [
    {
     "name": "stdout",
     "output_type": "stream",
     "text": [
      "처리전: (29304, 16)\n",
      "처리후: (27096, 16)\n"
     ]
    }
   ],
   "source": [
    "# 결측치가 있는 데이터(행) 전체 삭제 및 확인 dropna() / 기본값 axis=0\n",
    "print(\"처리전:\", train.shape)\n",
    "df = train.dropna()\n",
    "print(\"처리후:\", df.shape)"
   ]
  },
  {
   "cell_type": "code",
   "execution_count": 5,
   "id": "f282da2c-d06b-435f-b5aa-aae95cb61742",
   "metadata": {},
   "outputs": [
    {
     "data": {
      "text/plain": [
       "id                 0\n",
       "age               12\n",
       "workclass          0\n",
       "fnlwgt             0\n",
       "education          0\n",
       "education.num      0\n",
       "marital.status     0\n",
       "occupation         6\n",
       "relationship       0\n",
       "race               0\n",
       "sex                0\n",
       "capital.gain       0\n",
       "capital.loss       0\n",
       "hours.per.week    13\n",
       "native.country     0\n",
       "income             0\n",
       "dtype: int64"
      ]
     },
     "execution_count": 5,
     "metadata": {},
     "output_type": "execute_result"
    }
   ],
   "source": [
    "# 결측치가 있는 특정컬럼 데이터(행)삭제\n",
    "df = train.dropna(subset=['native.country','workclass'])\n",
    "df.isnull().sum()"
   ]
  },
  {
   "cell_type": "code",
   "execution_count": 6,
   "id": "1b349956-cc41-45b0-af1e-e6aa373dbf60",
   "metadata": {},
   "outputs": [
    {
     "name": "stdout",
     "output_type": "stream",
     "text": [
      "처리전: (29304, 16)\n",
      "처리후: (29304, 11)\n"
     ]
    }
   ],
   "source": [
    "# 결측치가 있는 컬럼 삭제 dropna(axis=1)\n",
    "print(\"처리전:\", train.shape)\n",
    "df = train.dropna(axis=1)\n",
    "print(\"처리후:\", df.shape)"
   ]
  },
  {
   "cell_type": "code",
   "execution_count": 7,
   "id": "c04dfdbe-3310-4e6d-8fed-81dc8bf4a844",
   "metadata": {},
   "outputs": [
    {
     "name": "stdout",
     "output_type": "stream",
     "text": [
      "처리전: (29304, 16)\n",
      "처리후: (29304, 14)\n"
     ]
    }
   ],
   "source": [
    "# 결측치가 많은 특정 컬럼 삭제 drop\n",
    "print(\"처리전:\", train.shape)\n",
    "df = train.drop(['native.country','workclass'], axis=1)\n",
    "print(\"처리후:\", df.shape)"
   ]
  },
  {
   "cell_type": "code",
   "execution_count": 8,
   "id": "a5fbe477-e0f7-4cab-a0c6-0a6f52e7bbc3",
   "metadata": {},
   "outputs": [
    {
     "data": {
      "text/plain": [
       "id                   0\n",
       "age                 12\n",
       "workclass            0\n",
       "fnlwgt               0\n",
       "education            0\n",
       "education.num        0\n",
       "marital.status       0\n",
       "occupation        1668\n",
       "relationship         0\n",
       "race                 0\n",
       "sex                  0\n",
       "capital.gain         0\n",
       "capital.loss         0\n",
       "hours.per.week      13\n",
       "native.country       0\n",
       "income               0\n",
       "dtype: int64"
      ]
     },
     "execution_count": 8,
     "metadata": {},
     "output_type": "execute_result"
    }
   ],
   "source": [
    "# 최빈값\n",
    "m = train['workclass'].mode()[0]\n",
    "train['workclass'] = train['workclass'].fillna(m)\n",
    "\n",
    "m = train['native.country'].mode()[0]\n",
    "train['native.country'] = train['native.country'].fillna(m)\n",
    "\n",
    "train.isnull().sum()"
   ]
  },
  {
   "cell_type": "code",
   "execution_count": 9,
   "id": "7bb1f05f-f740-4933-b234-c39888b267fb",
   "metadata": {},
   "outputs": [
    {
     "data": {
      "text/plain": [
       "id                 0\n",
       "age               12\n",
       "workclass          0\n",
       "fnlwgt             0\n",
       "education          0\n",
       "education.num      0\n",
       "marital.status     0\n",
       "occupation         0\n",
       "relationship       0\n",
       "race               0\n",
       "sex                0\n",
       "capital.gain       0\n",
       "capital.loss       0\n",
       "hours.per.week    13\n",
       "native.country     0\n",
       "income             0\n",
       "dtype: int64"
      ]
     },
     "execution_count": 9,
     "metadata": {},
     "output_type": "execute_result"
    }
   ],
   "source": [
    "# 결측값을 새로운 카테고리로 생성 X_train['occupation']\n",
    "train['occupation'] = train['occupation'].fillna('X')\n",
    "train.isnull().sum()"
   ]
  },
  {
   "cell_type": "code",
   "execution_count": 10,
   "id": "05cf6536-06f6-4bf1-a73d-d990c2d450fc",
   "metadata": {},
   "outputs": [],
   "source": [
    "# test데이터\n",
    "test['workclass'] = test['workclass'].fillna(train['workclass'].mode()[0])\n",
    "test['native.country']  = test['native.country'].fillna(train['native.country'].mode()[0])\n",
    "test['occupation'] = test['occupation'].fillna(\"X\")"
   ]
  },
  {
   "cell_type": "code",
   "execution_count": 11,
   "id": "847c126c-3598-4c01-ba6d-39f4adfb6609",
   "metadata": {},
   "outputs": [
    {
     "name": "stdout",
     "output_type": "stream",
     "text": [
      "평균값: 38\n"
     ]
    }
   ],
   "source": [
    "# age 컬럼 평균값으로 채우기\n",
    "value = int(train['age'].mean())\n",
    "print(\"평균값:\", value)\n",
    "train['age'] = train['age'].fillna(value)\n",
    "test['age'] = test['age'].fillna(value)"
   ]
  },
  {
   "cell_type": "code",
   "execution_count": 12,
   "id": "b30c6cd8-581e-4c54-94a3-72186b6ffb1f",
   "metadata": {},
   "outputs": [
    {
     "name": "stdout",
     "output_type": "stream",
     "text": [
      "중앙값: 40\n"
     ]
    }
   ],
   "source": [
    "# 주당 근무시간 중앙값으로 채우기\n",
    "value = int(train['hours.per.week'].median())\n",
    "print(\"중앙값:\", value)\n",
    "train['hours.per.week'] = train['hours.per.week'].fillna(value)\n",
    "test['hours.per.week'] = test['hours.per.week'].fillna(value)"
   ]
  },
  {
   "cell_type": "code",
   "execution_count": 13,
   "id": "dfbecd3e-8aab-4f6a-8820-955d33e32cf5",
   "metadata": {},
   "outputs": [],
   "source": [
    "## 이상치 처리"
   ]
  },
  {
   "cell_type": "code",
   "execution_count": 14,
   "id": "8196176c-f401-4400-ac54-e4e5ad866933",
   "metadata": {},
   "outputs": [
    {
     "name": "stdout",
     "output_type": "stream",
     "text": [
      "(29304, 16)\n",
      "(29301, 16)\n"
     ]
    }
   ],
   "source": [
    "# age가 1이상인 데이터만 살림\n",
    "print(train.shape)\n",
    "train = train[train['age']>0]\n",
    "print(train.shape)"
   ]
  },
  {
   "cell_type": "code",
   "execution_count": 15,
   "id": "516033d8-4916-426a-b69d-ae74f1ff516e",
   "metadata": {},
   "outputs": [],
   "source": [
    "# Q1, Q3, IQR 계산\n",
    "Q1 = train['hours.per.week'].quantile(0.25)\n",
    "Q3 = train['hours.per.week'].quantile(0.75)\n",
    "IQR = Q3 - Q1"
   ]
  },
  {
   "cell_type": "code",
   "execution_count": 16,
   "id": "17d8cb02-7568-49f0-848c-c9b973dbc588",
   "metadata": {},
   "outputs": [],
   "source": [
    "# 이상치 기준 계산\n",
    "lower_bound = Q1 - 1.5 * IQR\n",
    "upper_bound = Q3 + 1.5 * IQR"
   ]
  },
  {
   "cell_type": "code",
   "execution_count": 17,
   "id": "62eec5a1-5430-41b8-8f68-c46dcbe69b19",
   "metadata": {},
   "outputs": [],
   "source": [
    "# 이상치 마스크 생성\n",
    "outlier_mask = (train['hours.per.week'] < lower_bound) | (train['hours.per.week'] > upper_bound)"
   ]
  },
  {
   "cell_type": "code",
   "execution_count": 18,
   "id": "63117749-8631-4da3-abce-1d5b17937984",
   "metadata": {},
   "outputs": [
    {
     "name": "stdout",
     "output_type": "stream",
     "text": [
      "이상치 개수: 8104\n"
     ]
    }
   ],
   "source": [
    "# 이상치 개수 확인\n",
    "print(\"이상치 개수:\", outlier_mask.sum())"
   ]
  },
  {
   "cell_type": "code",
   "execution_count": 19,
   "id": "fd37b1d6-05f7-4e6d-ae5c-5a7a86af0b36",
   "metadata": {},
   "outputs": [],
   "source": [
    "#중앙값으로 이상치 대체\n",
    "median_value = train['hours.per.week'].median()\n",
    "train_median = train.copy()\n",
    "train_median.loc[outlier_mask, 'hours.per.week'] = median_value"
   ]
  },
  {
   "cell_type": "code",
   "execution_count": 20,
   "id": "088a5cb9-9413-48c9-908d-77f5d3cc43b0",
   "metadata": {},
   "outputs": [
    {
     "name": "stdout",
     "output_type": "stream",
     "text": [
      "중앙값으로 대체 후 이상치 위치 확인 (원래 이상치 위치 기준):\n"
     ]
    },
    {
     "data": {
      "text/html": [
       "<div>\n",
       "<style scoped>\n",
       "    .dataframe tbody tr th:only-of-type {\n",
       "        vertical-align: middle;\n",
       "    }\n",
       "\n",
       "    .dataframe tbody tr th {\n",
       "        vertical-align: top;\n",
       "    }\n",
       "\n",
       "    .dataframe thead th {\n",
       "        text-align: right;\n",
       "    }\n",
       "</style>\n",
       "<table border=\"1\" class=\"dataframe\">\n",
       "  <thead>\n",
       "    <tr style=\"text-align: right;\">\n",
       "      <th></th>\n",
       "      <th>id</th>\n",
       "      <th>age</th>\n",
       "      <th>workclass</th>\n",
       "      <th>fnlwgt</th>\n",
       "      <th>education</th>\n",
       "      <th>education.num</th>\n",
       "      <th>marital.status</th>\n",
       "      <th>occupation</th>\n",
       "      <th>relationship</th>\n",
       "      <th>race</th>\n",
       "      <th>sex</th>\n",
       "      <th>capital.gain</th>\n",
       "      <th>capital.loss</th>\n",
       "      <th>hours.per.week</th>\n",
       "      <th>native.country</th>\n",
       "      <th>income</th>\n",
       "    </tr>\n",
       "  </thead>\n",
       "  <tbody>\n",
       "    <tr>\n",
       "      <th>4</th>\n",
       "      <td>12522</td>\n",
       "      <td>41.0</td>\n",
       "      <td>Private</td>\n",
       "      <td>195661</td>\n",
       "      <td>Some-college</td>\n",
       "      <td>10</td>\n",
       "      <td>Married-civ-spouse</td>\n",
       "      <td>Transport-moving</td>\n",
       "      <td>Husband</td>\n",
       "      <td>White</td>\n",
       "      <td>Male</td>\n",
       "      <td>0</td>\n",
       "      <td>0</td>\n",
       "      <td>40.0</td>\n",
       "      <td>United-States</td>\n",
       "      <td>&lt;=50K</td>\n",
       "    </tr>\n",
       "    <tr>\n",
       "      <th>6</th>\n",
       "      <td>22889</td>\n",
       "      <td>38.0</td>\n",
       "      <td>Self-emp-not-inc</td>\n",
       "      <td>103179</td>\n",
       "      <td>HS-grad</td>\n",
       "      <td>9</td>\n",
       "      <td>Married-civ-spouse</td>\n",
       "      <td>Transport-moving</td>\n",
       "      <td>Husband</td>\n",
       "      <td>White</td>\n",
       "      <td>Male</td>\n",
       "      <td>0</td>\n",
       "      <td>0</td>\n",
       "      <td>40.0</td>\n",
       "      <td>United-States</td>\n",
       "      <td>&gt;50K</td>\n",
       "    </tr>\n",
       "    <tr>\n",
       "      <th>11</th>\n",
       "      <td>1737</td>\n",
       "      <td>63.0</td>\n",
       "      <td>Self-emp-not-inc</td>\n",
       "      <td>167501</td>\n",
       "      <td>Some-college</td>\n",
       "      <td>10</td>\n",
       "      <td>Married-civ-spouse</td>\n",
       "      <td>Prof-specialty</td>\n",
       "      <td>Wife</td>\n",
       "      <td>White</td>\n",
       "      <td>Female</td>\n",
       "      <td>20051</td>\n",
       "      <td>0</td>\n",
       "      <td>40.0</td>\n",
       "      <td>United-States</td>\n",
       "      <td>&gt;50K</td>\n",
       "    </tr>\n",
       "    <tr>\n",
       "      <th>19</th>\n",
       "      <td>21519</td>\n",
       "      <td>53.0</td>\n",
       "      <td>Self-emp-not-inc</td>\n",
       "      <td>168539</td>\n",
       "      <td>9th</td>\n",
       "      <td>5</td>\n",
       "      <td>Married-civ-spouse</td>\n",
       "      <td>Farming-fishing</td>\n",
       "      <td>Husband</td>\n",
       "      <td>White</td>\n",
       "      <td>Male</td>\n",
       "      <td>0</td>\n",
       "      <td>0</td>\n",
       "      <td>40.0</td>\n",
       "      <td>United-States</td>\n",
       "      <td>&lt;=50K</td>\n",
       "    </tr>\n",
       "    <tr>\n",
       "      <th>20</th>\n",
       "      <td>9795</td>\n",
       "      <td>22.0</td>\n",
       "      <td>Federal-gov</td>\n",
       "      <td>471452</td>\n",
       "      <td>Bachelors</td>\n",
       "      <td>13</td>\n",
       "      <td>Never-married</td>\n",
       "      <td>Tech-support</td>\n",
       "      <td>Own-child</td>\n",
       "      <td>White</td>\n",
       "      <td>Male</td>\n",
       "      <td>0</td>\n",
       "      <td>0</td>\n",
       "      <td>40.0</td>\n",
       "      <td>United-States</td>\n",
       "      <td>&lt;=50K</td>\n",
       "    </tr>\n",
       "  </tbody>\n",
       "</table>\n",
       "</div>"
      ],
      "text/plain": [
       "       id   age         workclass  fnlwgt     education  education.num  \\\n",
       "4   12522  41.0           Private  195661  Some-college             10   \n",
       "6   22889  38.0  Self-emp-not-inc  103179       HS-grad              9   \n",
       "11   1737  63.0  Self-emp-not-inc  167501  Some-college             10   \n",
       "19  21519  53.0  Self-emp-not-inc  168539           9th              5   \n",
       "20   9795  22.0       Federal-gov  471452     Bachelors             13   \n",
       "\n",
       "        marital.status        occupation relationship   race     sex  \\\n",
       "4   Married-civ-spouse  Transport-moving      Husband  White    Male   \n",
       "6   Married-civ-spouse  Transport-moving      Husband  White    Male   \n",
       "11  Married-civ-spouse    Prof-specialty         Wife  White  Female   \n",
       "19  Married-civ-spouse   Farming-fishing      Husband  White    Male   \n",
       "20       Never-married      Tech-support    Own-child  White    Male   \n",
       "\n",
       "    capital.gain  capital.loss  hours.per.week native.country income  \n",
       "4              0             0            40.0  United-States  <=50K  \n",
       "6              0             0            40.0  United-States   >50K  \n",
       "11         20051             0            40.0  United-States   >50K  \n",
       "19             0             0            40.0  United-States  <=50K  \n",
       "20             0             0            40.0  United-States  <=50K  "
      ]
     },
     "metadata": {},
     "output_type": "display_data"
    },
    {
     "name": "stdout",
     "output_type": "stream",
     "text": [
      "전체 데이터 수: 29301\n"
     ]
    }
   ],
   "source": [
    "# 결과 확인\n",
    "print(\"중앙값으로 대체 후 이상치 위치 확인 (원래 이상치 위치 기준):\")\n",
    "display(train_median.loc[outlier_mask].head())\n",
    "\n",
    "print(\"전체 데이터 수:\", len(train_median))"
   ]
  },
  {
   "cell_type": "code",
   "execution_count": null,
   "id": "6e5c0ec8-7672-4032-bb02-17c3ad9e9d36",
   "metadata": {},
   "outputs": [],
   "source": []
  }
 ],
 "metadata": {
  "kernelspec": {
   "display_name": "Python 3 (ipykernel)",
   "language": "python",
   "name": "python3"
  },
  "language_info": {
   "codemirror_mode": {
    "name": "ipython",
    "version": 3
   },
   "file_extension": ".py",
   "mimetype": "text/x-python",
   "name": "python",
   "nbconvert_exporter": "python",
   "pygments_lexer": "ipython3",
   "version": "3.11.6"
  }
 },
 "nbformat": 4,
 "nbformat_minor": 5
}
