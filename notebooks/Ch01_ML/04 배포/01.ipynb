{
 "cells": [
  {
   "cell_type": "code",
   "execution_count": null,
   "id": "9acff134-f3f3-433b-a6c4-42dce88f0af8",
   "metadata": {},
   "outputs": [],
   "source": [
    "#------------------------------------------------------------------------------\n",
    "# 인구조사 데이터 이진 분류 ONLY CODE\n",
    "#------------------------------------------------------------------------------"
   ]
  },
  {
   "cell_type": "code",
   "execution_count": null,
   "id": "22ceac2d-44a7-4a43-974b-c5aab789e465",
   "metadata": {},
   "outputs": [],
   "source": [
    "#---------------------------------------\n",
    "# 문제정의 \n",
    "#---------------------------------------"
   ]
  },
  {
   "cell_type": "code",
   "execution_count": null,
   "id": "52681328-64e8-493c-ba98-43bd9d5d19c3",
   "metadata": {},
   "outputs": [],
   "source": [
    "# 5만불 이상인지 아닌지 소득 예측"
   ]
  },
  {
   "cell_type": "code",
   "execution_count": null,
   "id": "bd1e6c5b-7609-4b33-95ff-3db70ebb154c",
   "metadata": {},
   "outputs": [],
   "source": [
    "#---------------------------------------\n",
    "# 라이브러리 가져오기\n",
    "#---------------------------------------"
   ]
  },
  {
   "cell_type": "code",
   "execution_count": null,
   "id": "89b47b80-7b0a-46c2-954e-0c04e656121e",
   "metadata": {},
   "outputs": [],
   "source": [
    "# 판다스 라이브러리\n",
    "import pandas as pd\n",
    "\n",
    "# 데이터 불러오기\n",
    "train = pd.read_csv('./train.csv')\n",
    "test = pd.read_csv('./test.csv')"
   ]
  },
  {
   "cell_type": "code",
   "execution_count": null,
   "id": "281099a2-1620-486e-acc2-41c1c4d2a4f5",
   "metadata": {},
   "outputs": [],
   "source": [
    "#---------------------------------------\n",
    "# EDA\n",
    "#---------------------------------------\n",
    "# 데이터 샘플\n",
    "train.head(n)\n",
    "train.tail(n)\n",
    "train.sample(n)\n",
    "# 데이터 크기\n",
    "train.shape, test.shape\n",
    "# 자료형 (타입)\n",
    "train.info()\n",
    "# 수치형 컬럼 통계값 확인(train)\n",
    "train.describe()\n",
    "# 수치형 컬럼 통계값 확인(test)\n",
    "test.describe()\n",
    "# 범주형 컬럼 통계값 확인 (train)\n",
    "train.describe(include='O')\n",
    "# 범주형 컬럼 통계값 확인 (test)\n",
    "test.describe(include='object')\n",
    "# 결측치 (train)\n",
    "train.isnull().sum()\n",
    "# 결측치 (test)\n",
    "test.isnull().sum()\n",
    "# label(target)별 개수 확인\n",
    "train['income'].value_counts()"
   ]
  },
  {
   "cell_type": "code",
   "execution_count": null,
   "id": "4fe6367d-2800-4031-8f0a-6c18b5a1fab0",
   "metadata": {},
   "outputs": [],
   "source": [
    "#---------------------------------------\n",
    "# 데이터 전처리\n",
    "#---------------------------------------"
   ]
  },
  {
   "cell_type": "code",
   "execution_count": null,
   "id": "dc8ffd3e-6d5d-4f78-afc7-e1d09c130bed",
   "metadata": {},
   "outputs": [],
   "source": [
    "train.drop(columns=['id'], inplace=True)\n",
    "test.drop(columns=['id'], inplace=True)"
   ]
  },
  {
   "cell_type": "code",
   "execution_count": 4,
   "id": "26514b8c-8118-4619-b554-7168141b6424",
   "metadata": {},
   "outputs": [
    {
     "ename": "NameError",
     "evalue": "name 'train' is not defined",
     "output_type": "error",
     "traceback": [
      "\u001b[0;31m---------------------------------------------------------------------------\u001b[0m",
      "\u001b[0;31mNameError\u001b[0m                                 Traceback (most recent call last)",
      "Cell \u001b[0;32mIn[4], line 5\u001b[0m\n\u001b[1;32m      1\u001b[0m \u001b[38;5;66;03m#---------------------\u001b[39;00m\n\u001b[1;32m      2\u001b[0m \u001b[38;5;66;03m# 결측치 처리\u001b[39;00m\n\u001b[1;32m      3\u001b[0m \u001b[38;5;66;03m#---------------------\u001b[39;00m\n\u001b[1;32m      4\u001b[0m \u001b[38;5;66;03m# 결측치가 있는 데이터(행) 전체 삭제 및 확인 dropna() / 기본값 axis=0\u001b[39;00m\n\u001b[0;32m----> 5\u001b[0m \u001b[38;5;28mprint\u001b[39m(\u001b[38;5;124m\"\u001b[39m\u001b[38;5;124m처리전:\u001b[39m\u001b[38;5;124m\"\u001b[39m, \u001b[43mtrain\u001b[49m\u001b[38;5;241m.\u001b[39mshape)\n\u001b[1;32m      6\u001b[0m df \u001b[38;5;241m=\u001b[39m train\u001b[38;5;241m.\u001b[39mdropna()\n\u001b[1;32m      7\u001b[0m \u001b[38;5;28mprint\u001b[39m(\u001b[38;5;124m\"\u001b[39m\u001b[38;5;124m처리후:\u001b[39m\u001b[38;5;124m\"\u001b[39m, df\u001b[38;5;241m.\u001b[39mshape)\n",
      "\u001b[0;31mNameError\u001b[0m: name 'train' is not defined"
     ]
    }
   ],
   "source": [
    "#---------------------\n",
    "# 결측치 처리\n",
    "#---------------------\n",
    "# 결측치채우기[범주형]  - 최빈값\n",
    "m = train['workclass'].mode()[0]\n",
    "train['workclass'] = train['workclass'].fillna(m)\n",
    "m = train['native.country'].mode()[0]\n",
    "train['native.country'] = train['native.country'].fillna(m)\n",
    "train.isnull().sum()\n",
    "\n",
    "# 결측치채우기[범주형]  - 임의값('X')\n",
    "train['occupation'] = train['occupation'].fillna('X')\n",
    "train.isnull().sum()\n",
    "\n",
    "# 결측치 채우기[범주형] - test\n",
    "test['workclass'] = test['workclass'].fillna(train['workclass'].mode()[0])\n",
    "test['native.country']  = test['native.country'].fillna(train['native.country'].mode()[0])\n",
    "test['occupation'] = test['occupation'].fillna(\"X\")\n",
    "\n",
    "# 결측치 채우기[수치형] - 평균값\n",
    "value = int(train['age'].mean())\n",
    "print(\"평균값:\", value)\n",
    "train['age'] = train['age'].fillna(value)\n",
    "test['age'] = test['age'].fillna(value)\n",
    "\n",
    "# 결측치 채우기[수치형] - 중앙값\n",
    "value = int(train['hours.per.week'].median())\n",
    "print(\"중앙값:\", value)\n",
    "train['hours.per.week'] = train['hours.per.week'].fillna(value)\n",
    "test['hours.per.week'] = test['hours.per.week'].fillna(value)\n",
    "\n",
    "\n",
    "#---------------------\n",
    "# 이상치 처리\n",
    "#---------------------\n",
    "# age가 1이상인 데이터만 살림\n",
    "print(train.shape)\n",
    "train = train[train['age']>0]\n",
    "print(train.shape)\n",
    "\n",
    "#사분위수 이상치 범위 [예정]\n",
    "\n",
    "#---------------------\n",
    "# 인코딩[범주형 -> 수치형]\n",
    "#---------------------\n",
    "# 라벨(정답,y값) 분리\n",
    "y_train = train.pop(\"income\")\n",
    "#-----------\n",
    "# 레이블인코딩\n",
    "#----------\n",
    "\n",
    "cols = ['workclass', 'education', 'marital.status', 'occupation', 'relationship', 'race', 'sex','native.country']\n",
    "cols\n",
    "from sklearn.preprocessing import LabelEncoder\n",
    "\n",
    "for col in cols:\n",
    "    le = LabelEncoder()\n",
    "    train[col] = le.fit_transform(train[col])\n",
    "    test[col] = le.transform(test[col])\n",
    "\n",
    "train.head()\n",
    "\n",
    "# #----------\n",
    "# # 레이블인코딩(개선 - test/train fit 맞지 않는경우\n",
    "# #----------\n",
    "# for col in cols:\n",
    "#     le = LabelEncoder()\n",
    "#     le.fit(pd.concat([train[col],test[col]] ,axis=0)) # 행합치기\n",
    "#     train[col] = le.transform(train[col])\n",
    "#     test[col] = le.transform(test[col])\n",
    "    \n",
    "\n",
    "#----------\n",
    "# y 인코딩\n",
    "#----------\n",
    "target = y_train.map({'<=50K':0, '>50K':1})\n",
    "target.value_counts()\n",
    "\n",
    "\n",
    "#---------------------\n",
    "# id컬럼삭제\n",
    "#---------------------\n",
    "\n"
   ]
  },
  {
   "cell_type": "code",
   "execution_count": null,
   "id": "40a716be-7301-46cd-b78d-e5ee4ef4f61c",
   "metadata": {},
   "outputs": [],
   "source": [
    "#---------------------------------------\n",
    "# 검증 데이터 분할\n",
    "#---------------------------------------"
   ]
  },
  {
   "cell_type": "code",
   "execution_count": null,
   "id": "ec830c7a-1305-476d-a185-1845eac36b72",
   "metadata": {},
   "outputs": [],
   "source": [
    "from sklearn.model_selection import train_test_split\n",
    "\n",
    "X_train, X_val, y_train, y_val = train_test_split(train,\n",
    "                                                  y_train,\n",
    "                                                  test_size=0.2,\n",
    "                                                  random_state=0)\n",
    "X_train.shape, X_val.shape, y_train.shape, y_val.shape"
   ]
  },
  {
   "cell_type": "code",
   "execution_count": null,
   "id": "b4203118-2186-4789-8247-ce0f4b7e349d",
   "metadata": {},
   "outputs": [],
   "source": [
    "#---------------------------------------\n",
    "# 모델 학습\n",
    "#---------------------------------------"
   ]
  },
  {
   "cell_type": "code",
   "execution_count": null,
   "id": "6672c455-12c3-4bbb-a0db-edc02b68c6d3",
   "metadata": {},
   "outputs": [],
   "source": [
    "# 랜덤포레스트\n",
    "from sklearn.ensemble import RandomForestClassifier\n",
    "rf = RandomForestClassifier(random_state=0)\n",
    "rf.fit(X_train, y_train)\n",
    "pred=rf.predict_proba(X_val)  \n",
    "pred[:10]\n",
    "\n",
    "# LightGBM\n",
    "import lightgbm as lgb\n",
    "lgbmc = lgb.LGBMClassifier(random_state=0, verbose=-1)\n",
    "lgbmc.fit(X_train, y_train)\n",
    "pred = lgbmc.predict_proba(X_val)\n"
   ]
  },
  {
   "cell_type": "code",
   "execution_count": null,
   "id": "fd2df688-c961-4c57-8c07-f6ea4e5b7efc",
   "metadata": {},
   "outputs": [],
   "source": [
    "#---------------------------------------\n",
    "# 성능 평가\n",
    "#---------------------------------------"
   ]
  },
  {
   "cell_type": "code",
   "execution_count": null,
   "id": "f35d16e3-cfee-4445-af3e-d62b82c00068",
   "metadata": {},
   "outputs": [],
   "source": [
    "from sklearn.metrics import roc_auc_score\n",
    "roc_auc = roc_auc_score(y_val, pred[:,1])\n",
    "print('roc_auc:', roc_auc)\n",
    "\n",
    "from sklearn.metrics import accuracy_score\n",
    "accuracy = accuracy_score(y_val, pred)\n",
    "print('accuracy_score:', accuracy)\n",
    "\n",
    "from sklearn.metrics import f1_score\n",
    "f1 = f1_score(y_val, pred, pos_label='>50K')\n",
    "print('f1_score:', f1)"
   ]
  },
  {
   "cell_type": "code",
   "execution_count": null,
   "id": "b67ded46-3ec3-490b-bc79-dc5d55d0b1c3",
   "metadata": {},
   "outputs": [],
   "source": [
    "#---------------------------------------\n",
    "# 파일로 저장\n",
    "#---------------------------------------"
   ]
  },
  {
   "cell_type": "code",
   "execution_count": null,
   "id": "1f25f0d3-9f61-47db-a7e5-053a756bc3b6",
   "metadata": {},
   "outputs": [],
   "source": [
    "pred = lgbmc.predict_proba(test)\n",
    "pred\n",
    "\n",
    "lgbmc.classes_\n",
    "\n",
    "submit = pd.DataFrame({'pred':pred[:,1]})\n",
    "submit.to_csv(\"result.csv\", index=False)\n",
    "\n",
    "pd.read_csv(\"result.csv\")"
   ]
  },
  {
   "cell_type": "code",
   "execution_count": null,
   "id": "df9f081e-7d1d-4855-896b-e9bc661f2ba8",
   "metadata": {},
   "outputs": [],
   "source": [
    "#---------------------------------------\n",
    "# 학습결과 모델파일(model.pkl) 외부로 저장\n",
    "#---------------------------------------"
   ]
  },
  {
   "cell_type": "code",
   "execution_count": null,
   "id": "3c9c4400-c8c7-431b-aa66-e91258227b5d",
   "metadata": {},
   "outputs": [],
   "source": [
    "import joblib\n",
    "\n",
    "# 모델 저장\n",
    "model = rf\n",
    "joblib.dump(model, \"model.pkl\")"
   ]
  }
 ],
 "metadata": {
  "kernelspec": {
   "display_name": "Python 3 (ipykernel)",
   "language": "python",
   "name": "python3"
  },
  "language_info": {
   "codemirror_mode": {
    "name": "ipython",
    "version": 3
   },
   "file_extension": ".py",
   "mimetype": "text/x-python",
   "name": "python",
   "nbconvert_exporter": "python",
   "pygments_lexer": "ipython3",
   "version": "3.11.6"
  }
 },
 "nbformat": 4,
 "nbformat_minor": 5
}
