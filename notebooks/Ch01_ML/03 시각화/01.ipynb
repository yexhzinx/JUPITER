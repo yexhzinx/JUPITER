{
 "cells": [
  {
   "cell_type": "code",
   "execution_count": null,
   "id": "c96f1b0e-b3c3-408f-903f-56a20cadabf0",
   "metadata": {},
   "outputs": [],
   "source": [
    "import matplotlib.pyplot as plt\n",
    "import numpy as np\n",
    "import pandas as pd\n",
    "\n",
    "\n",
    "# 데이터 준비 (시간에 따른 주가 변화 가정)\n",
    "# x = np.linspace(0, 10, 100) # 0부터 10까지 100개의 점\n",
    "# y = np.sin(x) + np.random.normal(0, 0.1, 100)\n",
    "\n",
    "\n",
    "# # 그래프 그리기\n",
    "plt.figure(figsize=(8, 4)) # 캔버스(Figure) 크기 설정\n",
    "plt.plot(x, y, label='label', color='orange', linestyle='-') # 선 그래프 그리기\n",
    "plt.title('title') # 제목\n",
    "plt.xlabel('x_axis') # X축 레이블\n",
    "plt.ylabel('y_axis') # Y축 레이블\n",
    "plt.legend('bum') # 범례 표시\n",
    "plt.grid(True) # 그리드 표시\n",
    "plt.show() # 그래프 출력\n"
   ]
  },
  {
   "cell_type": "code",
   "execution_count": null,
   "id": "95433128-a8a9-4828-8f92-c65e663f21bc",
   "metadata": {},
   "outputs": [],
   "source": [
    "import numpy as np\n",
    "import matplotlib.pyplot as plt\n",
    "\n",
    "# 데이터 준비 (사람들의 나이 분포 가정)\n",
    "data_age = np.random.normal(loc=35, scale=10, size=500) # 평균 35, 표준편차 10\n",
    "type(data_age)\n",
    "\n",
    "\n",
    "# # plt.figure(figsize=(8, 4))\n",
    "# # # 히스토그램 그리기\n",
    "plt.hist(data_age, bins=20, edgecolor='black', color='red', alpha=0.5) \n",
    "plt.title('title')\n",
    "plt.xlabel('x')\n",
    "plt.ylabel('y')\n",
    "plt.axvline(np.mean(data_age), color='red', linestyle='dashed', linewidth=1, label=f'mean: {np.mean(data_age):.2f}') # 평균선 추가\n",
    "plt.legend()\n",
    "plt.show()"
   ]
  },
  {
   "cell_type": "code",
   "execution_count": null,
   "id": "38b08fd8-cbca-4116-90a4-a9c6d8e18447",
   "metadata": {},
   "outputs": [],
   "source": [
    "# 데이터 준비 (광고비 지출과 매출액 가정)\n",
    "ad_spend = np.random.uniform(100, 1000, 50)\n",
    "sales = ad_spend * 2.5 + np.random.normal(0, 500, 50) # 양의 상관관계\n",
    "\n",
    "plt.figure(figsize=(8, 4))\n",
    "# 산점도 그리기\n",
    "plt.scatter(ad_spend, sales, color='purple', alpha=0.6, s=50) # s는 점의 크기\n",
    "plt.title('광고 지출액과 매출액의 관계')\n",
    "plt.xlabel('광고 지출액 (독립변수)')\n",
    "plt.ylabel('매출액 (종속변수)')\n",
    "plt.show()"
   ]
  }
 ],
 "metadata": {
  "kernelspec": {
   "display_name": "Python 3 (ipykernel)",
   "language": "python",
   "name": "python3"
  },
  "language_info": {
   "codemirror_mode": {
    "name": "ipython",
    "version": 3
   },
   "file_extension": ".py",
   "mimetype": "text/x-python",
   "name": "python",
   "nbconvert_exporter": "python",
   "pygments_lexer": "ipython3",
   "version": "3.11.6"
  }
 },
 "nbformat": 4,
 "nbformat_minor": 5
}
