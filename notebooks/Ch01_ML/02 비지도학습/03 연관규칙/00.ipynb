{
 "cells": [
  {
   "cell_type": "code",
   "execution_count": null,
   "id": "8928e666-3bcd-4dec-a399-d42fe5d5def0",
   "metadata": {},
   "outputs": [],
   "source": [
    "# ----------------------------------------------------------------------\n",
    "# 연관 규칙 분석 (Association Rule Learning) 개념\n",
    "# ----------------------------------------------------------------------\n",
    "# 1. 개념\n",
    "# - 정의: 대규모 데이터에서 항목들 간의 '흥미로운 관계'나 '규칙'을 발견하는 비지도 학습 기법.\n",
    "# - 대표 예시: 장바구니 분석 (Market Basket Analysis)\n",
    "# - 규칙 형태: IF {항목 A} THEN {항목 B} (예: {맥주} -> {기저귀})\n",
    "# - 목적: 고객의 구매 패턴을 파악하여 마케팅, 상품 진열 등에 활용.\n",
    "\n",
    "# 2. 규칙 평가 주요 지표\n",
    "# - Support (지지도): P(A ∩ B)\n",
    "#   - 해석: 전체 거래 중 해당 항목 집합이 포함된 거래의 비율. (얼마나 자주 발생하는가?)\n",
    "# - Confidence (신뢰도): P(B|A)\n",
    "#   - 해석: 항목 A를 포함하는 거래 중 항목 B도 포함하는 거래의 비율. (A를 구매했을 때 B를 구매할 확률)\n",
    "# - Lift (향상도): Confidence / P(B)\n",
    "#   - 해석: A가 주어졌을 때 B의 구매 확률이 단순히 B를 구매할 확률에 비해 얼마나 증가하는지.\n",
    "#   - 기준: 1.0보다 크면 양의 연관성 (우연 이상으로 함께 나타남).\n",
    "\n",
    "# ----------------------------------------------------------------------\n",
    "# 주요 활용 모델/알고리즘\n",
    "# ----------------------------------------------------------------------\n",
    "\n",
    "# 1. Apriori 알고리즘\n",
    "# - 기본 개념: 최소 지지도를 만족하는 '빈발 항목 집합(Frequent Itemset)'을 단계적으로 찾아 규칙을 도출.\n",
    "# - 특징: 'Apriori 성질' (빈발 항목 집합의 모든 부분 집합도 빈발하다)을 사용하여 탐색 공간을 줄임.\n",
    "# - 과정: 1개 항목 집합 -> 2개 항목 집합 -> ... (항목 개수를 늘려가며 탐색).\n",
    "\n",
    "# 2. FP-Growth 알고리즘\n",
    "# - 기본 개념: 거래 데이터를 'FP-Tree(Frequent Pattern Tree)'라는 압축된 트리 구조로 저장하여 탐색.\n",
    "# - 특징:\n",
    "#   - Apriori처럼 후보 항목 집합을 생성하는 단계가 없어, 특히 대규모 데이터셋에서 더 빠름.\n",
    "#   - Apriori의 계산 비효율성을 개선함."
   ]
  }
 ],
 "metadata": {
  "kernelspec": {
   "display_name": "Python 3 (ipykernel)",
   "language": "python",
   "name": "python3"
  },
  "language_info": {
   "codemirror_mode": {
    "name": "ipython",
    "version": 3
   },
   "file_extension": ".py",
   "mimetype": "text/x-python",
   "name": "python",
   "nbconvert_exporter": "python",
   "pygments_lexer": "ipython3",
   "version": "3.11.6"
  }
 },
 "nbformat": 4,
 "nbformat_minor": 5
}
