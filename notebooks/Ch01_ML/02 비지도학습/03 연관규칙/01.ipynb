{
 "cells": [
  {
   "cell_type": "code",
   "execution_count": 1,
   "id": "1390e7e2-710b-4463-97b1-aac241480dea",
   "metadata": {},
   "outputs": [
    {
     "ename": "ModuleNotFoundError",
     "evalue": "No module named 'mlxtend'",
     "output_type": "error",
     "traceback": [
      "\u001b[0;31m---------------------------------------------------------------------------\u001b[0m",
      "\u001b[0;31mModuleNotFoundError\u001b[0m                       Traceback (most recent call last)",
      "Cell \u001b[0;32mIn[1], line 6\u001b[0m\n\u001b[1;32m      1\u001b[0m \u001b[38;5;66;03m# ----------------------------------------------------------------------\u001b[39;00m\n\u001b[1;32m      2\u001b[0m \u001b[38;5;66;03m# 1. 필요한 라이브러리 및 데이터 준비\u001b[39;00m\n\u001b[1;32m      3\u001b[0m \u001b[38;5;66;03m# ----------------------------------------------------------------------\u001b[39;00m\n\u001b[1;32m      5\u001b[0m \u001b[38;5;28;01mimport\u001b[39;00m \u001b[38;5;21;01mpandas\u001b[39;00m \u001b[38;5;28;01mas\u001b[39;00m \u001b[38;5;21;01mpd\u001b[39;00m\n\u001b[0;32m----> 6\u001b[0m \u001b[38;5;28;01mfrom\u001b[39;00m \u001b[38;5;21;01mmlxtend\u001b[39;00m\u001b[38;5;21;01m.\u001b[39;00m\u001b[38;5;21;01mfrequent_patterns\u001b[39;00m \u001b[38;5;28;01mimport\u001b[39;00m apriori\n\u001b[1;32m      7\u001b[0m \u001b[38;5;28;01mfrom\u001b[39;00m \u001b[38;5;21;01mmlxtend\u001b[39;00m\u001b[38;5;21;01m.\u001b[39;00m\u001b[38;5;21;01mfrequent_patterns\u001b[39;00m \u001b[38;5;28;01mimport\u001b[39;00m association_rules\n\u001b[1;32m      9\u001b[0m \u001b[38;5;66;03m# ----------------------------------------------------------------------\u001b[39;00m\n\u001b[1;32m     10\u001b[0m \u001b[38;5;66;03m# 예시 거래 데이터 (장바구니)\u001b[39;00m\n\u001b[1;32m     11\u001b[0m \u001b[38;5;66;03m# ----------------------------------------------------------------------\u001b[39;00m\n\u001b[1;32m     12\u001b[0m \u001b[38;5;66;03m# 각 리스트는 하나의 거래(Transaction)를 나타냅니다.\u001b[39;00m\n",
      "\u001b[0;31mModuleNotFoundError\u001b[0m: No module named 'mlxtend'"
     ]
    }
   ],
   "source": [
    "# ----------------------------------------------------------------------\n",
    "# 1. 필요한 라이브러리 및 데이터 준비\n",
    "# ----------------------------------------------------------------------\n",
    "\n",
    "import pandas as pd\n",
    "from mlxtend.frequent_patterns import apriori\n",
    "from mlxtend.frequent_patterns import association_rules\n",
    "\n",
    "# ----------------------------------------------------------------------\n",
    "# 예시 거래 데이터 (장바구니)\n",
    "# ----------------------------------------------------------------------\n",
    "# 각 리스트는 하나의 거래(Transaction)를 나타냅니다.\n",
    "transactions = [\n",
    "    ['맥주', '기저귀', '과자'],\n",
    "    ['맥주', '기저귀', '사이다'],\n",
    "    ['맥주', '우유'],\n",
    "    ['기저귀', '우유', '과자'],\n",
    "    ['맥주', '기저귀', '과자', '우유']\n",
    "]"
   ]
  },
  {
   "cell_type": "code",
   "execution_count": null,
   "id": "55237522-0179-410d-bfa0-8e90d0695ec8",
   "metadata": {},
   "outputs": [],
   "source": [
    "# ----------------------------------------------------------------------\n",
    "# 데이터 준비 및 전처리 (원-핫 인코딩)\n",
    "# ----------------------------------------------------------------------\n",
    "\n",
    "# 데이터를 DataFrame 형태로 변환 및 One-Hot Encoding\n",
    "from mlxtend.preprocessing import TransactionEncoder\n",
    "\n",
    "te = TransactionEncoder()\n",
    "# 데이터를 True/False 매트릭스로 변환\n",
    "te_ary = te.fit(transactions).transform(transactions)\n",
    "df = pd.DataFrame(te_ary, columns=te.columns_)\n",
    "\n",
    "print(\"--- One-Hot Encoding 데이터 (일부) ---\")\n",
    "print(df.head())"
   ]
  },
  {
   "cell_type": "code",
   "execution_count": null,
   "id": "41c093b2-f8b3-4457-af8c-967f33d968c5",
   "metadata": {},
   "outputs": [],
   "source": [
    "# ----------------------------------------------------------------------\n",
    "# 1.빈발 항목 집합 (Frequent Itemsets) 찾기\n",
    "# ----------------------------------------------------------------------\n",
    "# min_support: 최소 지지도 (0.6은 전체 5개 거래 중 3개 이상 포함을 의미)\n",
    "\n",
    "# 최소 지지도 0.6 (전체 거래 5개 중 3개 이상 포함) 기준으로 빈발 항목 집합 찾기\n",
    "frequent_itemsets = apriori(df, min_support=0.6, use_colnames=True)\n",
    "\n",
    "print(\"\\n--- 빈발 항목 집합 (Frequent Itemsets) ---\")\n",
    "print(frequent_itemsets)"
   ]
  },
  {
   "cell_type": "code",
   "execution_count": null,
   "id": "a52844c4-6f83-4021-9653-97d5310cd395",
   "metadata": {},
   "outputs": [],
   "source": [
    "# ----------------------------------------------------------------------\n",
    "# 2. 연관 규칙 (Association Rules) 생성 및 필터링\n",
    "# ----------------------------------------------------------------------\n",
    "# metric=\"confidence\": 규칙 평가 기준으로 신뢰도(confidence) 사용\n",
    "# min_threshold=0.75: 최소 신뢰도 75% 이상인 규칙만 선택\n",
    "\n",
    "# 최소 신뢰도 0.75 기준으로 연관 규칙 생성\n",
    "rules = association_rules(frequent_itemsets, metric=\"confidence\", min_threshold=0.75)\n",
    "\n",
    "print(\"\\n--- 연관 규칙 (Association Rules) ---\")\n",
    "# 'antecedents' (선행 항목) -> 'consequents' (후행 항목) 순으로 정렬하여 출력\n",
    "rules.sort_values(by='confidence', ascending=False)"
   ]
  },
  {
   "cell_type": "code",
   "execution_count": null,
   "id": "f04d8fa2-9bf3-442a-aa22-a0ed22acf9c9",
   "metadata": {},
   "outputs": [],
   "source": [
    "# ----------------------------------------------------------------------\n",
    "# 연관 규칙 테이블 컬럼 및 값 해석\n",
    "# ----------------------------------------------------------------------\n",
    "\n",
    "# 규칙 예시: (과자) -> (기저귀)\n",
    "# 값 예시: support=0.6, confidence=1.0, lift=1.25\n",
    "\n",
    "# 1. 항목 정의 (Rule Definition)\n",
    "# 'antecedents': 규칙의 선행 항목 (IF 조건). 예: (과자)\n",
    "# 'consequents': 규칙의 후행 항목 (THEN 결과). 예: (기저귀)\n",
    "\n",
    "# 2. 기본 빈도 및 확률 지표 (Frequency & Probability)\n",
    "# 'support': 결합 지지도. P(A ∩ B). 전체 거래 중 A와 B가 모두 포함된 비율.\n",
    "#            (예: 0.6은 과자+기저귀 구매 거래가 전체의 60%라는 의미)\n",
    "# 'antecedent support': 선행 항목 A의 지지도. P(A).\n",
    "# 'consequent support': 후행 항목 B의 지지도. P(B).\n",
    "# 'confidence': 신뢰도. P(B|A). A를 구매했을 때 B도 구매할 조건부 확률.\n",
    "#               (예: 1.0은 과자를 산 고객 100%가 기저귀도 샀다는 의미)\n",
    "\n",
    "# 3. 흥미도 및 강력함 지표 (Interest & Strength)\n",
    "# 'lift': 향상도. Confidence / Consequent Support. A 구매가 B 구매 확률을 높이는 정도.\n",
    "#         - 1.0보다 크면: 양의 연관성 (함께 팔림). 예: 1.25\n",
    "#         - 1.0이면: 독립적 관계 (영향 없음).\n",
    "#         - 1.0보다 작으면: 음의 연관성 (서로 대체재).\n",
    "# 'conviction': 규칙이 틀릴 확률의 역수. 신뢰도가 1.0일 경우 'inf' (무한대).\n",
    "#               (예: inf는 규칙이 단 한 번도 틀리지 않았음을 의미)\n",
    "# 'leverage': 지지도와 독립성의 차이. P(A ∩ B) - P(A)P(B).\n",
    "# 'zhangs_metric': -1에서 1 사이로 정규화된 규칙의 강도 및 흥미도.\n",
    "\n",
    "# 4. 기타 지표\n",
    "# 'jaccard': A 또는 B 중 A와 B가 모두 포함된 거래의 비율. P(A ∩ B) / P(A ∪ B).\n",
    "# 'certainty': 신뢰도를 보정한 지표.\n",
    "# 'kulczynski': P(B|A)와 P(A|B)의 평균. 규칙의 균형 잡힌 예측 능력 측정.\n",
    "# 'representativity': 지지도와 유사하며 규칙의 대표성 측정."
   ]
  },
  {
   "cell_type": "code",
   "execution_count": null,
   "id": "e1679073-e9ab-48b9-b7be-1cebd5562a27",
   "metadata": {},
   "outputs": [],
   "source": [
    "# ----------------------------------------------------------------------\n",
    "# 3. 결과 정리 및 핵심 지표 해석\n",
    "# ----------------------------------------------------------------------\n",
    "rules_final = rules[[\n",
    "    'antecedents',     # 선행 항목 (IF A)\n",
    "    'consequents',     # 후행 항목 (THEN B)\n",
    "    'support',         # 지지도 (A와 B가 함께 나타나는 빈도)\n",
    "    'confidence',      # 신뢰도 (A를 샀을 때 B를 살 확률 P(B|A))\n",
    "    'lift'             # 향상도 (A와 B가 우연 이상으로 함께 나타나는 정도)\n",
    "]].sort_values(by='confidence', ascending=False)\n",
    "\n",
    "\n",
    "# 💡 지표 해석 예시: (과자) -> (기저귀) 규칙\n",
    "# -------------------------------------------\n",
    "# support (0.6): 과자와 기저귀를 모두 산 거래가 전체의 60%\n",
    "# confidence (1.0): 과자를 산 고객은 100% 기저귀도 함께 샀다.\n",
    "# lift (1.25): 과자 구매가 기저귀 구매 확률을 1.25배 증가시킨다.\n",
    "# - lift가 1.0보다 크면 (1.25) -> 양의 연관성 (함께 팔림)\n",
    "# - lift가 1.0이면 -> 독립적 관계 (영향 없음)\n",
    "# - lift가 1.0보다 작으면 -> 음의 연관성 (서로 대체재)\n",
    "\n",
    "print(\"\\n--- 최종 연관 규칙 (핵심 지표) ---\")\n",
    "print(rules_final)\n"
   ]
  }
 ],
 "metadata": {
  "kernelspec": {
   "display_name": "Python 3 (ipykernel)",
   "language": "python",
   "name": "python3"
  },
  "language_info": {
   "codemirror_mode": {
    "name": "ipython",
    "version": 3
   },
   "file_extension": ".py",
   "mimetype": "text/x-python",
   "name": "python",
   "nbconvert_exporter": "python",
   "pygments_lexer": "ipython3",
   "version": "3.11.6"
  }
 },
 "nbformat": 4,
 "nbformat_minor": 5
}
