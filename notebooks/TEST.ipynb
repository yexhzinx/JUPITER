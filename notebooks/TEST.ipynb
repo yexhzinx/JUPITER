{
 "cells": [
  {
   "cell_type": "markdown",
   "id": "b38c91e5-9d05-4029-8b30-98ea7bb57a9d",
   "metadata": {},
   "source": [
    "# import requests\n",
    "\n",
    "res = requests.get(\"https://naver.com\")\n",
    "print(res.status_code)"
   ]
  }
 ],
 "metadata": {
  "kernelspec": {
   "display_name": "Python 3 (ipykernel)",
   "language": "python",
   "name": "python3"
  },
  "language_info": {
   "codemirror_mode": {
    "name": "ipython",
    "version": 3
   },
   "file_extension": ".py",
   "mimetype": "text/x-python",
   "name": "python",
   "nbconvert_exporter": "python",
   "pygments_lexer": "ipython3",
   "version": "3.11.6"
  }
 },
 "nbformat": 4,
 "nbformat_minor": 5
}
