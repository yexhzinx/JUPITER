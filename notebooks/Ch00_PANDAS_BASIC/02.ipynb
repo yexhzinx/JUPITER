{
 "cells": [
  {
   "cell_type": "code",
   "execution_count": 4,
   "id": "e1e8539e-bce0-4dcf-8c65-b74b3916d45e",
   "metadata": {},
   "outputs": [
    {
     "data": {
      "text/html": [
       "<div>\n",
       "<style scoped>\n",
       "    .dataframe tbody tr th:only-of-type {\n",
       "        vertical-align: middle;\n",
       "    }\n",
       "\n",
       "    .dataframe tbody tr th {\n",
       "        vertical-align: top;\n",
       "    }\n",
       "\n",
       "    .dataframe thead th {\n",
       "        text-align: right;\n",
       "    }\n",
       "</style>\n",
       "<table border=\"1\" class=\"dataframe\">\n",
       "  <thead>\n",
       "    <tr style=\"text-align: right;\">\n",
       "      <th></th>\n",
       "      <th>메뉴</th>\n",
       "      <th>가격</th>\n",
       "      <th>칼로리</th>\n",
       "    </tr>\n",
       "  </thead>\n",
       "  <tbody>\n",
       "    <tr>\n",
       "      <th>0</th>\n",
       "      <td>아메리카노</td>\n",
       "      <td>4500</td>\n",
       "      <td>10</td>\n",
       "    </tr>\n",
       "    <tr>\n",
       "      <th>1</th>\n",
       "      <td>카페라떼</td>\n",
       "      <td>5000</td>\n",
       "      <td>110</td>\n",
       "    </tr>\n",
       "    <tr>\n",
       "      <th>2</th>\n",
       "      <td>카페모카</td>\n",
       "      <td>5500</td>\n",
       "      <td>250</td>\n",
       "    </tr>\n",
       "    <tr>\n",
       "      <th>3</th>\n",
       "      <td>카푸치노</td>\n",
       "      <td>5000</td>\n",
       "      <td>110</td>\n",
       "    </tr>\n",
       "    <tr>\n",
       "      <th>4</th>\n",
       "      <td>에스프레소</td>\n",
       "      <td>4000</td>\n",
       "      <td>20</td>\n",
       "    </tr>\n",
       "    <tr>\n",
       "      <th>5</th>\n",
       "      <td>밀크티</td>\n",
       "      <td>5900</td>\n",
       "      <td>210</td>\n",
       "    </tr>\n",
       "    <tr>\n",
       "      <th>6</th>\n",
       "      <td>녹차</td>\n",
       "      <td>5300</td>\n",
       "      <td>0</td>\n",
       "    </tr>\n",
       "  </tbody>\n",
       "</table>\n",
       "</div>"
      ],
      "text/plain": [
       "      메뉴    가격  칼로리\n",
       "0  아메리카노  4500   10\n",
       "1   카페라떼  5000  110\n",
       "2   카페모카  5500  250\n",
       "3   카푸치노  5000  110\n",
       "4  에스프레소  4000   20\n",
       "5    밀크티  5900  210\n",
       "6     녹차  5300    0"
      ]
     },
     "execution_count": 4,
     "metadata": {},
     "output_type": "execute_result"
    }
   ],
   "source": [
    "import pandas as pd\n",
    "\n",
    "df = pd.DataFrame({\n",
    "    \"메뉴\": ['아메리카노', '카페라떼', '카페모카', '카푸치노', '에스프레소', '밀크티', '녹차'],\n",
    "    \"가격\": [4500, 5000, 5500, 5000, 4000, 5900, 5300],\n",
    "    \"칼로리\": [10, 110, 250, 110, 20, 210, 0],\n",
    "})\n",
    "# 확인: df"
   ]
  },
  {
   "cell_type": "code",
   "execution_count": 6,
   "id": "91537422-badf-4952-9179-04246742c6c2",
   "metadata": {},
   "outputs": [
    {
     "data": {
      "text/html": [
       "<div>\n",
       "<style scoped>\n",
       "    .dataframe tbody tr th:only-of-type {\n",
       "        vertical-align: middle;\n",
       "    }\n",
       "\n",
       "    .dataframe tbody tr th {\n",
       "        vertical-align: top;\n",
       "    }\n",
       "\n",
       "    .dataframe thead th {\n",
       "        text-align: right;\n",
       "    }\n",
       "</style>\n",
       "<table border=\"1\" class=\"dataframe\">\n",
       "  <thead>\n",
       "    <tr style=\"text-align: right;\">\n",
       "      <th></th>\n",
       "      <th>Unnamed: 0</th>\n",
       "      <th>메뉴</th>\n",
       "      <th>가격</th>\n",
       "      <th>칼로리</th>\n",
       "    </tr>\n",
       "  </thead>\n",
       "  <tbody>\n",
       "    <tr>\n",
       "      <th>0</th>\n",
       "      <td>0</td>\n",
       "      <td>아메리카노</td>\n",
       "      <td>4500</td>\n",
       "      <td>10</td>\n",
       "    </tr>\n",
       "    <tr>\n",
       "      <th>1</th>\n",
       "      <td>1</td>\n",
       "      <td>카페라떼</td>\n",
       "      <td>5000</td>\n",
       "      <td>110</td>\n",
       "    </tr>\n",
       "    <tr>\n",
       "      <th>2</th>\n",
       "      <td>2</td>\n",
       "      <td>카페모카</td>\n",
       "      <td>5500</td>\n",
       "      <td>250</td>\n",
       "    </tr>\n",
       "    <tr>\n",
       "      <th>3</th>\n",
       "      <td>3</td>\n",
       "      <td>카푸치노</td>\n",
       "      <td>5000</td>\n",
       "      <td>110</td>\n",
       "    </tr>\n",
       "    <tr>\n",
       "      <th>4</th>\n",
       "      <td>4</td>\n",
       "      <td>에스프레소</td>\n",
       "      <td>4000</td>\n",
       "      <td>20</td>\n",
       "    </tr>\n",
       "  </tbody>\n",
       "</table>\n",
       "</div>"
      ],
      "text/plain": [
       "   Unnamed: 0     메뉴    가격  칼로리\n",
       "0           0  아메리카노  4500   10\n",
       "1           1   카페라떼  5000  110\n",
       "2           2   카페모카  5500  250\n",
       "3           3   카푸치노  5000  110\n",
       "4           4  에스프레소  4000   20"
      ]
     },
     "execution_count": 6,
     "metadata": {},
     "output_type": "execute_result"
    }
   ],
   "source": [
    "df.to_csv(\"cafe_index.csv\")\n",
    "temp = pd.read_csv(\"cafe_index.csv\")\n",
    "# 확인: temp.head()"
   ]
  },
  {
   "cell_type": "code",
   "execution_count": 7,
   "id": "a8185c44-a5d8-4f4f-96bc-0de224393b40",
   "metadata": {},
   "outputs": [
    {
     "data": {
      "text/html": [
       "<div>\n",
       "<style scoped>\n",
       "    .dataframe tbody tr th:only-of-type {\n",
       "        vertical-align: middle;\n",
       "    }\n",
       "\n",
       "    .dataframe tbody tr th {\n",
       "        vertical-align: top;\n",
       "    }\n",
       "\n",
       "    .dataframe thead th {\n",
       "        text-align: right;\n",
       "    }\n",
       "</style>\n",
       "<table border=\"1\" class=\"dataframe\">\n",
       "  <thead>\n",
       "    <tr style=\"text-align: right;\">\n",
       "      <th></th>\n",
       "      <th>메뉴</th>\n",
       "      <th>가격</th>\n",
       "      <th>칼로리</th>\n",
       "    </tr>\n",
       "  </thead>\n",
       "  <tbody>\n",
       "    <tr>\n",
       "      <th>0</th>\n",
       "      <td>아메리카노</td>\n",
       "      <td>4500</td>\n",
       "      <td>10</td>\n",
       "    </tr>\n",
       "    <tr>\n",
       "      <th>1</th>\n",
       "      <td>카페라떼</td>\n",
       "      <td>5000</td>\n",
       "      <td>110</td>\n",
       "    </tr>\n",
       "    <tr>\n",
       "      <th>2</th>\n",
       "      <td>카페모카</td>\n",
       "      <td>5500</td>\n",
       "      <td>250</td>\n",
       "    </tr>\n",
       "    <tr>\n",
       "      <th>3</th>\n",
       "      <td>카푸치노</td>\n",
       "      <td>5000</td>\n",
       "      <td>110</td>\n",
       "    </tr>\n",
       "    <tr>\n",
       "      <th>4</th>\n",
       "      <td>에스프레소</td>\n",
       "      <td>4000</td>\n",
       "      <td>20</td>\n",
       "    </tr>\n",
       "  </tbody>\n",
       "</table>\n",
       "</div>"
      ],
      "text/plain": [
       "      메뉴    가격  칼로리\n",
       "0  아메리카노  4500   10\n",
       "1   카페라떼  5000  110\n",
       "2   카페모카  5500  250\n",
       "3   카푸치노  5000  110\n",
       "4  에스프레소  4000   20"
      ]
     },
     "execution_count": 7,
     "metadata": {},
     "output_type": "execute_result"
    }
   ],
   "source": [
    "df.to_csv(\"cafe.csv\", index=False)\n",
    "df2 = pd.read_csv(\"cafe.csv\")\n",
    "# 확인: df2.head()"
   ]
  },
  {
   "cell_type": "code",
   "execution_count": 8,
   "id": "a349a6e2-3b26-4396-88c1-797817ac0238",
   "metadata": {},
   "outputs": [
    {
     "data": {
      "text/html": [
       "<div>\n",
       "<style scoped>\n",
       "    .dataframe tbody tr th:only-of-type {\n",
       "        vertical-align: middle;\n",
       "    }\n",
       "\n",
       "    .dataframe tbody tr th {\n",
       "        vertical-align: top;\n",
       "    }\n",
       "\n",
       "    .dataframe thead th {\n",
       "        text-align: right;\n",
       "    }\n",
       "</style>\n",
       "<table border=\"1\" class=\"dataframe\">\n",
       "  <thead>\n",
       "    <tr style=\"text-align: right;\">\n",
       "      <th></th>\n",
       "      <th>메뉴</th>\n",
       "      <th>가격</th>\n",
       "      <th>칼로리</th>\n",
       "    </tr>\n",
       "  </thead>\n",
       "  <tbody>\n",
       "    <tr>\n",
       "      <th>0</th>\n",
       "      <td>아메리카노</td>\n",
       "      <td>4500</td>\n",
       "      <td>10</td>\n",
       "    </tr>\n",
       "    <tr>\n",
       "      <th>1</th>\n",
       "      <td>카페라떼</td>\n",
       "      <td>5000</td>\n",
       "      <td>110</td>\n",
       "    </tr>\n",
       "    <tr>\n",
       "      <th>2</th>\n",
       "      <td>카페모카</td>\n",
       "      <td>5500</td>\n",
       "      <td>250</td>\n",
       "    </tr>\n",
       "    <tr>\n",
       "      <th>3</th>\n",
       "      <td>카푸치노</td>\n",
       "      <td>5000</td>\n",
       "      <td>110</td>\n",
       "    </tr>\n",
       "    <tr>\n",
       "      <th>4</th>\n",
       "      <td>에스프레소</td>\n",
       "      <td>4000</td>\n",
       "      <td>20</td>\n",
       "    </tr>\n",
       "  </tbody>\n",
       "</table>\n",
       "</div>"
      ],
      "text/plain": [
       "      메뉴    가격  칼로리\n",
       "0  아메리카노  4500   10\n",
       "1   카페라떼  5000  110\n",
       "2   카페모카  5500  250\n",
       "3   카푸치노  5000  110\n",
       "4  에스프레소  4000   20"
      ]
     },
     "execution_count": 8,
     "metadata": {},
     "output_type": "execute_result"
    }
   ],
   "source": [
    "df.to_csv(\"cafe_semicolon.csv\", sep=\";\", index=False)\n",
    "df3 = pd.read_csv(\"cafe_semicolon.csv\", sep=\";\")\n",
    "# 확인: df3.head()"
   ]
  },
  {
   "cell_type": "code",
   "execution_count": 11,
   "id": "fa65dc76-ed84-4863-9af0-eec0b626c875",
   "metadata": {},
   "outputs": [
    {
     "data": {
      "text/html": [
       "<div>\n",
       "<style scoped>\n",
       "    .dataframe tbody tr th:only-of-type {\n",
       "        vertical-align: middle;\n",
       "    }\n",
       "\n",
       "    .dataframe tbody tr th {\n",
       "        vertical-align: top;\n",
       "    }\n",
       "\n",
       "    .dataframe thead th {\n",
       "        text-align: right;\n",
       "    }\n",
       "</style>\n",
       "<table border=\"1\" class=\"dataframe\">\n",
       "  <thead>\n",
       "    <tr style=\"text-align: right;\">\n",
       "      <th></th>\n",
       "      <th>메뉴</th>\n",
       "      <th>가격</th>\n",
       "    </tr>\n",
       "  </thead>\n",
       "  <tbody>\n",
       "    <tr>\n",
       "      <th>0</th>\n",
       "      <td>아메리카노</td>\n",
       "      <td>4500</td>\n",
       "    </tr>\n",
       "    <tr>\n",
       "      <th>1</th>\n",
       "      <td>카페라떼</td>\n",
       "      <td>5000</td>\n",
       "    </tr>\n",
       "    <tr>\n",
       "      <th>2</th>\n",
       "      <td>카페모카</td>\n",
       "      <td>5500</td>\n",
       "    </tr>\n",
       "    <tr>\n",
       "      <th>3</th>\n",
       "      <td>카푸치노</td>\n",
       "      <td>5000</td>\n",
       "    </tr>\n",
       "    <tr>\n",
       "      <th>4</th>\n",
       "      <td>에스프레소</td>\n",
       "      <td>4000</td>\n",
       "    </tr>\n",
       "  </tbody>\n",
       "</table>\n",
       "</div>"
      ],
      "text/plain": [
       "      메뉴    가격\n",
       "0  아메리카노  4500\n",
       "1   카페라떼  5000\n",
       "2   카페모카  5500\n",
       "3   카푸치노  5000\n",
       "4  에스프레소  4000"
      ]
     },
     "execution_count": 11,
     "metadata": {},
     "output_type": "execute_result"
    }
   ],
   "source": [
    "df.to_csv(\"cafe_menu_price.csv\", columns=[\"메뉴\", \"가격\"], index=False)\n",
    "# 확인: pd.read_csv(\"cafe_menu_price.csv\").head()"
   ]
  },
  {
   "cell_type": "code",
   "execution_count": 12,
   "id": "0a462172-f457-418a-a80f-6fbc5d740ace",
   "metadata": {},
   "outputs": [],
   "source": [
    "df.to_csv(\"cafe_utf8.csv\", index=False, encoding=\"utf-8-sig\")\n",
    "# 윈도우 환경에서 한글을 Excel로 열 경우 utf-8-sig 권장"
   ]
  },
  {
   "cell_type": "code",
   "execution_count": 14,
   "id": "de669be6-1893-434d-aa0d-a7b140cef88f",
   "metadata": {},
   "outputs": [],
   "source": [
    "df.to_excel(\"cafe.xlsx\", index=False, sheet_name=\"메뉴판\")"
   ]
  },
  {
   "cell_type": "code",
   "execution_count": 16,
   "id": "c46c7684-f44b-4090-9d19-b41ad650a06d",
   "metadata": {},
   "outputs": [
    {
     "data": {
      "text/html": [
       "<div>\n",
       "<style scoped>\n",
       "    .dataframe tbody tr th:only-of-type {\n",
       "        vertical-align: middle;\n",
       "    }\n",
       "\n",
       "    .dataframe tbody tr th {\n",
       "        vertical-align: top;\n",
       "    }\n",
       "\n",
       "    .dataframe thead th {\n",
       "        text-align: right;\n",
       "    }\n",
       "</style>\n",
       "<table border=\"1\" class=\"dataframe\">\n",
       "  <thead>\n",
       "    <tr style=\"text-align: right;\">\n",
       "      <th></th>\n",
       "      <th>메뉴</th>\n",
       "      <th>가격</th>\n",
       "      <th>칼로리</th>\n",
       "    </tr>\n",
       "  </thead>\n",
       "  <tbody>\n",
       "    <tr>\n",
       "      <th>0</th>\n",
       "      <td>아메리카노</td>\n",
       "      <td>4500</td>\n",
       "      <td>10</td>\n",
       "    </tr>\n",
       "    <tr>\n",
       "      <th>1</th>\n",
       "      <td>카페라떼</td>\n",
       "      <td>5000</td>\n",
       "      <td>110</td>\n",
       "    </tr>\n",
       "    <tr>\n",
       "      <th>2</th>\n",
       "      <td>카페모카</td>\n",
       "      <td>5500</td>\n",
       "      <td>250</td>\n",
       "    </tr>\n",
       "    <tr>\n",
       "      <th>3</th>\n",
       "      <td>카푸치노</td>\n",
       "      <td>5000</td>\n",
       "      <td>110</td>\n",
       "    </tr>\n",
       "    <tr>\n",
       "      <th>4</th>\n",
       "      <td>에스프레소</td>\n",
       "      <td>4000</td>\n",
       "      <td>20</td>\n",
       "    </tr>\n",
       "  </tbody>\n",
       "</table>\n",
       "</div>"
      ],
      "text/plain": [
       "      메뉴    가격  칼로리\n",
       "0  아메리카노  4500   10\n",
       "1   카페라떼  5000  110\n",
       "2   카페모카  5500  250\n",
       "3   카푸치노  5000  110\n",
       "4  에스프레소  4000   20"
      ]
     },
     "execution_count": 16,
     "metadata": {},
     "output_type": "execute_result"
    }
   ],
   "source": [
    "df_xls = pd.read_excel(\"cafe.xlsx\", sheet_name=\"메뉴판\")\n",
    "# 확인: df_xls.head()"
   ]
  },
  {
   "cell_type": "code",
   "execution_count": 17,
   "id": "854ec118-55a2-4bde-86ab-f25a0fe338ba",
   "metadata": {},
   "outputs": [],
   "source": [
    "df.to_json(\"cafe.json\", orient=\"records\", force_ascii=False)"
   ]
  },
  {
   "cell_type": "code",
   "execution_count": 18,
   "id": "a1581a4d-0595-4be3-bb2d-5b3b6b24b41c",
   "metadata": {},
   "outputs": [
    {
     "data": {
      "text/html": [
       "<div>\n",
       "<style scoped>\n",
       "    .dataframe tbody tr th:only-of-type {\n",
       "        vertical-align: middle;\n",
       "    }\n",
       "\n",
       "    .dataframe tbody tr th {\n",
       "        vertical-align: top;\n",
       "    }\n",
       "\n",
       "    .dataframe thead th {\n",
       "        text-align: right;\n",
       "    }\n",
       "</style>\n",
       "<table border=\"1\" class=\"dataframe\">\n",
       "  <thead>\n",
       "    <tr style=\"text-align: right;\">\n",
       "      <th></th>\n",
       "      <th>메뉴</th>\n",
       "      <th>가격</th>\n",
       "      <th>칼로리</th>\n",
       "    </tr>\n",
       "  </thead>\n",
       "  <tbody>\n",
       "    <tr>\n",
       "      <th>0</th>\n",
       "      <td>아메리카노</td>\n",
       "      <td>4500</td>\n",
       "      <td>10</td>\n",
       "    </tr>\n",
       "    <tr>\n",
       "      <th>1</th>\n",
       "      <td>카페라떼</td>\n",
       "      <td>5000</td>\n",
       "      <td>110</td>\n",
       "    </tr>\n",
       "    <tr>\n",
       "      <th>2</th>\n",
       "      <td>카페모카</td>\n",
       "      <td>5500</td>\n",
       "      <td>250</td>\n",
       "    </tr>\n",
       "    <tr>\n",
       "      <th>3</th>\n",
       "      <td>카푸치노</td>\n",
       "      <td>5000</td>\n",
       "      <td>110</td>\n",
       "    </tr>\n",
       "    <tr>\n",
       "      <th>4</th>\n",
       "      <td>에스프레소</td>\n",
       "      <td>4000</td>\n",
       "      <td>20</td>\n",
       "    </tr>\n",
       "  </tbody>\n",
       "</table>\n",
       "</div>"
      ],
      "text/plain": [
       "      메뉴    가격  칼로리\n",
       "0  아메리카노  4500   10\n",
       "1   카페라떼  5000  110\n",
       "2   카페모카  5500  250\n",
       "3   카푸치노  5000  110\n",
       "4  에스프레소  4000   20"
      ]
     },
     "execution_count": 18,
     "metadata": {},
     "output_type": "execute_result"
    }
   ],
   "source": [
    "df_json = pd.read_json(\"cafe.json\")\n",
    "# 확인: df_json.head()"
   ]
  },
  {
   "cell_type": "code",
   "execution_count": 19,
   "id": "6afa8c4f-78b7-4cf7-8fb5-6bdf4dfccd75",
   "metadata": {},
   "outputs": [],
   "source": [
    "df.to_pickle(\"cafe.pkl\")"
   ]
  },
  {
   "cell_type": "code",
   "execution_count": 20,
   "id": "8ee58c80-b456-48f3-8d1f-5f5715468b1c",
   "metadata": {},
   "outputs": [
    {
     "data": {
      "text/html": [
       "<div>\n",
       "<style scoped>\n",
       "    .dataframe tbody tr th:only-of-type {\n",
       "        vertical-align: middle;\n",
       "    }\n",
       "\n",
       "    .dataframe tbody tr th {\n",
       "        vertical-align: top;\n",
       "    }\n",
       "\n",
       "    .dataframe thead th {\n",
       "        text-align: right;\n",
       "    }\n",
       "</style>\n",
       "<table border=\"1\" class=\"dataframe\">\n",
       "  <thead>\n",
       "    <tr style=\"text-align: right;\">\n",
       "      <th></th>\n",
       "      <th>메뉴</th>\n",
       "      <th>가격</th>\n",
       "      <th>칼로리</th>\n",
       "    </tr>\n",
       "  </thead>\n",
       "  <tbody>\n",
       "    <tr>\n",
       "      <th>0</th>\n",
       "      <td>아메리카노</td>\n",
       "      <td>4500</td>\n",
       "      <td>10</td>\n",
       "    </tr>\n",
       "    <tr>\n",
       "      <th>1</th>\n",
       "      <td>카페라떼</td>\n",
       "      <td>5000</td>\n",
       "      <td>110</td>\n",
       "    </tr>\n",
       "    <tr>\n",
       "      <th>2</th>\n",
       "      <td>카페모카</td>\n",
       "      <td>5500</td>\n",
       "      <td>250</td>\n",
       "    </tr>\n",
       "    <tr>\n",
       "      <th>3</th>\n",
       "      <td>카푸치노</td>\n",
       "      <td>5000</td>\n",
       "      <td>110</td>\n",
       "    </tr>\n",
       "    <tr>\n",
       "      <th>4</th>\n",
       "      <td>에스프레소</td>\n",
       "      <td>4000</td>\n",
       "      <td>20</td>\n",
       "    </tr>\n",
       "  </tbody>\n",
       "</table>\n",
       "</div>"
      ],
      "text/plain": [
       "      메뉴    가격  칼로리\n",
       "0  아메리카노  4500   10\n",
       "1   카페라떼  5000  110\n",
       "2   카페모카  5500  250\n",
       "3   카푸치노  5000  110\n",
       "4  에스프레소  4000   20"
      ]
     },
     "execution_count": 20,
     "metadata": {},
     "output_type": "execute_result"
    }
   ],
   "source": [
    "df_pkl = pd.read_pickle(\"cafe.pkl\")\n",
    "# 확인: df_pkl.head()"
   ]
  },
  {
   "cell_type": "code",
   "execution_count": 22,
   "id": "14bdfe72-33bb-4f15-90f9-e5d99bee28d6",
   "metadata": {},
   "outputs": [],
   "source": [
    "# CSV 기본저장/불러오기\n",
    "df.to_csv(\"cafe_basic.csv\")\n",
    "df_basic = pd.read_csv(\"cafe_basic.csv\")"
   ]
  },
  {
   "cell_type": "code",
   "execution_count": 23,
   "id": "ac4b4ed0-a09c-415b-9fbc-82fe2eda2ead",
   "metadata": {},
   "outputs": [],
   "source": [
    "# 인덱스 제외 저장\n",
    "df.to_csv(\"cafe_no_index.csv\", index=False)\n",
    "df_no_index = pd.read_csv(\"cafe_no_index.csv\")"
   ]
  },
  {
   "cell_type": "code",
   "execution_count": 24,
   "id": "518a9000-d26d-4843-963d-b6c54c592596",
   "metadata": {},
   "outputs": [],
   "source": [
    "# 특정 컬럼만 저장\n",
    "df.to_csv(\"cafe_menu_price.csv\", columns=[\"메뉴\", \"가격\"], index=False)"
   ]
  },
  {
   "cell_type": "code",
   "execution_count": 25,
   "id": "c2a0acba-d7da-411b-b3fe-9d44c651e352",
   "metadata": {},
   "outputs": [],
   "source": [
    "# 구분자 변경\n",
    "df.to_csv(\"cafe_sc.csv\", sep=\";\", index=False)\n",
    "df_sc = pd.read_csv(\"cafe_sc.csv\", sep=\";\")"
   ]
  },
  {
   "cell_type": "code",
   "execution_count": 26,
   "id": "3bc2f127-83a0-4f3a-b43c-de6fad699093",
   "metadata": {},
   "outputs": [],
   "source": [
    "# 인코딩 지정\n",
    "df.to_csv(\"cafe_utf8.csv\", index=False, encoding=\"utf-8-sig\")"
   ]
  },
  {
   "cell_type": "code",
   "execution_count": 27,
   "id": "e7cee9de-8965-43d5-b484-454f0ccd0ccf",
   "metadata": {},
   "outputs": [],
   "source": [
    "# 헤더 없이 저장하고 헤더 없이 읽기\n",
    "df.to_csv(\"cafe_noheader.csv\", index=False, header=False)\n",
    "df_noheader = pd.read_csv(\"cafe_noheader.csv\", header=None)"
   ]
  },
  {
   "cell_type": "code",
   "execution_count": 28,
   "id": "34e51803-e7bb-4f93-bfd0-ba72cb2e08f5",
   "metadata": {},
   "outputs": [],
   "source": [
    "# 헤더 없이 읽되 컬럼명 지정\n",
    "df_named = pd.read_csv(\"cafe_noheader.csv\", header=None, names=['메뉴', '가격', '칼로리'])"
   ]
  },
  {
   "cell_type": "code",
   "execution_count": 29,
   "id": "ae624cec-8e9d-4822-ba4c-dd362836fd37",
   "metadata": {},
   "outputs": [],
   "source": [
    "# 특정 컬럼을 인덱스로 지정해 읽기\n",
    "df_idx = pd.read_csv(\"cafe.csv\", index_col=\"메뉴\")"
   ]
  },
  {
   "cell_type": "code",
   "execution_count": 30,
   "id": "dfb81902-2d3b-4458-a1c1-84ddbcf4c93b",
   "metadata": {},
   "outputs": [],
   "source": [
    "# 자료형 지정하여 읽기\n",
    "df_types = pd.read_csv(\"cafe.csv\", dtype={\"가격\": \"int64\", \"칼로리\": \"float64\"})"
   ]
  },
  {
   "cell_type": "code",
   "execution_count": 31,
   "id": "bac74a9a-db21-43d1-9b77-76654b2ad50e",
   "metadata": {},
   "outputs": [],
   "source": [
    "# 결측치 기호 지정\n",
    "df_na = pd.read_csv(\"cafe.csv\", na_values=[\"NA\", \"-\"])"
   ]
  },
  {
   "cell_type": "code",
   "execution_count": 32,
   "id": "64b1644d-4a87-45fc-9e12-74509813d82a",
   "metadata": {},
   "outputs": [],
   "source": [
    "# CSV 압축 저장/불러오기(gzip)\n",
    "df.to_csv(\"cafe.csv.gz\", index=False, compression=\"gzip\")\n",
    "df_gz = pd.read_csv(\"cafe.csv.gz\", compression=\"gzip\")"
   ]
  },
  {
   "cell_type": "code",
   "execution_count": 33,
   "id": "550ba52e-7f16-44b9-be4f-e859b1049d95",
   "metadata": {},
   "outputs": [],
   "source": [
    "# Excel 저장(시트 이름 지정)\n",
    "df.to_excel(\"cafe_book.xlsx\", index=False, sheet_name=\"메뉴판\")"
   ]
  },
  {
   "cell_type": "code",
   "execution_count": 34,
   "id": "38b11a25-c6d2-4323-8954-ee4a5769e152",
   "metadata": {},
   "outputs": [],
   "source": [
    "# Excel 다중 시트 저장\n",
    "with pd.ExcelWriter(\"cafe_multi.xlsx\") as writer:\n",
    "    df.to_excel(writer, sheet_name=\"전체\", index=False)\n",
    "    low_cal = df[df[\"칼로리\"] <= 100]\n",
    "    low_cal.to_excel(writer, sheet_name=\"저칼로리\", index=False)"
   ]
  },
  {
   "cell_type": "code",
   "execution_count": 35,
   "id": "75a11151-fa31-49c3-accc-ea9b3daeb4fd",
   "metadata": {},
   "outputs": [],
   "source": [
    "# Excel 특정 시트만 읽기\n",
    "df_low = pd.read_excel(\"cafe_multi.xlsx\", sheet_name=\"저칼로리\")"
   ]
  },
  {
   "cell_type": "code",
   "execution_count": 36,
   "id": "688cfbf2-ec17-4dc2-8db3-b12bd484b85a",
   "metadata": {},
   "outputs": [],
   "source": [
    "# JSON 저장(records, 한글유지)\n",
    "df.to_json(\"cafe.json\", orient=\"records\", force_ascii=False)"
   ]
  },
  {
   "cell_type": "code",
   "execution_count": 37,
   "id": "a54c2591-f35c-447b-ad14-775eab810022",
   "metadata": {},
   "outputs": [],
   "source": [
    "# JSON 읽기\n",
    "df_json = pd.read_json(\"cafe.json\")"
   ]
  },
  {
   "cell_type": "code",
   "execution_count": 38,
   "id": "409361b9-0947-41fa-a27e-e7351c7ceddb",
   "metadata": {},
   "outputs": [],
   "source": [
    "# Pickle 저장/불러오기\n",
    "df.to_pickle(\"cafe.pkl\")\n",
    "df_pkl = pd.read_pickle(\"cafe.pkl\")"
   ]
  },
  {
   "cell_type": "code",
   "execution_count": 39,
   "id": "dc65fb71-7798-43d4-8625-c370ff1cc16b",
   "metadata": {},
   "outputs": [],
   "source": [
    "# 부분저장(행 제한)\n",
    "df.head(3).to_csv(\"cafe_top3.csv\", index=False)\n",
    "df_top3 = pd.read_csv(\"cafe_top3.csv\")"
   ]
  },
  {
   "cell_type": "code",
   "execution_count": 40,
   "id": "5e61456e-6575-4974-8fe5-d91f020c3cbf",
   "metadata": {},
   "outputs": [],
   "source": [
    "# 열 이름 바꾸고 저장\n",
    "df_renamed = df.rename(columns={\"가격\": \"price\", \"칼로리\": \"kcal\"})\n",
    "df_renamed.to_csv(\"cafe_renamed.csv\", index=False)"
   ]
  },
  {
   "cell_type": "code",
   "execution_count": 41,
   "id": "0cd0990d-9c7a-4c60-87c0-31ba2abd64a6",
   "metadata": {},
   "outputs": [],
   "source": [
    "# 필터 후 저장\n",
    "high_kcal = df[df[\"칼로리\"] > 100]\n",
    "high_kcal.to_csv(\"cafe_high_kcal.csv\", index=False)"
   ]
  },
  {
   "cell_type": "code",
   "execution_count": null,
   "id": "91f87a81-a834-4a06-b36b-3d06c58ad361",
   "metadata": {},
   "outputs": [],
   "source": []
  }
 ],
 "metadata": {
  "kernelspec": {
   "display_name": "Python 3 (ipykernel)",
   "language": "python",
   "name": "python3"
  },
  "language_info": {
   "codemirror_mode": {
    "name": "ipython",
    "version": 3
   },
   "file_extension": ".py",
   "mimetype": "text/x-python",
   "name": "python",
   "nbconvert_exporter": "python",
   "pygments_lexer": "ipython3",
   "version": "3.11.6"
  }
 },
 "nbformat": 4,
 "nbformat_minor": 5
}
